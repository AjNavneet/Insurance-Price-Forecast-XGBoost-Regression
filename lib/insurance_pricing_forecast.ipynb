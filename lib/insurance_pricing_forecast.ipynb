{
  "cells": [
    {
      "cell_type": "markdown",
      "id": "2577d431",
      "metadata": {
        "id": "2577d431"
      },
      "source": [
        "# **Insurance Pricing Forecast Using XGBoost Regressor**\n"
      ]
    },
    {
      "cell_type": "markdown",
      "id": "mlSbaskh5N5q",
      "metadata": {
        "id": "mlSbaskh5N5q"
      },
      "source": [
        "## Project Overview\n",
        "\n",
        "- Insurance companies provide coverage for various expenses related to health and property. These expenses can include medical bills, home and vehicle damage, fire incidents, and financial losses. Calculating insurance premiums traditionally involves a lot of manual work and struggles to adapt to the growing complexity of data.\n",
        "\n",
        "- To thrive, insurance companies need a reliable way to predict healthcare expenses and ensure they remain profitable. Our goal is to create a machine learning model that helps determine the rates by forecasting the charges or payments made by the health insurance company, thus maintaining profitability.\n",
        "\n",
        "- In this project, our main focus will be on building an XGBoost Regressor. This model will estimate healthcare expenses based on various factors such as age, BMI, smoking habits, and more. Additionally, we'll explore how different factors are related, establish a simple regression model for comparison, and learn how to explain our findings to people who may not have technical backgrounds.\n",
        "\n",
        "---\n",
        "\n",
        "### Problem Statement\n",
        "\n",
        "For insurance companies to be profitable, they need to collect more money in premiums than they pay out to policyholders who file valid claims. To achieve this, insurance companies must accurately predict healthcare costs.\n",
        "\n",
        "- **Our goal is to make accurate predictions of healthcare costs based on the provided set of features.**\n",
        "\n",
        "---"
      ]
    },
    {
      "cell_type": "markdown",
      "id": "Y7b59q_F5xkq",
      "metadata": {
        "id": "Y7b59q_F5xkq"
      },
      "source": [
        "### Outcomes\n",
        "\n",
        "\n",
        "* Understanding the insurance pricing problem statement\n",
        "* Exploratory Data Analysis on Categorical and Continuous Data\n",
        "* Univariate Data Analysis\n",
        "* Bivariate Data Analysis\n",
        "* Understand Correlation Analysis\n",
        "* Categorical Correlation with Chi-squared \n",
        "* Correlation between Categorical and Target Variables with ANOVA\n",
        "* Label Encoding for Categorical Variables\n",
        "* Understanding Linear Regression Assumptions\n",
        "* Implementing Linear Regression\n",
        "* Validating Linear Regression Assumptions\n",
        "* Understanding XGBoost Regressor\n",
        "* Implementing XGBoost Regressor\n",
        "* Building pipelines with Sklearn’s Pipeline operator\n",
        "* Implementing BayesSearchCV for XGBoost Hyperparameter Optimization\n",
        "* Evaluating Models with Regression Metrics - RMSE\n",
        "* Presenting Non-Technical Metrics for Stakeholders\n",
        "\n",
        "---\n"
      ]
    },
    {
      "cell_type": "markdown",
      "id": "ac551be6",
      "metadata": {
        "id": "ac551be6"
      },
      "source": [
        "### Approach\n",
        "\n",
        "1. **Exploratory Data Analysis (EDA)**: We'll begin by understanding the data.\n",
        "   \n",
        "2. **Build and evaluate a baseline linear model**:\n",
        "    1. Ensure the data meets linear regression assumptions.\n",
        "    2. Prepare the data.\n",
        "    3. Train a linear model.\n",
        "    4. Evaluate the model's performance.\n",
        "   \n",
        "3. **Improve on the baseline linear model**:\n",
        "    1. Introduce a non-linear model called XGBoost.\n",
        "    2. Prepare the data.\n",
        "    3. Optimize the model training process using Sklearn's `Pipeline`.\n",
        "    4. Evaluate the model.\n",
        "    5. Compare it to the baseline model.\n",
        "\n",
        "4. **Presenting the results to non-technical stakeholders**: Communicate our findings in a way that's easy for non-technical individuals to understand.\n",
        "\n",
        "---"
      ]
    },
    {
      "cell_type": "markdown",
      "id": "0225fb74",
      "metadata": {
        "id": "0225fb74"
      },
      "source": [
        "### Key Libraries\n",
        "\n",
        "* **scikit-optimize**: [Scikit-optimize](https://scikit-optimize.github.io/stable/) is a Python library that helps improve machine learning models by optimizing them step by step.\n",
        "\n",
        "* **category_encoders**: [Category encoders](https://contrib.scikit-learn.org/category_encoders/) are tools that transform categorical data into a format that machine learning models can understand.\n",
        "\n",
        "* **xgboost**: [XGBoost](https://xgboost.readthedocs.io/en/stable/) is a versatile library for machine learning that is highly efficient. It's designed to solve a wide range of data science problems quickly and accurately.\n",
        "\n",
        "---\n"
      ]
    },
    {
      "cell_type": "markdown",
      "id": "gpGBocgmAhv8",
      "metadata": {
        "id": "gpGBocgmAhv8"
      },
      "source": [
        "### Install Packages\n"
      ]
    },
    {
      "cell_type": "code",
      "execution_count": null,
      "id": "8b5aa840",
      "metadata": {
        "id": "8b5aa840"
      },
      "outputs": [],
      "source": [
        "# ignore warnings\n",
        "import warnings\n",
        "warnings.filterwarnings('ignore')"
      ]
    },
    {
      "cell_type": "code",
      "execution_count": null,
      "id": "nQWZ2ceAAp4f",
      "metadata": {
        "id": "nQWZ2ceAAp4f"
      },
      "outputs": [],
      "source": [
        "!pip install numpy==1.21.0 --quiet\n",
        "!pip install pandas==1.5.2 --quiet\n",
        "!pip install plotly==5.11.0 --quiet\n",
        "!pip install scikit-learn==1.2.0 --quiet\n",
        "!pip install scikit-optimize==0.9.0 --quiet\n",
        "!pip install statsmodels==0.13.5 --quiet\n",
        "!pip install category_encoders==2.5.1 --quiet\n",
        "!pip install xgboost==1.7.2 --quiet\n",
        "!pip install projectpro --upgrade --quiet\n",
        "!pip install nbformat==5.7.1 --quiet\n",
        "!pip install matplotlib==3.6.2 --quiet"
      ]
    },
    {
      "cell_type": "markdown",
      "id": "J46VxK4QBQNW",
      "metadata": {
        "id": "J46VxK4QBQNW"
      },
      "source": [
        "### Data Reading from Different Sources\n",
        "\n",
        "In many cases, data is stored on your computer. To access this data, you need to specify the correct file path and name. Here's how you can do it for CSV files:\n",
        "\n",
        "#### 1. **CSV Format**\n",
        "\n",
        "CSV (Comma-Separated Values) is a way to store data in a table format. The data for this project is stored in a CSV file, which you can download [here](https://s3.amazonaws.com/projex.dezyre.com/insurance-pricing-forecast-using-regression-analysis/materials/data.zip).\n",
        "\n",
        "You can read a CSV file using the following code:\n",
        "\n",
        "```python\n",
        "import pandas as pd\n",
        "csv_file_path = \"D:/ProjectPro/Insurance Pricing Forecast Using XGBoost Regressor/data/insurance.csv\"\n",
        "df = pd.read_csv(csv_file_path)\n",
        "```\n",
        "\n",
        "Make sure the `csv_file_path` is set correctly. If you encounter a \"FileNotFoundError\" or \"No such file or directory\" error, double-check the file path.\n",
        "\n",
        "---\n",
        "\n",
        "#### 2. **Public URL and Zip Folder**\n",
        "\n",
        "You can also read data from a public URL. The data for this project is available [here](https://s3.amazonaws.com/projex.dezyre.com/insurance-pricing-forecast-using-regression-analysis/materials/data.zip).\n",
        "\n",
        "ZIP files are used to compress one or more files into a single file. This makes it easier to transmit or store. To work with the data in the ZIP file, you can use the following code:\n",
        "\n",
        "```python\n",
        "from zipfile import ZipFile\n",
        "import urllib.request\n",
        "from io import BytesIO\n",
        "\n",
        "folder = urllib.request.urlopen('https://s3.amazonaws.com/projex.dezyre.com/insurance-pricing-forecast-using-regression-analysis/materials/data.zip')\n",
        "zipfile = ZipFile(BytesIO(folder.read()))\n",
        "zipfile.namelist()\n",
        "\n",
        "# Load the data into a data frame\n",
        "df = pd.read_csv(zipfile.open('insurance.csv'))\n",
        "```\n",
        "\n",
        "This code will help you access the data stored in the ZIP file.\n",
        "\n",
        "---\n"
      ]
    },
    {
      "cell_type": "markdown",
      "id": "xtiGOMbP8tlb",
      "metadata": {
        "id": "xtiGOMbP8tlb"
      },
      "source": [
        "### **Import Libraries**"
      ]
    },
    {
      "cell_type": "code",
      "execution_count": null,
      "id": "ce718a41",
      "metadata": {
        "id": "ce718a41"
      },
      "outputs": [],
      "source": [
        "# Import libraries\n",
        "import pandas as pd\n",
        "import numpy as np\n",
        "import plotly.express as px\n",
        "import sys\n",
        "from sklearn.model_selection import train_test_split\n",
        "from category_encoders import OneHotEncoder\n",
        "from sklearn.linear_model import LinearRegression\n",
        "import statsmodels.api as sm\n",
        "import math\n",
        "from xgboost import XGBRegressor\n",
        "from sklearn.pipeline import Pipeline\n",
        "from skopt import BayesSearchCV\n",
        "from skopt.space import Real, Categorical, Integer\n",
        "from sklearn.preprocessing import StandardScaler, PowerTransformer\n",
        "from sklearn.feature_selection import RFE\n",
        "import projectpro\n",
        "projectpro.checkpoint('1e808c')"
      ]
    },
    {
      "cell_type": "markdown",
      "id": "324ed996",
      "metadata": {
        "id": "324ed996"
      },
      "source": [
        "And the functions in the `ml_pipeline` folder:"
      ]
    },
    {
      "cell_type": "code",
      "execution_count": null,
      "id": "c88db479",
      "metadata": {
        "id": "c88db479"
      },
      "outputs": [],
      "source": [
        "# ml_pipeline folder should be in the same directory as the notebook, append the path and import functions\n",
        "import sys\n",
        "\n",
        "# Append the path to the \"ml_pipeline\" directory\n",
        "sys.path.append('ml_pipeline/')\n",
        "\n",
        "# Import specific functions from the modules in \"ml_pipeline\"\n",
        "from eda import plot_histograms, plot_univariate_numeric, plot_univariate_categorical, \\\n",
        "plot_heatmap, plot_paired_boxplots, plot_paired_scatterplots, plot_residuals, plot_pearson_wrt_target\n",
        "from stats import chi2, anova\n",
        "from model_performance import calc_model_performance, compare_model_performance, calc_preds_in_residual_range,\\\n",
        "calc_preds_in_residual_perc_range\n"
      ]
    },
    {
      "cell_type": "markdown",
      "id": "9fc4cd74",
      "metadata": {
        "id": "9fc4cd74"
      },
      "source": [
        "## **Exploratory Data Analysis (EDA)**"
      ]
    },
    {
      "cell_type": "code",
      "execution_count": null,
      "id": "981e003b",
      "metadata": {
        "id": "981e003b"
      },
      "outputs": [],
      "source": [
        "# Read the CSV file from the specified path\n",
        "data = pd.read_csv('../data/insurance.csv')\n"
      ]
    },
    {
      "cell_type": "code",
      "execution_count": null,
      "id": "9cc1cadc",
      "metadata": {
        "id": "9cc1cadc",
        "outputId": "939fda20-0885-405c-8a22-4e906e805b34"
      },
      "outputs": [
        {
          "data": {
            "text/html": [
              "<div>\n",
              "<style scoped>\n",
              "    .dataframe tbody tr th:only-of-type {\n",
              "        vertical-align: middle;\n",
              "    }\n",
              "\n",
              "    .dataframe tbody tr th {\n",
              "        vertical-align: top;\n",
              "    }\n",
              "\n",
              "    .dataframe thead th {\n",
              "        text-align: right;\n",
              "    }\n",
              "</style>\n",
              "<table border=\"1\" class=\"dataframe\">\n",
              "  <thead>\n",
              "    <tr style=\"text-align: right;\">\n",
              "      <th></th>\n",
              "      <th>age</th>\n",
              "      <th>sex</th>\n",
              "      <th>bmi</th>\n",
              "      <th>children</th>\n",
              "      <th>smoker</th>\n",
              "      <th>region</th>\n",
              "      <th>charges</th>\n",
              "    </tr>\n",
              "  </thead>\n",
              "  <tbody>\n",
              "    <tr>\n",
              "      <th>0</th>\n",
              "      <td>19</td>\n",
              "      <td>female</td>\n",
              "      <td>27.900</td>\n",
              "      <td>0</td>\n",
              "      <td>yes</td>\n",
              "      <td>southwest</td>\n",
              "      <td>16884.92400</td>\n",
              "    </tr>\n",
              "    <tr>\n",
              "      <th>1</th>\n",
              "      <td>18</td>\n",
              "      <td>male</td>\n",
              "      <td>33.770</td>\n",
              "      <td>1</td>\n",
              "      <td>no</td>\n",
              "      <td>southeast</td>\n",
              "      <td>1725.55230</td>\n",
              "    </tr>\n",
              "    <tr>\n",
              "      <th>2</th>\n",
              "      <td>28</td>\n",
              "      <td>male</td>\n",
              "      <td>33.000</td>\n",
              "      <td>3</td>\n",
              "      <td>no</td>\n",
              "      <td>southeast</td>\n",
              "      <td>4449.46200</td>\n",
              "    </tr>\n",
              "    <tr>\n",
              "      <th>3</th>\n",
              "      <td>33</td>\n",
              "      <td>male</td>\n",
              "      <td>22.705</td>\n",
              "      <td>0</td>\n",
              "      <td>no</td>\n",
              "      <td>northwest</td>\n",
              "      <td>21984.47061</td>\n",
              "    </tr>\n",
              "    <tr>\n",
              "      <th>4</th>\n",
              "      <td>32</td>\n",
              "      <td>male</td>\n",
              "      <td>28.880</td>\n",
              "      <td>0</td>\n",
              "      <td>no</td>\n",
              "      <td>northwest</td>\n",
              "      <td>3866.85520</td>\n",
              "    </tr>\n",
              "  </tbody>\n",
              "</table>\n",
              "</div>"
            ],
            "text/plain": [
              "   age     sex     bmi  children smoker     region      charges\n",
              "0   19  female  27.900         0    yes  southwest  16884.92400\n",
              "1   18    male  33.770         1     no  southeast   1725.55230\n",
              "2   28    male  33.000         3     no  southeast   4449.46200\n",
              "3   33    male  22.705         0     no  northwest  21984.47061\n",
              "4   32    male  28.880         0     no  northwest   3866.85520"
            ]
          },
          "execution_count": 5,
          "metadata": {},
          "output_type": "execute_result"
        }
      ],
      "source": [
        "data.head()"
      ]
    },
    {
      "cell_type": "markdown",
      "id": "9bfd9f75",
      "metadata": {
        "id": "9bfd9f75"
      },
      "source": [
        "### **Data Dictionary**\n",
        "\n",
        "The column defintions are below:\n",
        "\n",
        "* `age`: Age of primary beneficiary.\n",
        "* `sex`: Gender of primary benficiary.\n",
        "* `bmi`: Body mass index of primary benficiary: $\\frac{weight_{kg}}{(height_{metres})^2}$\n",
        "* `children`: Number of children that the primary beneficiary has.\n",
        "* `smoker`: Whether the primary beneficiary smokes.\n",
        "* `region`: The primary beneficiary's residential area in the US.\n",
        "* `charges`: Individual medical costs billed by health insurance."
      ]
    },
    {
      "cell_type": "code",
      "execution_count": null,
      "id": "73cce8a6",
      "metadata": {
        "id": "73cce8a6",
        "outputId": "2df579ce-ac6f-4dc9-915f-16e3c4cc0de9"
      },
      "outputs": [
        {
          "name": "stdout",
          "output_type": "stream",
          "text": [
            "<class 'pandas.core.frame.DataFrame'>\n",
            "RangeIndex: 1338 entries, 0 to 1337\n",
            "Data columns (total 7 columns):\n",
            " #   Column    Non-Null Count  Dtype  \n",
            "---  ------    --------------  -----  \n",
            " 0   age       1338 non-null   int64  \n",
            " 1   sex       1338 non-null   object \n",
            " 2   bmi       1338 non-null   float64\n",
            " 3   children  1338 non-null   int64  \n",
            " 4   smoker    1338 non-null   object \n",
            " 5   region    1338 non-null   object \n",
            " 6   charges   1338 non-null   float64\n",
            "dtypes: float64(2), int64(2), object(3)\n",
            "memory usage: 73.3+ KB\n"
          ]
        }
      ],
      "source": [
        "data.info()"
      ]
    },
    {
      "cell_type": "markdown",
      "id": "633851df",
      "metadata": {
        "id": "633851df"
      },
      "source": [
        "- So we have three numeric features (`age`, `bmi` and `children`) and three categorical features (`sex`, `smoker` and `region`).\n",
        "\n",
        "- **NOTE:** there are no null values in any of the columns, which means we won't need to impute values in the **Data preprocessing** step. This, however, is usually a step that you'll need to consider when building a machine learning model.\n",
        "\n",
        "- The target (i.e. the variable that we want to predict) is the `charges` column, so let's split the dataset into features (`X`) and the target (`y`):\n"
      ]
    },
    {
      "cell_type": "code",
      "execution_count": null,
      "id": "66e040b4",
      "metadata": {
        "id": "66e040b4"
      },
      "outputs": [],
      "source": [
        "# Define the target variable as 'charges'\n",
        "target = 'charges'\n",
        "\n",
        "# Create feature variables (X) by dropping the target column\n",
        "X = data.drop(target, axis=1)\n",
        "\n",
        "# Create the target variable (y) by selecting the 'charges' column\n",
        "y = data[target]\n"
      ]
    },
    {
      "cell_type": "code",
      "execution_count": null,
      "id": "0c36aa50",
      "metadata": {
        "id": "0c36aa50",
        "outputId": "0bb6a523-be19-4037-fadc-58336477c5fc"
      },
      "outputs": [
        {
          "data": {
            "text/plain": [
              "((1338, 6), (1338,))"
            ]
          },
          "execution_count": 8,
          "metadata": {},
          "output_type": "execute_result"
        }
      ],
      "source": [
        "X.shape, y.shape"
      ]
    },
    {
      "cell_type": "markdown",
      "id": "5f6c65a1",
      "metadata": {
        "id": "5f6c65a1"
      },
      "source": [
        "### **Distributions**"
      ]
    },
    {
      "cell_type": "code",
      "execution_count": null,
      "id": "f8313df5",
      "metadata": {
        "id": "f8313df5",
        "outputId": "506bfef4-af84-480a-e6d4-cf8942f6ade8"
      },
      "outputs": [],
      "source": [
        "# Plot histograms for each feature\n",
        "plot_histograms(X)\n"
      ]
    },
    {
      "cell_type": "markdown",
      "id": "84f40c83",
      "metadata": {
        "id": "84f40c83"
      },
      "source": [
        "- Points to note regarding the distribution of each feature:\n",
        "\n",
        "    * `age` - Approximately uniformly distributed.\n",
        "    * `sex` - Approximately equal volume in each category.\n",
        "    * `bmi` - Approximately normally distributed.\n",
        "    * `children` - Right skewed (i.e. higher volume in lower range).\n",
        "    * `smoker` - Significantly more volume in the `no` category vs the `yes` category.\n",
        "    * `region` - Approximately equal volume in each category."
      ]
    },
    {
      "cell_type": "markdown",
      "id": "3a834b05",
      "metadata": {
        "id": "3a834b05"
      },
      "source": [
        "- We can also observe the distribution of the target:"
      ]
    },
    {
      "cell_type": "code",
      "execution_count": null,
      "id": "7f3dbf40",
      "metadata": {
        "id": "7f3dbf40",
        "outputId": "448b4c2b-1861-48a4-ea69-f0b3fb56bd2d"
      },
      "outputs": [
        {
          "data": {
            "application/vnd.plotly.v1+json": {
              "config": {
                "plotlyServerURL": "https://plot.ly"
              },
              "data": [
                {
                  "name": "charges",
                  "type": "histogram",
                  "x": [
                    16884.924,
                    1725.5523,
                    4449.462,
                    21984.47061,
                    3866.8552,
                    3756.6216,
                    8240.5896,
                    7281.5056,
                    6406.4107,
                    28923.13692,
                    2721.3208,
                    27808.7251,
                    1826.843,
                    11090.7178,
                    39611.7577,
                    1837.237,
                    10797.3362,
                    2395.17155,
                    10602.385,
                    36837.467,
                    13228.84695,
                    4149.736,
                    1137.011,
                    37701.8768,
                    6203.90175,
                    14001.1338,
                    14451.83515,
                    12268.63225,
                    2775.19215,
                    38711,
                    35585.576,
                    2198.18985,
                    4687.797,
                    13770.0979,
                    51194.55914,
                    1625.43375,
                    15612.19335,
                    2302.3,
                    39774.2763,
                    48173.361,
                    3046.062,
                    4949.7587,
                    6272.4772,
                    6313.759,
                    6079.6715,
                    20630.28351,
                    3393.35635,
                    3556.9223,
                    12629.8967,
                    38709.176,
                    2211.13075,
                    3579.8287,
                    23568.272,
                    37742.5757,
                    8059.6791,
                    47496.49445,
                    13607.36875,
                    34303.1672,
                    23244.7902,
                    5989.52365,
                    8606.2174,
                    4504.6624,
                    30166.61817,
                    4133.64165,
                    14711.7438,
                    1743.214,
                    14235.072,
                    6389.37785,
                    5920.1041,
                    17663.1442,
                    16577.7795,
                    6799.458,
                    11741.726,
                    11946.6259,
                    7726.854,
                    11356.6609,
                    3947.4131,
                    1532.4697,
                    2755.02095,
                    6571.02435,
                    4441.21315,
                    7935.29115,
                    37165.1638,
                    11033.6617,
                    39836.519,
                    21098.55405,
                    43578.9394,
                    11073.176,
                    8026.6666,
                    11082.5772,
                    2026.9741,
                    10942.13205,
                    30184.9367,
                    5729.0053,
                    47291.055,
                    3766.8838,
                    12105.32,
                    10226.2842,
                    22412.6485,
                    15820.699,
                    6186.127,
                    3645.0894,
                    21344.8467,
                    30942.1918,
                    5003.853,
                    17560.37975,
                    2331.519,
                    3877.30425,
                    2867.1196,
                    47055.5321,
                    10825.2537,
                    11881.358,
                    4646.759,
                    2404.7338,
                    11488.31695,
                    30259.99556,
                    11381.3254,
                    19107.7796,
                    8601.3293,
                    6686.4313,
                    7740.337,
                    1705.6245,
                    2257.47525,
                    39556.4945,
                    10115.00885,
                    3385.39915,
                    17081.08,
                    9634.538,
                    32734.1863,
                    6082.405,
                    12815.44495,
                    13616.3586,
                    11163.568,
                    1632.56445,
                    2457.21115,
                    2155.6815,
                    1261.442,
                    2045.68525,
                    27322.73386,
                    2166.732,
                    27375.90478,
                    3490.5491,
                    18972.495,
                    18157.876,
                    20745.9891,
                    5138.2567,
                    40720.55105,
                    9877.6077,
                    10959.6947,
                    1842.519,
                    5125.2157,
                    7789.635,
                    6334.34355,
                    19964.7463,
                    7077.1894,
                    6948.7008,
                    21223.6758,
                    15518.18025,
                    36950.2567,
                    19749.38338,
                    21348.706,
                    36149.4835,
                    10450.552,
                    5152.134,
                    5028.1466,
                    10407.08585,
                    4830.63,
                    6128.79745,
                    2719.27975,
                    4827.90495,
                    13405.3903,
                    8116.68,
                    1694.7964,
                    5246.047,
                    2855.43755,
                    48824.45,
                    6455.86265,
                    10436.096,
                    8823.279,
                    8538.28845,
                    11735.87905,
                    1631.8212,
                    4005.4225,
                    7419.4779,
                    7731.4271,
                    43753.33705,
                    3981.9768,
                    5325.651,
                    6775.961,
                    4922.9159,
                    12557.6053,
                    4883.866,
                    2137.6536,
                    12044.342,
                    1137.4697,
                    1639.5631,
                    5649.715,
                    8516.829,
                    9644.2525,
                    14901.5167,
                    2130.6759,
                    8871.1517,
                    13012.20865,
                    37133.8982,
                    7147.105,
                    4337.7352,
                    11743.299,
                    20984.0936,
                    13880.949,
                    6610.1097,
                    1980.07,
                    8162.71625,
                    3537.703,
                    5002.7827,
                    8520.026,
                    7371.772,
                    10355.641,
                    2483.736,
                    3392.9768,
                    25081.76784,
                    5012.471,
                    10564.8845,
                    5253.524,
                    34779.615,
                    19515.5416,
                    11987.1682,
                    2689.4954,
                    24227.33724,
                    7358.17565,
                    9225.2564,
                    7443.64305,
                    14001.2867,
                    1727.785,
                    12333.828,
                    6710.1919,
                    19444.2658,
                    1615.7667,
                    4463.2051,
                    17352.6803,
                    7152.6714,
                    38511.6283,
                    5354.07465,
                    35160.13457,
                    7196.867,
                    29523.1656,
                    24476.47851,
                    12648.7034,
                    1986.9334,
                    1832.094,
                    4040.55825,
                    12829.4551,
                    47305.305,
                    44260.7499,
                    4260.744,
                    41097.16175,
                    13047.33235,
                    43921.1837,
                    5400.9805,
                    11520.09985,
                    33750.2918,
                    11837.16,
                    17085.2676,
                    24869.8368,
                    36219.40545,
                    20462.99766,
                    46151.1245,
                    17179.522,
                    14590.63205,
                    7441.053,
                    9282.4806,
                    1719.4363,
                    42856.838,
                    7265.7025,
                    9617.66245,
                    2523.1695,
                    9715.841,
                    2803.69785,
                    2150.469,
                    12928.7911,
                    9855.1314,
                    22331.5668,
                    48549.17835,
                    4237.12655,
                    11879.10405,
                    9625.92,
                    7742.1098,
                    9432.9253,
                    14256.1928,
                    47896.79135,
                    25992.82104,
                    3172.018,
                    20277.80751,
                    42112.2356,
                    2156.7518,
                    3906.127,
                    1704.5681,
                    16297.846,
                    21978.6769,
                    38746.3551,
                    9249.4952,
                    6746.7425,
                    24873.3849,
                    12265.5069,
                    4349.462,
                    12646.207,
                    19442.3535,
                    20177.67113,
                    4151.0287,
                    11944.59435,
                    7749.1564,
                    8444.474,
                    1737.376,
                    42124.5153,
                    8124.4084,
                    34838.873,
                    9722.7695,
                    8835.26495,
                    10435.06525,
                    7421.19455,
                    4667.60765,
                    4894.7533,
                    24671.66334,
                    35491.64,
                    11566.30055,
                    2866.091,
                    6600.20595,
                    3561.8889,
                    42760.5022,
                    47928.03,
                    9144.565,
                    48517.56315,
                    24393.6224,
                    13429.0354,
                    11658.37915,
                    19144.57652,
                    13822.803,
                    12142.5786,
                    13937.6665,
                    41919.097,
                    8232.6388,
                    18955.22017,
                    13352.0998,
                    13217.0945,
                    13981.85035,
                    10977.2063,
                    6184.2994,
                    4889.9995,
                    8334.45755,
                    5478.0368,
                    1635.73365,
                    11830.6072,
                    8932.084,
                    3554.203,
                    12404.8791,
                    14133.03775,
                    24603.04837,
                    8944.1151,
                    9620.3307,
                    1837.2819,
                    1607.5101,
                    10043.249,
                    4751.07,
                    13844.506,
                    2597.779,
                    3180.5101,
                    9778.3472,
                    13430.265,
                    8017.06115,
                    8116.26885,
                    3481.868,
                    13415.0381,
                    12029.2867,
                    7639.41745,
                    36085.219,
                    1391.5287,
                    18033.9679,
                    21659.9301,
                    38126.2465,
                    16455.70785,
                    27000.98473,
                    15006.57945,
                    42303.69215,
                    20781.48892,
                    5846.9176,
                    8302.53565,
                    1261.859,
                    11856.4115,
                    30284.64294,
                    3176.8159,
                    4618.0799,
                    10736.87075,
                    2138.0707,
                    8964.06055,
                    9290.1395,
                    9411.005,
                    7526.70645,
                    8522.003,
                    16586.49771,
                    14988.432,
                    1631.6683,
                    9264.797,
                    8083.9198,
                    14692.66935,
                    10269.46,
                    3260.199,
                    11396.9002,
                    4185.0979,
                    8539.671,
                    6652.5288,
                    4074.4537,
                    1621.3402,
                    19594.80965,
                    14455.64405,
                    5080.096,
                    2134.9015,
                    7345.7266,
                    9140.951,
                    18608.262,
                    14418.2804,
                    28950.4692,
                    46889.2612,
                    46599.1084,
                    39125.33225,
                    2727.3951,
                    8968.33,
                    9788.8659,
                    6555.07035,
                    7323.734819,
                    3167.45585,
                    18804.7524,
                    23082.95533,
                    4906.40965,
                    5969.723,
                    12638.195,
                    4243.59005,
                    13919.8229,
                    2254.7967,
                    5926.846,
                    12592.5345,
                    2897.3235,
                    4738.2682,
                    37079.372,
                    1149.3959,
                    28287.89766,
                    26109.32905,
                    7345.084,
                    12730.9996,
                    11454.0215,
                    5910.944,
                    4762.329,
                    7512.267,
                    4032.2407,
                    1969.614,
                    1769.53165,
                    4686.3887,
                    21797.0004,
                    11881.9696,
                    11840.77505,
                    10601.412,
                    7682.67,
                    10381.4787,
                    22144.032,
                    15230.32405,
                    11165.41765,
                    1632.03625,
                    19521.9682,
                    13224.693,
                    12643.3778,
                    23288.9284,
                    2201.0971,
                    2497.0383,
                    2203.47185,
                    1744.465,
                    20878.78443,
                    25382.297,
                    28868.6639,
                    35147.52848,
                    2534.39375,
                    1534.3045,
                    1824.2854,
                    15555.18875,
                    9304.7019,
                    1622.1885,
                    9880.068,
                    9563.029,
                    4347.02335,
                    12475.3513,
                    1253.936,
                    48885.13561,
                    10461.9794,
                    1748.774,
                    24513.09126,
                    2196.4732,
                    12574.049,
                    17942.106,
                    1967.0227,
                    4931.647,
                    8027.968,
                    8211.1002,
                    13470.86,
                    36197.699,
                    6837.3687,
                    22218.1149,
                    32548.3405,
                    5974.3847,
                    6796.86325,
                    2643.2685,
                    3077.0955,
                    3044.2133,
                    11455.28,
                    11763.0009,
                    2498.4144,
                    9361.3268,
                    1256.299,
                    21082.16,
                    11362.755,
                    27724.28875,
                    8413.46305,
                    5240.765,
                    3857.75925,
                    25656.57526,
                    3994.1778,
                    9866.30485,
                    5397.6167,
                    38245.59327,
                    11482.63485,
                    24059.68019,
                    9861.025,
                    8342.90875,
                    1708.0014,
                    48675.5177,
                    14043.4767,
                    12925.886,
                    19214.70553,
                    13831.1152,
                    6067.12675,
                    5972.378,
                    8825.086,
                    8233.0975,
                    27346.04207,
                    6196.448,
                    3056.3881,
                    13887.204,
                    63770.42801,
                    10231.4999,
                    23807.2406,
                    3268.84665,
                    11538.421,
                    3213.62205,
                    45863.205,
                    13390.559,
                    3972.9247,
                    12957.118,
                    11187.6567,
                    17878.90068,
                    3847.674,
                    8334.5896,
                    3935.1799,
                    39983.42595,
                    1646.4297,
                    9193.8385,
                    10923.9332,
                    2494.022,
                    9058.7303,
                    2801.2588,
                    2128.43105,
                    6373.55735,
                    7256.7231,
                    11552.904,
                    45702.02235,
                    3761.292,
                    2219.4451,
                    4753.6368,
                    31620.00106,
                    13224.05705,
                    12222.8983,
                    1664.9996,
                    58571.07448,
                    9724.53,
                    3206.49135,
                    12913.9924,
                    1639.5631,
                    6356.2707,
                    17626.23951,
                    1242.816,
                    4779.6023,
                    3861.20965,
                    43943.8761,
                    13635.6379,
                    5976.8311,
                    11842.442,
                    8428.0693,
                    2566.4707,
                    15359.1045,
                    5709.1644,
                    8823.98575,
                    7640.3092,
                    5594.8455,
                    7441.501,
                    33471.97189,
                    1633.0444,
                    9174.13565,
                    11070.535,
                    16085.1275,
                    17468.9839,
                    9283.562,
                    3558.62025,
                    25678.77845,
                    4435.0942,
                    39241.442,
                    8547.6913,
                    6571.544,
                    2207.69745,
                    6753.038,
                    1880.07,
                    42969.8527,
                    11658.11505,
                    23306.547,
                    34439.8559,
                    10713.644,
                    3659.346,
                    40182.246,
                    9182.17,
                    34617.84065,
                    12129.61415,
                    3736.4647,
                    6748.5912,
                    11326.71487,
                    11365.952,
                    42983.4585,
                    10085.846,
                    1977.815,
                    3366.6697,
                    7173.35995,
                    9391.346,
                    14410.9321,
                    2709.1119,
                    24915.04626,
                    20149.3229,
                    12949.1554,
                    6666.243,
                    32787.45859,
                    13143.86485,
                    4466.6214,
                    18806.14547,
                    10141.1362,
                    6123.5688,
                    8252.2843,
                    1712.227,
                    12430.95335,
                    9800.8882,
                    10579.711,
                    8280.6227,
                    8527.532,
                    12244.531,
                    24667.419,
                    3410.324,
                    4058.71245,
                    26392.26029,
                    14394.39815,
                    6435.6237,
                    22192.43711,
                    5148.5526,
                    1136.3994,
                    27037.9141,
                    42560.4304,
                    8703.456,
                    40003.33225,
                    45710.20785,
                    6500.2359,
                    4837.5823,
                    3943.5954,
                    4399.731,
                    6185.3208,
                    46200.9851,
                    7222.78625,
                    12485.8009,
                    46130.5265,
                    12363.547,
                    10156.7832,
                    2585.269,
                    1242.26,
                    40103.89,
                    9863.4718,
                    4766.022,
                    11244.3769,
                    7729.64575,
                    5438.7491,
                    26236.57997,
                    34806.4677,
                    2104.1134,
                    8068.185,
                    2362.22905,
                    2352.96845,
                    3577.999,
                    3201.24515,
                    29186.48236,
                    40273.6455,
                    10976.24575,
                    3500.6123,
                    2020.5523,
                    9541.69555,
                    9504.3103,
                    5385.3379,
                    8930.93455,
                    5375.038,
                    44400.4064,
                    10264.4421,
                    6113.23105,
                    5469.0066,
                    1727.54,
                    10107.2206,
                    8310.83915,
                    1984.4533,
                    2457.502,
                    12146.971,
                    9566.9909,
                    13112.6048,
                    10848.1343,
                    12231.6136,
                    9875.6804,
                    11264.541,
                    12979.358,
                    1263.249,
                    10106.13425,
                    40932.4295,
                    6664.68595,
                    16657.71745,
                    2217.6012,
                    6781.3542,
                    19361.9988,
                    10065.413,
                    4234.927,
                    9447.25035,
                    14007.222,
                    9583.8933,
                    40419.0191,
                    3484.331,
                    36189.1017,
                    44585.45587,
                    8604.48365,
                    18246.4955,
                    43254.41795,
                    3757.8448,
                    8827.2099,
                    9910.35985,
                    11737.84884,
                    1627.28245,
                    8556.907,
                    3062.50825,
                    19539.243,
                    1906.35825,
                    14210.53595,
                    11833.7823,
                    17128.42608,
                    5031.26955,
                    7985.815,
                    23065.4207,
                    5428.7277,
                    36307.7983,
                    3925.7582,
                    2416.955,
                    19040.876,
                    3070.8087,
                    9095.06825,
                    11842.62375,
                    8062.764,
                    7050.642,
                    14319.031,
                    6933.24225,
                    27941.28758,
                    11150.78,
                    12797.20962,
                    17748.5062,
                    7261.741,
                    10560.4917,
                    6986.697,
                    7448.40395,
                    5934.3798,
                    9869.8102,
                    18259.216,
                    1146.7966,
                    9386.1613,
                    24520.264,
                    4350.5144,
                    6414.178,
                    12741.16745,
                    1917.3184,
                    5209.57885,
                    13457.9608,
                    5662.225,
                    1252.407,
                    2731.9122,
                    21195.818,
                    7209.4918,
                    18310.742,
                    4266.1658,
                    4719.52405,
                    11848.141,
                    17904.52705,
                    7046.7222,
                    14313.8463,
                    2103.08,
                    38792.6856,
                    1815.8759,
                    7731.85785,
                    28476.73499,
                    2136.88225,
                    1131.5066,
                    3309.7926,
                    9414.92,
                    6360.9936,
                    11013.7119,
                    4428.88785,
                    5584.3057,
                    1877.9294,
                    2842.76075,
                    3597.596,
                    23401.30575,
                    55135.40209,
                    7445.918,
                    2680.9493,
                    1621.8827,
                    8219.2039,
                    12523.6048,
                    16069.08475,
                    43813.8661,
                    20773.62775,
                    39597.4072,
                    6117.4945,
                    13393.756,
                    5266.3656,
                    4719.73655,
                    11743.9341,
                    5377.4578,
                    7160.3303,
                    4402.233,
                    11657.7189,
                    6402.29135,
                    12622.1795,
                    1526.312,
                    12323.936,
                    36021.0112,
                    27533.9129,
                    10072.05505,
                    45008.9555,
                    9872.701,
                    2438.0552,
                    2974.126,
                    10601.63225,
                    37270.1512,
                    14119.62,
                    42111.6647,
                    11729.6795,
                    24106.91255,
                    1875.344,
                    40974.1649,
                    15817.9857,
                    18218.16139,
                    10965.446,
                    46113.511,
                    7151.092,
                    12269.68865,
                    5458.04645,
                    8782.469,
                    6600.361,
                    1141.4451,
                    11576.13,
                    13129.60345,
                    4391.652,
                    8457.818,
                    3392.3652,
                    5966.8874,
                    6849.026,
                    8891.1395,
                    2690.1138,
                    26140.3603,
                    6653.7886,
                    6282.235,
                    6311.952,
                    3443.064,
                    2789.0574,
                    2585.85065,
                    46255.1125,
                    4877.98105,
                    19719.6947,
                    27218.43725,
                    5272.1758,
                    1682.597,
                    11945.1327,
                    29330.98315,
                    7243.8136,
                    10422.91665,
                    44202.6536,
                    13555.0049,
                    13063.883,
                    19798.05455,
                    2221.56445,
                    1634.5734,
                    2117.33885,
                    8688.85885,
                    48673.5588,
                    4661.28635,
                    8125.7845,
                    12644.589,
                    4564.19145,
                    4846.92015,
                    7633.7206,
                    15170.069,
                    17496.306,
                    2639.0429,
                    33732.6867,
                    14382.70905,
                    7626.993,
                    5257.50795,
                    2473.3341,
                    21774.32215,
                    35069.37452,
                    13041.921,
                    5245.2269,
                    13451.122,
                    13462.52,
                    5488.262,
                    4320.41085,
                    6250.435,
                    25333.33284,
                    2913.569,
                    12032.326,
                    13470.8044,
                    6289.7549,
                    2927.0647,
                    6238.298,
                    10096.97,
                    7348.142,
                    4673.3922,
                    12233.828,
                    32108.66282,
                    8965.79575,
                    2304.0022,
                    9487.6442,
                    1121.8739,
                    9549.5651,
                    2217.46915,
                    1628.4709,
                    12982.8747,
                    11674.13,
                    7160.094,
                    39047.285,
                    6358.77645,
                    19933.458,
                    11534.87265,
                    47462.894,
                    4527.18295,
                    38998.546,
                    20009.63365,
                    3875.7341,
                    41999.52,
                    12609.88702,
                    41034.2214,
                    28468.91901,
                    2730.10785,
                    3353.284,
                    14474.675,
                    9500.57305,
                    26467.09737,
                    4746.344,
                    23967.38305,
                    7518.02535,
                    3279.86855,
                    8596.8278,
                    10702.6424,
                    4992.3764,
                    2527.81865,
                    1759.338,
                    2322.6218,
                    16138.76205,
                    7804.1605,
                    2902.9065,
                    9704.66805,
                    4889.0368,
                    25517.11363,
                    4500.33925,
                    19199.944,
                    16796.41194,
                    4915.05985,
                    7624.63,
                    8410.04685,
                    28340.18885,
                    4518.82625,
                    14571.8908,
                    3378.91,
                    7144.86265,
                    10118.424,
                    5484.4673,
                    16420.49455,
                    7986.47525,
                    7418.522,
                    13887.9685,
                    6551.7501,
                    5267.81815,
                    17361.7661,
                    34472.841,
                    1972.95,
                    21232.18226,
                    8627.5411,
                    4433.3877,
                    4438.2634,
                    24915.22085,
                    23241.47453,
                    9957.7216,
                    8269.044,
                    18767.7377,
                    36580.28216,
                    8765.249,
                    5383.536,
                    12124.9924,
                    2709.24395,
                    3987.926,
                    12495.29085,
                    26018.95052,
                    8798.593,
                    35595.5898,
                    42211.1382,
                    1711.0268,
                    8569.8618,
                    2020.177,
                    16450.8947,
                    21595.38229,
                    9850.432,
                    6877.9801,
                    21677.28345,
                    44423.803,
                    4137.5227,
                    13747.87235,
                    12950.0712,
                    12094.478,
                    37484.4493,
                    39725.51805,
                    2250.8352,
                    22493.65964,
                    20234.85475,
                    1704.70015,
                    33475.81715,
                    3161.454,
                    11394.06555,
                    21880.82,
                    7325.0482,
                    44501.3982,
                    3594.17085,
                    39727.614,
                    8023.13545,
                    14394.5579,
                    9288.0267,
                    25309.489,
                    3353.4703,
                    10594.50155,
                    8277.523,
                    17929.30337,
                    2480.9791,
                    4462.7218,
                    1981.5819,
                    11554.2236,
                    48970.2476,
                    6548.19505,
                    5708.867,
                    7045.499,
                    8978.1851,
                    5757.41345,
                    14349.8544,
                    10928.849,
                    39871.7043,
                    13974.45555,
                    1909.52745,
                    12096.6512,
                    13204.28565,
                    4562.8421,
                    8551.347,
                    2102.2647,
                    34672.1472,
                    15161.5344,
                    11884.04858,
                    4454.40265,
                    5855.9025,
                    4076.497,
                    15019.76005,
                    19023.26,
                    10796.35025,
                    11353.2276,
                    9748.9106,
                    10577.087,
                    41676.0811,
                    11286.5387,
                    3591.48,
                    33907.548,
                    11299.343,
                    4561.1885,
                    44641.1974,
                    1674.6323,
                    23045.56616,
                    3227.1211,
                    16776.30405,
                    11253.421,
                    3471.4096,
                    11363.2832,
                    20420.60465,
                    10338.9316,
                    8988.15875,
                    10493.9458,
                    2904.088,
                    8605.3615,
                    11512.405,
                    41949.2441,
                    24180.9335,
                    5312.16985,
                    2396.0959,
                    10807.4863,
                    9222.4026,
                    36124.5737,
                    38282.7495,
                    5693.4305,
                    34166.273,
                    8347.1643,
                    46661.4424,
                    18903.49141,
                    40904.1995,
                    14254.6082,
                    10214.636,
                    5836.5204,
                    14358.36437,
                    1728.897,
                    8582.3023,
                    3693.428,
                    20709.02034,
                    9991.03765,
                    19673.33573,
                    11085.5868,
                    7623.518,
                    3176.2877,
                    3704.3545,
                    36898.73308,
                    9048.0273,
                    7954.517,
                    27117.99378,
                    6338.0756,
                    9630.397,
                    11289.10925,
                    52590.82939,
                    2261.5688,
                    10791.96,
                    5979.731,
                    2203.73595,
                    12235.8392,
                    40941.2854,
                    5630.45785,
                    11015.1747,
                    7228.21565,
                    39722.7462,
                    14426.07385,
                    2459.7201,
                    3989.841,
                    7727.2532,
                    5124.1887,
                    18963.17192,
                    2200.83085,
                    7153.5539,
                    5227.98875,
                    10982.5013,
                    4529.477,
                    4670.64,
                    6112.35295,
                    17178.6824,
                    22478.6,
                    11093.6229,
                    6457.8434,
                    4433.9159,
                    2154.361,
                    23887.6627,
                    6496.886,
                    2899.48935,
                    19350.3689,
                    7650.77375,
                    2850.68375,
                    2632.992,
                    9447.3824,
                    18328.2381,
                    8603.8234,
                    37465.34375,
                    13844.7972,
                    21771.3423,
                    13126.67745,
                    5327.40025,
                    13725.47184,
                    13019.16105,
                    8671.19125,
                    4134.08245,
                    18838.70366,
                    33307.5508,
                    5699.8375,
                    6393.60345,
                    4934.705,
                    6198.7518,
                    8733.22925,
                    2055.3249,
                    9964.06,
                    18223.4512,
                    5116.5004,
                    36910.60803,
                    38415.474,
                    20296.86345,
                    12347.172,
                    5373.36425,
                    23563.01618,
                    1702.4553,
                    10806.839,
                    3956.07145,
                    12890.05765,
                    5415.6612,
                    4058.1161,
                    41661.602,
                    7537.1639,
                    4718.20355,
                    6593.5083,
                    8442.667,
                    26125.67477,
                    6858.4796,
                    4795.6568,
                    6640.54485,
                    7162.0122,
                    10594.2257,
                    11938.25595,
                    60021.39897,
                    20167.33603,
                    12479.70895,
                    11345.519,
                    8515.7587,
                    2699.56835,
                    14449.8544,
                    12224.35085,
                    6985.50695,
                    3238.4357,
                    47269.854,
                    49577.6624,
                    4296.2712,
                    3171.6149,
                    1135.9407,
                    5615.369,
                    9101.798,
                    6059.173,
                    1633.9618,
                    37607.5277,
                    18648.4217,
                    1241.565,
                    16232.847,
                    15828.82173,
                    4415.1588,
                    6474.013,
                    11436.73815,
                    11305.93455,
                    30063.58055,
                    10197.7722,
                    4544.2348,
                    3277.161,
                    6770.1925,
                    7337.748,
                    10370.91255,
                    26926.5144,
                    10704.47,
                    34254.05335,
                    1880.487,
                    8615.3,
                    3292.52985,
                    3021.80915,
                    14478.33015,
                    4747.0529,
                    17043.3414,
                    10959.33,
                    2741.948,
                    4357.04365,
                    22462.04375,
                    4189.1131,
                    8283.6807,
                    24535.69855,
                    14283.4594,
                    1720.3537,
                    47403.88,
                    8534.6718,
                    3732.6251,
                    5472.449,
                    38344.566,
                    7147.4728,
                    7133.9025,
                    34828.654,
                    1515.3449,
                    9301.89355,
                    11931.12525,
                    1964.78,
                    1708.92575,
                    4340.4409,
                    5261.46945,
                    2710.82855,
                    62592.87309,
                    46718.16325,
                    3208.787,
                    37829.7242,
                    21259.37795,
                    2464.6188,
                    16115.3045,
                    21472.4788,
                    33900.653,
                    6875.961,
                    6940.90985,
                    4571.41305,
                    4536.259,
                    36397.576,
                    18765.87545,
                    11272.33139,
                    1731.677,
                    1163.4627,
                    19496.71917,
                    7201.70085,
                    5425.02335,
                    28101.33305,
                    12981.3457,
                    43896.3763,
                    4239.89265,
                    13143.33665,
                    7050.0213,
                    9377.9047,
                    22395.74424,
                    10325.206,
                    12629.1656,
                    10795.93733,
                    11411.685,
                    10600.5483,
                    2205.9808,
                    1629.8335,
                    2007.945,
                    29141.3603
                  ],
                  "xaxis": "x",
                  "yaxis": "y"
                }
              ],
              "layout": {
                "height": 300,
                "template": {
                  "data": {
                    "bar": [
                      {
                        "error_x": {
                          "color": "#2a3f5f"
                        },
                        "error_y": {
                          "color": "#2a3f5f"
                        },
                        "marker": {
                          "line": {
                            "color": "#E5ECF6",
                            "width": 0.5
                          },
                          "pattern": {
                            "fillmode": "overlay",
                            "size": 10,
                            "solidity": 0.2
                          }
                        },
                        "type": "bar"
                      }
                    ],
                    "barpolar": [
                      {
                        "marker": {
                          "line": {
                            "color": "#E5ECF6",
                            "width": 0.5
                          },
                          "pattern": {
                            "fillmode": "overlay",
                            "size": 10,
                            "solidity": 0.2
                          }
                        },
                        "type": "barpolar"
                      }
                    ],
                    "carpet": [
                      {
                        "aaxis": {
                          "endlinecolor": "#2a3f5f",
                          "gridcolor": "white",
                          "linecolor": "white",
                          "minorgridcolor": "white",
                          "startlinecolor": "#2a3f5f"
                        },
                        "baxis": {
                          "endlinecolor": "#2a3f5f",
                          "gridcolor": "white",
                          "linecolor": "white",
                          "minorgridcolor": "white",
                          "startlinecolor": "#2a3f5f"
                        },
                        "type": "carpet"
                      }
                    ],
                    "choropleth": [
                      {
                        "colorbar": {
                          "outlinewidth": 0,
                          "ticks": ""
                        },
                        "type": "choropleth"
                      }
                    ],
                    "contour": [
                      {
                        "colorbar": {
                          "outlinewidth": 0,
                          "ticks": ""
                        },
                        "colorscale": [
                          [
                            0,
                            "#0d0887"
                          ],
                          [
                            0.1111111111111111,
                            "#46039f"
                          ],
                          [
                            0.2222222222222222,
                            "#7201a8"
                          ],
                          [
                            0.3333333333333333,
                            "#9c179e"
                          ],
                          [
                            0.4444444444444444,
                            "#bd3786"
                          ],
                          [
                            0.5555555555555556,
                            "#d8576b"
                          ],
                          [
                            0.6666666666666666,
                            "#ed7953"
                          ],
                          [
                            0.7777777777777778,
                            "#fb9f3a"
                          ],
                          [
                            0.8888888888888888,
                            "#fdca26"
                          ],
                          [
                            1,
                            "#f0f921"
                          ]
                        ],
                        "type": "contour"
                      }
                    ],
                    "contourcarpet": [
                      {
                        "colorbar": {
                          "outlinewidth": 0,
                          "ticks": ""
                        },
                        "type": "contourcarpet"
                      }
                    ],
                    "heatmap": [
                      {
                        "colorbar": {
                          "outlinewidth": 0,
                          "ticks": ""
                        },
                        "colorscale": [
                          [
                            0,
                            "#0d0887"
                          ],
                          [
                            0.1111111111111111,
                            "#46039f"
                          ],
                          [
                            0.2222222222222222,
                            "#7201a8"
                          ],
                          [
                            0.3333333333333333,
                            "#9c179e"
                          ],
                          [
                            0.4444444444444444,
                            "#bd3786"
                          ],
                          [
                            0.5555555555555556,
                            "#d8576b"
                          ],
                          [
                            0.6666666666666666,
                            "#ed7953"
                          ],
                          [
                            0.7777777777777778,
                            "#fb9f3a"
                          ],
                          [
                            0.8888888888888888,
                            "#fdca26"
                          ],
                          [
                            1,
                            "#f0f921"
                          ]
                        ],
                        "type": "heatmap"
                      }
                    ],
                    "heatmapgl": [
                      {
                        "colorbar": {
                          "outlinewidth": 0,
                          "ticks": ""
                        },
                        "colorscale": [
                          [
                            0,
                            "#0d0887"
                          ],
                          [
                            0.1111111111111111,
                            "#46039f"
                          ],
                          [
                            0.2222222222222222,
                            "#7201a8"
                          ],
                          [
                            0.3333333333333333,
                            "#9c179e"
                          ],
                          [
                            0.4444444444444444,
                            "#bd3786"
                          ],
                          [
                            0.5555555555555556,
                            "#d8576b"
                          ],
                          [
                            0.6666666666666666,
                            "#ed7953"
                          ],
                          [
                            0.7777777777777778,
                            "#fb9f3a"
                          ],
                          [
                            0.8888888888888888,
                            "#fdca26"
                          ],
                          [
                            1,
                            "#f0f921"
                          ]
                        ],
                        "type": "heatmapgl"
                      }
                    ],
                    "histogram": [
                      {
                        "marker": {
                          "pattern": {
                            "fillmode": "overlay",
                            "size": 10,
                            "solidity": 0.2
                          }
                        },
                        "type": "histogram"
                      }
                    ],
                    "histogram2d": [
                      {
                        "colorbar": {
                          "outlinewidth": 0,
                          "ticks": ""
                        },
                        "colorscale": [
                          [
                            0,
                            "#0d0887"
                          ],
                          [
                            0.1111111111111111,
                            "#46039f"
                          ],
                          [
                            0.2222222222222222,
                            "#7201a8"
                          ],
                          [
                            0.3333333333333333,
                            "#9c179e"
                          ],
                          [
                            0.4444444444444444,
                            "#bd3786"
                          ],
                          [
                            0.5555555555555556,
                            "#d8576b"
                          ],
                          [
                            0.6666666666666666,
                            "#ed7953"
                          ],
                          [
                            0.7777777777777778,
                            "#fb9f3a"
                          ],
                          [
                            0.8888888888888888,
                            "#fdca26"
                          ],
                          [
                            1,
                            "#f0f921"
                          ]
                        ],
                        "type": "histogram2d"
                      }
                    ],
                    "histogram2dcontour": [
                      {
                        "colorbar": {
                          "outlinewidth": 0,
                          "ticks": ""
                        },
                        "colorscale": [
                          [
                            0,
                            "#0d0887"
                          ],
                          [
                            0.1111111111111111,
                            "#46039f"
                          ],
                          [
                            0.2222222222222222,
                            "#7201a8"
                          ],
                          [
                            0.3333333333333333,
                            "#9c179e"
                          ],
                          [
                            0.4444444444444444,
                            "#bd3786"
                          ],
                          [
                            0.5555555555555556,
                            "#d8576b"
                          ],
                          [
                            0.6666666666666666,
                            "#ed7953"
                          ],
                          [
                            0.7777777777777778,
                            "#fb9f3a"
                          ],
                          [
                            0.8888888888888888,
                            "#fdca26"
                          ],
                          [
                            1,
                            "#f0f921"
                          ]
                        ],
                        "type": "histogram2dcontour"
                      }
                    ],
                    "mesh3d": [
                      {
                        "colorbar": {
                          "outlinewidth": 0,
                          "ticks": ""
                        },
                        "type": "mesh3d"
                      }
                    ],
                    "parcoords": [
                      {
                        "line": {
                          "colorbar": {
                            "outlinewidth": 0,
                            "ticks": ""
                          }
                        },
                        "type": "parcoords"
                      }
                    ],
                    "pie": [
                      {
                        "automargin": true,
                        "type": "pie"
                      }
                    ],
                    "scatter": [
                      {
                        "fillpattern": {
                          "fillmode": "overlay",
                          "size": 10,
                          "solidity": 0.2
                        },
                        "type": "scatter"
                      }
                    ],
                    "scatter3d": [
                      {
                        "line": {
                          "colorbar": {
                            "outlinewidth": 0,
                            "ticks": ""
                          }
                        },
                        "marker": {
                          "colorbar": {
                            "outlinewidth": 0,
                            "ticks": ""
                          }
                        },
                        "type": "scatter3d"
                      }
                    ],
                    "scattercarpet": [
                      {
                        "marker": {
                          "colorbar": {
                            "outlinewidth": 0,
                            "ticks": ""
                          }
                        },
                        "type": "scattercarpet"
                      }
                    ],
                    "scattergeo": [
                      {
                        "marker": {
                          "colorbar": {
                            "outlinewidth": 0,
                            "ticks": ""
                          }
                        },
                        "type": "scattergeo"
                      }
                    ],
                    "scattergl": [
                      {
                        "marker": {
                          "colorbar": {
                            "outlinewidth": 0,
                            "ticks": ""
                          }
                        },
                        "type": "scattergl"
                      }
                    ],
                    "scattermapbox": [
                      {
                        "marker": {
                          "colorbar": {
                            "outlinewidth": 0,
                            "ticks": ""
                          }
                        },
                        "type": "scattermapbox"
                      }
                    ],
                    "scatterpolar": [
                      {
                        "marker": {
                          "colorbar": {
                            "outlinewidth": 0,
                            "ticks": ""
                          }
                        },
                        "type": "scatterpolar"
                      }
                    ],
                    "scatterpolargl": [
                      {
                        "marker": {
                          "colorbar": {
                            "outlinewidth": 0,
                            "ticks": ""
                          }
                        },
                        "type": "scatterpolargl"
                      }
                    ],
                    "scatterternary": [
                      {
                        "marker": {
                          "colorbar": {
                            "outlinewidth": 0,
                            "ticks": ""
                          }
                        },
                        "type": "scatterternary"
                      }
                    ],
                    "surface": [
                      {
                        "colorbar": {
                          "outlinewidth": 0,
                          "ticks": ""
                        },
                        "colorscale": [
                          [
                            0,
                            "#0d0887"
                          ],
                          [
                            0.1111111111111111,
                            "#46039f"
                          ],
                          [
                            0.2222222222222222,
                            "#7201a8"
                          ],
                          [
                            0.3333333333333333,
                            "#9c179e"
                          ],
                          [
                            0.4444444444444444,
                            "#bd3786"
                          ],
                          [
                            0.5555555555555556,
                            "#d8576b"
                          ],
                          [
                            0.6666666666666666,
                            "#ed7953"
                          ],
                          [
                            0.7777777777777778,
                            "#fb9f3a"
                          ],
                          [
                            0.8888888888888888,
                            "#fdca26"
                          ],
                          [
                            1,
                            "#f0f921"
                          ]
                        ],
                        "type": "surface"
                      }
                    ],
                    "table": [
                      {
                        "cells": {
                          "fill": {
                            "color": "#EBF0F8"
                          },
                          "line": {
                            "color": "white"
                          }
                        },
                        "header": {
                          "fill": {
                            "color": "#C8D4E3"
                          },
                          "line": {
                            "color": "white"
                          }
                        },
                        "type": "table"
                      }
                    ]
                  },
                  "layout": {
                    "annotationdefaults": {
                      "arrowcolor": "#2a3f5f",
                      "arrowhead": 0,
                      "arrowwidth": 1
                    },
                    "autotypenumbers": "strict",
                    "coloraxis": {
                      "colorbar": {
                        "outlinewidth": 0,
                        "ticks": ""
                      }
                    },
                    "colorscale": {
                      "diverging": [
                        [
                          0,
                          "#8e0152"
                        ],
                        [
                          0.1,
                          "#c51b7d"
                        ],
                        [
                          0.2,
                          "#de77ae"
                        ],
                        [
                          0.3,
                          "#f1b6da"
                        ],
                        [
                          0.4,
                          "#fde0ef"
                        ],
                        [
                          0.5,
                          "#f7f7f7"
                        ],
                        [
                          0.6,
                          "#e6f5d0"
                        ],
                        [
                          0.7,
                          "#b8e186"
                        ],
                        [
                          0.8,
                          "#7fbc41"
                        ],
                        [
                          0.9,
                          "#4d9221"
                        ],
                        [
                          1,
                          "#276419"
                        ]
                      ],
                      "sequential": [
                        [
                          0,
                          "#0d0887"
                        ],
                        [
                          0.1111111111111111,
                          "#46039f"
                        ],
                        [
                          0.2222222222222222,
                          "#7201a8"
                        ],
                        [
                          0.3333333333333333,
                          "#9c179e"
                        ],
                        [
                          0.4444444444444444,
                          "#bd3786"
                        ],
                        [
                          0.5555555555555556,
                          "#d8576b"
                        ],
                        [
                          0.6666666666666666,
                          "#ed7953"
                        ],
                        [
                          0.7777777777777778,
                          "#fb9f3a"
                        ],
                        [
                          0.8888888888888888,
                          "#fdca26"
                        ],
                        [
                          1,
                          "#f0f921"
                        ]
                      ],
                      "sequentialminus": [
                        [
                          0,
                          "#0d0887"
                        ],
                        [
                          0.1111111111111111,
                          "#46039f"
                        ],
                        [
                          0.2222222222222222,
                          "#7201a8"
                        ],
                        [
                          0.3333333333333333,
                          "#9c179e"
                        ],
                        [
                          0.4444444444444444,
                          "#bd3786"
                        ],
                        [
                          0.5555555555555556,
                          "#d8576b"
                        ],
                        [
                          0.6666666666666666,
                          "#ed7953"
                        ],
                        [
                          0.7777777777777778,
                          "#fb9f3a"
                        ],
                        [
                          0.8888888888888888,
                          "#fdca26"
                        ],
                        [
                          1,
                          "#f0f921"
                        ]
                      ]
                    },
                    "colorway": [
                      "#636efa",
                      "#EF553B",
                      "#00cc96",
                      "#ab63fa",
                      "#FFA15A",
                      "#19d3f3",
                      "#FF6692",
                      "#B6E880",
                      "#FF97FF",
                      "#FECB52"
                    ],
                    "font": {
                      "color": "#2a3f5f"
                    },
                    "geo": {
                      "bgcolor": "white",
                      "lakecolor": "white",
                      "landcolor": "#E5ECF6",
                      "showlakes": true,
                      "showland": true,
                      "subunitcolor": "white"
                    },
                    "hoverlabel": {
                      "align": "left"
                    },
                    "hovermode": "closest",
                    "mapbox": {
                      "style": "light"
                    },
                    "paper_bgcolor": "white",
                    "plot_bgcolor": "#E5ECF6",
                    "polar": {
                      "angularaxis": {
                        "gridcolor": "white",
                        "linecolor": "white",
                        "ticks": ""
                      },
                      "bgcolor": "#E5ECF6",
                      "radialaxis": {
                        "gridcolor": "white",
                        "linecolor": "white",
                        "ticks": ""
                      }
                    },
                    "scene": {
                      "xaxis": {
                        "backgroundcolor": "#E5ECF6",
                        "gridcolor": "white",
                        "gridwidth": 2,
                        "linecolor": "white",
                        "showbackground": true,
                        "ticks": "",
                        "zerolinecolor": "white"
                      },
                      "yaxis": {
                        "backgroundcolor": "#E5ECF6",
                        "gridcolor": "white",
                        "gridwidth": 2,
                        "linecolor": "white",
                        "showbackground": true,
                        "ticks": "",
                        "zerolinecolor": "white"
                      },
                      "zaxis": {
                        "backgroundcolor": "#E5ECF6",
                        "gridcolor": "white",
                        "gridwidth": 2,
                        "linecolor": "white",
                        "showbackground": true,
                        "ticks": "",
                        "zerolinecolor": "white"
                      }
                    },
                    "shapedefaults": {
                      "line": {
                        "color": "#2a3f5f"
                      }
                    },
                    "ternary": {
                      "aaxis": {
                        "gridcolor": "white",
                        "linecolor": "white",
                        "ticks": ""
                      },
                      "baxis": {
                        "gridcolor": "white",
                        "linecolor": "white",
                        "ticks": ""
                      },
                      "bgcolor": "#E5ECF6",
                      "caxis": {
                        "gridcolor": "white",
                        "linecolor": "white",
                        "ticks": ""
                      }
                    },
                    "title": {
                      "x": 0.05
                    },
                    "xaxis": {
                      "automargin": true,
                      "gridcolor": "white",
                      "linecolor": "white",
                      "ticks": "",
                      "title": {
                        "standoff": 15
                      },
                      "zerolinecolor": "white",
                      "zerolinewidth": 2
                    },
                    "yaxis": {
                      "automargin": true,
                      "gridcolor": "white",
                      "linecolor": "white",
                      "ticks": "",
                      "title": {
                        "standoff": 15
                      },
                      "zerolinecolor": "white",
                      "zerolinewidth": 2
                    }
                  }
                },
                "xaxis": {
                  "anchor": "y",
                  "domain": [
                    0,
                    1
                  ],
                  "title": {
                    "text": "charges"
                  }
                },
                "yaxis": {
                  "anchor": "x",
                  "domain": [
                    0,
                    1
                  ],
                  "title": {
                    "text": "count"
                  }
                }
              }
            }
          },
          "metadata": {},
          "output_type": "display_data"
        }
      ],
      "source": [
        "# Plot a histogram for the target variable\n",
        "plot_histograms(pd.DataFrame(y), height=300)\n"
      ]
    },
    {
      "cell_type": "markdown",
      "id": "7f98259d",
      "metadata": {
        "id": "7f98259d"
      },
      "source": [
        "- The distribution is right skewed (i.e. higher volume in the lower range)."
      ]
    },
    {
      "cell_type": "markdown",
      "id": "00d60698",
      "metadata": {},
      "source": [
        "---"
      ]
    },
    {
      "cell_type": "markdown",
      "id": "d1d3d8b7",
      "metadata": {
        "id": "d1d3d8b7"
      },
      "source": [
        "### **Univariate analysis (with respect to the target)**"
      ]
    },
    {
      "cell_type": "markdown",
      "id": "26b08087",
      "metadata": {
        "id": "26b08087"
      },
      "source": [
        "#### Numeric features"
      ]
    },
    {
      "cell_type": "code",
      "execution_count": null,
      "id": "c8287137",
      "metadata": {
        "id": "c8287137",
        "outputId": "60af6258-b98e-430d-aadf-f2d12095990d"
      },
      "outputs": [],
      "source": [
        "# Plot univariate numeric analysis for numeric features and the target variable 'y'\n",
        "plot_univariate_numeric(X.select_dtypes(include=np.number), y)"
      ]
    },
    {
      "cell_type": "markdown",
      "id": "65315d61",
      "metadata": {
        "id": "65315d61"
      },
      "source": [
        "- Points to note regarding each feature:\n",
        "\n",
        "    * `age` - As `age` increases, `charges` also tends to increase (although there is a large variance in `charges` for a given `age`).\n",
        "    * `bmi` - There is no clear relationship, although there seems to be a group of individuals with `bmi` > 30 that have `charges` > 30k. This group may become more apparent when we carry out our bivariate analysis later.\n",
        "    * `children` - No clear relationship (although `charges` seems to decrease as `children` increases). **Since there are only 6 unique values for this feature, let's try treating it as a categorical feature for the purposes of univariate analysis.**"
      ]
    },
    {
      "cell_type": "markdown",
      "id": "db2d9522",
      "metadata": {
        "id": "db2d9522"
      },
      "source": [
        "#### Categorical features"
      ]
    },
    {
      "cell_type": "code",
      "execution_count": null,
      "id": "e0531899",
      "metadata": {
        "id": "e0531899",
        "outputId": "c594c162-f464-416f-b2b4-b18cc4680130"
      },
      "outputs": [],
      "source": [
        "# Plot univariate categorical analysis for selected categorical features and the target variable 'y'\n",
        "plot_univariate_categorical(X[['sex', 'smoker', 'region', 'children']], y)\n"
      ]
    },
    {
      "cell_type": "markdown",
      "id": "34aced9f",
      "metadata": {
        "id": "34aced9f"
      },
      "source": [
        "- Points to note regarding each feature:\n",
        "\n",
        "    * `sex` - No significant differences in `charges` between the categories.\n",
        "    * `smoker` - `charges` for `smoker` == 'yes' are generally much higher than when `smoker` == 'no'.\n",
        "    * `region` - No significant differences in `charges` between the categories.\n",
        "    * `children` - No significant differences in `charges` between the categories (`children` >= 4 are skewed towards lower `charges`, but this is likely due to the low volumes in those categories - see the **Distributions** section)."
      ]
    },
    {
      "cell_type": "markdown",
      "id": "dc737630",
      "metadata": {},
      "source": [
        "---"
      ]
    },
    {
      "cell_type": "markdown",
      "id": "2b03a15a",
      "metadata": {
        "id": "2b03a15a"
      },
      "source": [
        "### **Bivariate analysis (with respect to the target)**"
      ]
    },
    {
      "cell_type": "markdown",
      "id": "sJd6qGrJK1B8",
      "metadata": {
        "id": "sJd6qGrJK1B8"
      },
      "source": [
        "##### **Correlation Heatmap**"
      ]
    },
    {
      "cell_type": "code",
      "execution_count": null,
      "id": "25816c75",
      "metadata": {
        "id": "25816c75",
        "outputId": "ab126246-9ff2-48f5-ce1d-eefcc49a493d"
      },
      "outputs": [],
      "source": [
        "# Plot a heatmap analysis for selected numeric features and the target variable 'y' with a specified number of bins\n",
        "plot_heatmap(X[['age', 'bmi', 'children']], y, bins=10)\n"
      ]
    },
    {
      "cell_type": "markdown",
      "id": "dc59b854",
      "metadata": {
        "id": "dc59b854"
      },
      "source": [
        "- No additional insight can be gained from these plots that we haven't already obtained from the univariate analysis."
      ]
    },
    {
      "cell_type": "markdown",
      "id": "l_HMfZ7UkIjy",
      "metadata": {
        "id": "l_HMfZ7UkIjy"
      },
      "source": [
        "#### **Box Plots**"
      ]
    },
    {
      "cell_type": "code",
      "execution_count": null,
      "id": "e2341954",
      "metadata": {
        "id": "e2341954",
        "outputId": "ca76c46c-c6af-4bac-b626-f1164c594922"
      },
      "outputs": [],
      "source": [
        "# Plot paired boxplots for selected categorical features and the target variable 'y'\n",
        "plot_paired_boxplots(X[['sex', 'smoker', 'region']], y)\n"
      ]
    },
    {
      "cell_type": "markdown",
      "id": "ab693504",
      "metadata": {
        "id": "ab693504"
      },
      "source": [
        "- Points to note regarding these feature pairs:\n",
        "\n",
        "    * `sex`-`smoker` - The median `charges` is higher for males who smoke compared to females who smoke (36k vs 29k)\n",
        "    * `smoker`-`region` - The median `charges` is higher for smokers in the southwest and southeast vs the northeast and northwest (35k and 37k vs 28k and 27k)"
      ]
    },
    {
      "cell_type": "markdown",
      "id": "f367538c",
      "metadata": {
        "id": "f367538c"
      },
      "source": [
        "#### **Numeric-categorical pairs**"
      ]
    },
    {
      "cell_type": "code",
      "execution_count": null,
      "id": "95d11a3c",
      "metadata": {
        "id": "95d11a3c",
        "outputId": "d007b5ae-70fa-4783-fdad-c3d2dfc4f038"
      },
      "outputs": [],
      "source": [
        "# Plot paired scatterplots for numeric features and the target variable 'y'\n",
        "plot_paired_scatterplots(X, y)\n"
      ]
    },
    {
      "cell_type": "markdown",
      "id": "0353178c",
      "metadata": {
        "id": "0353178c"
      },
      "source": [
        "- There are two pieces of insight from these graphs:\n",
        "\n",
        "    * `age`-`smoker` - There is a group in the bottom left hand quadrant of the chart (where `age` < 50 and `smoker` = 'no') where all beneficiaries have health care costs below 10k (which is relatively small compared to the rest of the population).\n",
        "    * `bmi`-`smoker` - There is a group in the top right hand quadrant of the chart (where `bmi` > 30 and `smoker` = 'yes') where all beneficiaries have health care costs above 30k (which is relatively large compared to the rest of the population)."
      ]
    },
    {
      "cell_type": "markdown",
      "id": "eb909d3d",
      "metadata": {},
      "source": [
        "---"
      ]
    },
    {
      "cell_type": "markdown",
      "id": "8d3b381a",
      "metadata": {
        "id": "8d3b381a"
      },
      "source": [
        "### **Collinearity (between features)**"
      ]
    },
    {
      "cell_type": "markdown",
      "id": "e600693c",
      "metadata": {
        "id": "e600693c"
      },
      "source": [
        "#### **Numeric features**"
      ]
    },
    {
      "cell_type": "code",
      "execution_count": null,
      "id": "ebd32fd1",
      "metadata": {
        "id": "ebd32fd1",
        "outputId": "d5a5148d-94d7-4ee4-d6ab-a1872ec7487e"
      },
      "outputs": [],
      "source": [
        "# Create a scatter matrix plot for numeric features using plotly.express\n",
        "px.scatter_matrix(X.select_dtypes(include=np.number))\n"
      ]
    },
    {
      "cell_type": "markdown",
      "id": "9906f051",
      "metadata": {
        "id": "9906f051"
      },
      "source": [
        "- There doesn't look like there's much correlation between any of the numeric features. To be sure, let's calculate and plot the **Pearson's correlation matrix**:"
      ]
    },
    {
      "cell_type": "code",
      "execution_count": null,
      "id": "68fcb67e",
      "metadata": {
        "id": "68fcb67e",
        "outputId": "eae3bcff-df98-40f0-a976-cf83c85ec067"
      },
      "outputs": [
        {
          "data": {
            "application/vnd.plotly.v1+json": {
              "config": {
                "plotlyServerURL": "https://plot.ly"
              },
              "data": [
                {
                  "coloraxis": "coloraxis",
                  "hovertemplate": "x: %{x}<br>y: %{y}<br>color: %{z}<extra></extra>",
                  "name": "0",
                  "type": "heatmap",
                  "x": [
                    "age",
                    "bmi",
                    "children"
                  ],
                  "xaxis": "x",
                  "y": [
                    "age",
                    "bmi",
                    "children"
                  ],
                  "yaxis": "y",
                  "z": [
                    [
                      1,
                      0.1092718815485351,
                      0.04246899855884958
                    ],
                    [
                      0.1092718815485351,
                      1,
                      0.012758900820673994
                    ],
                    [
                      0.04246899855884958,
                      0.012758900820673994,
                      1
                    ]
                  ]
                }
              ],
              "layout": {
                "coloraxis": {
                  "colorscale": [
                    [
                      0,
                      "#0d0887"
                    ],
                    [
                      0.1111111111111111,
                      "#46039f"
                    ],
                    [
                      0.2222222222222222,
                      "#7201a8"
                    ],
                    [
                      0.3333333333333333,
                      "#9c179e"
                    ],
                    [
                      0.4444444444444444,
                      "#bd3786"
                    ],
                    [
                      0.5555555555555556,
                      "#d8576b"
                    ],
                    [
                      0.6666666666666666,
                      "#ed7953"
                    ],
                    [
                      0.7777777777777778,
                      "#fb9f3a"
                    ],
                    [
                      0.8888888888888888,
                      "#fdca26"
                    ],
                    [
                      1,
                      "#f0f921"
                    ]
                  ]
                },
                "margin": {
                  "t": 60
                },
                "template": {
                  "data": {
                    "bar": [
                      {
                        "error_x": {
                          "color": "#2a3f5f"
                        },
                        "error_y": {
                          "color": "#2a3f5f"
                        },
                        "marker": {
                          "line": {
                            "color": "#E5ECF6",
                            "width": 0.5
                          },
                          "pattern": {
                            "fillmode": "overlay",
                            "size": 10,
                            "solidity": 0.2
                          }
                        },
                        "type": "bar"
                      }
                    ],
                    "barpolar": [
                      {
                        "marker": {
                          "line": {
                            "color": "#E5ECF6",
                            "width": 0.5
                          },
                          "pattern": {
                            "fillmode": "overlay",
                            "size": 10,
                            "solidity": 0.2
                          }
                        },
                        "type": "barpolar"
                      }
                    ],
                    "carpet": [
                      {
                        "aaxis": {
                          "endlinecolor": "#2a3f5f",
                          "gridcolor": "white",
                          "linecolor": "white",
                          "minorgridcolor": "white",
                          "startlinecolor": "#2a3f5f"
                        },
                        "baxis": {
                          "endlinecolor": "#2a3f5f",
                          "gridcolor": "white",
                          "linecolor": "white",
                          "minorgridcolor": "white",
                          "startlinecolor": "#2a3f5f"
                        },
                        "type": "carpet"
                      }
                    ],
                    "choropleth": [
                      {
                        "colorbar": {
                          "outlinewidth": 0,
                          "ticks": ""
                        },
                        "type": "choropleth"
                      }
                    ],
                    "contour": [
                      {
                        "colorbar": {
                          "outlinewidth": 0,
                          "ticks": ""
                        },
                        "colorscale": [
                          [
                            0,
                            "#0d0887"
                          ],
                          [
                            0.1111111111111111,
                            "#46039f"
                          ],
                          [
                            0.2222222222222222,
                            "#7201a8"
                          ],
                          [
                            0.3333333333333333,
                            "#9c179e"
                          ],
                          [
                            0.4444444444444444,
                            "#bd3786"
                          ],
                          [
                            0.5555555555555556,
                            "#d8576b"
                          ],
                          [
                            0.6666666666666666,
                            "#ed7953"
                          ],
                          [
                            0.7777777777777778,
                            "#fb9f3a"
                          ],
                          [
                            0.8888888888888888,
                            "#fdca26"
                          ],
                          [
                            1,
                            "#f0f921"
                          ]
                        ],
                        "type": "contour"
                      }
                    ],
                    "contourcarpet": [
                      {
                        "colorbar": {
                          "outlinewidth": 0,
                          "ticks": ""
                        },
                        "type": "contourcarpet"
                      }
                    ],
                    "heatmap": [
                      {
                        "colorbar": {
                          "outlinewidth": 0,
                          "ticks": ""
                        },
                        "colorscale": [
                          [
                            0,
                            "#0d0887"
                          ],
                          [
                            0.1111111111111111,
                            "#46039f"
                          ],
                          [
                            0.2222222222222222,
                            "#7201a8"
                          ],
                          [
                            0.3333333333333333,
                            "#9c179e"
                          ],
                          [
                            0.4444444444444444,
                            "#bd3786"
                          ],
                          [
                            0.5555555555555556,
                            "#d8576b"
                          ],
                          [
                            0.6666666666666666,
                            "#ed7953"
                          ],
                          [
                            0.7777777777777778,
                            "#fb9f3a"
                          ],
                          [
                            0.8888888888888888,
                            "#fdca26"
                          ],
                          [
                            1,
                            "#f0f921"
                          ]
                        ],
                        "type": "heatmap"
                      }
                    ],
                    "heatmapgl": [
                      {
                        "colorbar": {
                          "outlinewidth": 0,
                          "ticks": ""
                        },
                        "colorscale": [
                          [
                            0,
                            "#0d0887"
                          ],
                          [
                            0.1111111111111111,
                            "#46039f"
                          ],
                          [
                            0.2222222222222222,
                            "#7201a8"
                          ],
                          [
                            0.3333333333333333,
                            "#9c179e"
                          ],
                          [
                            0.4444444444444444,
                            "#bd3786"
                          ],
                          [
                            0.5555555555555556,
                            "#d8576b"
                          ],
                          [
                            0.6666666666666666,
                            "#ed7953"
                          ],
                          [
                            0.7777777777777778,
                            "#fb9f3a"
                          ],
                          [
                            0.8888888888888888,
                            "#fdca26"
                          ],
                          [
                            1,
                            "#f0f921"
                          ]
                        ],
                        "type": "heatmapgl"
                      }
                    ],
                    "histogram": [
                      {
                        "marker": {
                          "pattern": {
                            "fillmode": "overlay",
                            "size": 10,
                            "solidity": 0.2
                          }
                        },
                        "type": "histogram"
                      }
                    ],
                    "histogram2d": [
                      {
                        "colorbar": {
                          "outlinewidth": 0,
                          "ticks": ""
                        },
                        "colorscale": [
                          [
                            0,
                            "#0d0887"
                          ],
                          [
                            0.1111111111111111,
                            "#46039f"
                          ],
                          [
                            0.2222222222222222,
                            "#7201a8"
                          ],
                          [
                            0.3333333333333333,
                            "#9c179e"
                          ],
                          [
                            0.4444444444444444,
                            "#bd3786"
                          ],
                          [
                            0.5555555555555556,
                            "#d8576b"
                          ],
                          [
                            0.6666666666666666,
                            "#ed7953"
                          ],
                          [
                            0.7777777777777778,
                            "#fb9f3a"
                          ],
                          [
                            0.8888888888888888,
                            "#fdca26"
                          ],
                          [
                            1,
                            "#f0f921"
                          ]
                        ],
                        "type": "histogram2d"
                      }
                    ],
                    "histogram2dcontour": [
                      {
                        "colorbar": {
                          "outlinewidth": 0,
                          "ticks": ""
                        },
                        "colorscale": [
                          [
                            0,
                            "#0d0887"
                          ],
                          [
                            0.1111111111111111,
                            "#46039f"
                          ],
                          [
                            0.2222222222222222,
                            "#7201a8"
                          ],
                          [
                            0.3333333333333333,
                            "#9c179e"
                          ],
                          [
                            0.4444444444444444,
                            "#bd3786"
                          ],
                          [
                            0.5555555555555556,
                            "#d8576b"
                          ],
                          [
                            0.6666666666666666,
                            "#ed7953"
                          ],
                          [
                            0.7777777777777778,
                            "#fb9f3a"
                          ],
                          [
                            0.8888888888888888,
                            "#fdca26"
                          ],
                          [
                            1,
                            "#f0f921"
                          ]
                        ],
                        "type": "histogram2dcontour"
                      }
                    ],
                    "mesh3d": [
                      {
                        "colorbar": {
                          "outlinewidth": 0,
                          "ticks": ""
                        },
                        "type": "mesh3d"
                      }
                    ],
                    "parcoords": [
                      {
                        "line": {
                          "colorbar": {
                            "outlinewidth": 0,
                            "ticks": ""
                          }
                        },
                        "type": "parcoords"
                      }
                    ],
                    "pie": [
                      {
                        "automargin": true,
                        "type": "pie"
                      }
                    ],
                    "scatter": [
                      {
                        "fillpattern": {
                          "fillmode": "overlay",
                          "size": 10,
                          "solidity": 0.2
                        },
                        "type": "scatter"
                      }
                    ],
                    "scatter3d": [
                      {
                        "line": {
                          "colorbar": {
                            "outlinewidth": 0,
                            "ticks": ""
                          }
                        },
                        "marker": {
                          "colorbar": {
                            "outlinewidth": 0,
                            "ticks": ""
                          }
                        },
                        "type": "scatter3d"
                      }
                    ],
                    "scattercarpet": [
                      {
                        "marker": {
                          "colorbar": {
                            "outlinewidth": 0,
                            "ticks": ""
                          }
                        },
                        "type": "scattercarpet"
                      }
                    ],
                    "scattergeo": [
                      {
                        "marker": {
                          "colorbar": {
                            "outlinewidth": 0,
                            "ticks": ""
                          }
                        },
                        "type": "scattergeo"
                      }
                    ],
                    "scattergl": [
                      {
                        "marker": {
                          "colorbar": {
                            "outlinewidth": 0,
                            "ticks": ""
                          }
                        },
                        "type": "scattergl"
                      }
                    ],
                    "scattermapbox": [
                      {
                        "marker": {
                          "colorbar": {
                            "outlinewidth": 0,
                            "ticks": ""
                          }
                        },
                        "type": "scattermapbox"
                      }
                    ],
                    "scatterpolar": [
                      {
                        "marker": {
                          "colorbar": {
                            "outlinewidth": 0,
                            "ticks": ""
                          }
                        },
                        "type": "scatterpolar"
                      }
                    ],
                    "scatterpolargl": [
                      {
                        "marker": {
                          "colorbar": {
                            "outlinewidth": 0,
                            "ticks": ""
                          }
                        },
                        "type": "scatterpolargl"
                      }
                    ],
                    "scatterternary": [
                      {
                        "marker": {
                          "colorbar": {
                            "outlinewidth": 0,
                            "ticks": ""
                          }
                        },
                        "type": "scatterternary"
                      }
                    ],
                    "surface": [
                      {
                        "colorbar": {
                          "outlinewidth": 0,
                          "ticks": ""
                        },
                        "colorscale": [
                          [
                            0,
                            "#0d0887"
                          ],
                          [
                            0.1111111111111111,
                            "#46039f"
                          ],
                          [
                            0.2222222222222222,
                            "#7201a8"
                          ],
                          [
                            0.3333333333333333,
                            "#9c179e"
                          ],
                          [
                            0.4444444444444444,
                            "#bd3786"
                          ],
                          [
                            0.5555555555555556,
                            "#d8576b"
                          ],
                          [
                            0.6666666666666666,
                            "#ed7953"
                          ],
                          [
                            0.7777777777777778,
                            "#fb9f3a"
                          ],
                          [
                            0.8888888888888888,
                            "#fdca26"
                          ],
                          [
                            1,
                            "#f0f921"
                          ]
                        ],
                        "type": "surface"
                      }
                    ],
                    "table": [
                      {
                        "cells": {
                          "fill": {
                            "color": "#EBF0F8"
                          },
                          "line": {
                            "color": "white"
                          }
                        },
                        "header": {
                          "fill": {
                            "color": "#C8D4E3"
                          },
                          "line": {
                            "color": "white"
                          }
                        },
                        "type": "table"
                      }
                    ]
                  },
                  "layout": {
                    "annotationdefaults": {
                      "arrowcolor": "#2a3f5f",
                      "arrowhead": 0,
                      "arrowwidth": 1
                    },
                    "autotypenumbers": "strict",
                    "coloraxis": {
                      "colorbar": {
                        "outlinewidth": 0,
                        "ticks": ""
                      }
                    },
                    "colorscale": {
                      "diverging": [
                        [
                          0,
                          "#8e0152"
                        ],
                        [
                          0.1,
                          "#c51b7d"
                        ],
                        [
                          0.2,
                          "#de77ae"
                        ],
                        [
                          0.3,
                          "#f1b6da"
                        ],
                        [
                          0.4,
                          "#fde0ef"
                        ],
                        [
                          0.5,
                          "#f7f7f7"
                        ],
                        [
                          0.6,
                          "#e6f5d0"
                        ],
                        [
                          0.7,
                          "#b8e186"
                        ],
                        [
                          0.8,
                          "#7fbc41"
                        ],
                        [
                          0.9,
                          "#4d9221"
                        ],
                        [
                          1,
                          "#276419"
                        ]
                      ],
                      "sequential": [
                        [
                          0,
                          "#0d0887"
                        ],
                        [
                          0.1111111111111111,
                          "#46039f"
                        ],
                        [
                          0.2222222222222222,
                          "#7201a8"
                        ],
                        [
                          0.3333333333333333,
                          "#9c179e"
                        ],
                        [
                          0.4444444444444444,
                          "#bd3786"
                        ],
                        [
                          0.5555555555555556,
                          "#d8576b"
                        ],
                        [
                          0.6666666666666666,
                          "#ed7953"
                        ],
                        [
                          0.7777777777777778,
                          "#fb9f3a"
                        ],
                        [
                          0.8888888888888888,
                          "#fdca26"
                        ],
                        [
                          1,
                          "#f0f921"
                        ]
                      ],
                      "sequentialminus": [
                        [
                          0,
                          "#0d0887"
                        ],
                        [
                          0.1111111111111111,
                          "#46039f"
                        ],
                        [
                          0.2222222222222222,
                          "#7201a8"
                        ],
                        [
                          0.3333333333333333,
                          "#9c179e"
                        ],
                        [
                          0.4444444444444444,
                          "#bd3786"
                        ],
                        [
                          0.5555555555555556,
                          "#d8576b"
                        ],
                        [
                          0.6666666666666666,
                          "#ed7953"
                        ],
                        [
                          0.7777777777777778,
                          "#fb9f3a"
                        ],
                        [
                          0.8888888888888888,
                          "#fdca26"
                        ],
                        [
                          1,
                          "#f0f921"
                        ]
                      ]
                    },
                    "colorway": [
                      "#636efa",
                      "#EF553B",
                      "#00cc96",
                      "#ab63fa",
                      "#FFA15A",
                      "#19d3f3",
                      "#FF6692",
                      "#B6E880",
                      "#FF97FF",
                      "#FECB52"
                    ],
                    "font": {
                      "color": "#2a3f5f"
                    },
                    "geo": {
                      "bgcolor": "white",
                      "lakecolor": "white",
                      "landcolor": "#E5ECF6",
                      "showlakes": true,
                      "showland": true,
                      "subunitcolor": "white"
                    },
                    "hoverlabel": {
                      "align": "left"
                    },
                    "hovermode": "closest",
                    "mapbox": {
                      "style": "light"
                    },
                    "paper_bgcolor": "white",
                    "plot_bgcolor": "#E5ECF6",
                    "polar": {
                      "angularaxis": {
                        "gridcolor": "white",
                        "linecolor": "white",
                        "ticks": ""
                      },
                      "bgcolor": "#E5ECF6",
                      "radialaxis": {
                        "gridcolor": "white",
                        "linecolor": "white",
                        "ticks": ""
                      }
                    },
                    "scene": {
                      "xaxis": {
                        "backgroundcolor": "#E5ECF6",
                        "gridcolor": "white",
                        "gridwidth": 2,
                        "linecolor": "white",
                        "showbackground": true,
                        "ticks": "",
                        "zerolinecolor": "white"
                      },
                      "yaxis": {
                        "backgroundcolor": "#E5ECF6",
                        "gridcolor": "white",
                        "gridwidth": 2,
                        "linecolor": "white",
                        "showbackground": true,
                        "ticks": "",
                        "zerolinecolor": "white"
                      },
                      "zaxis": {
                        "backgroundcolor": "#E5ECF6",
                        "gridcolor": "white",
                        "gridwidth": 2,
                        "linecolor": "white",
                        "showbackground": true,
                        "ticks": "",
                        "zerolinecolor": "white"
                      }
                    },
                    "shapedefaults": {
                      "line": {
                        "color": "#2a3f5f"
                      }
                    },
                    "ternary": {
                      "aaxis": {
                        "gridcolor": "white",
                        "linecolor": "white",
                        "ticks": ""
                      },
                      "baxis": {
                        "gridcolor": "white",
                        "linecolor": "white",
                        "ticks": ""
                      },
                      "bgcolor": "#E5ECF6",
                      "caxis": {
                        "gridcolor": "white",
                        "linecolor": "white",
                        "ticks": ""
                      }
                    },
                    "title": {
                      "x": 0.05
                    },
                    "xaxis": {
                      "automargin": true,
                      "gridcolor": "white",
                      "linecolor": "white",
                      "ticks": "",
                      "title": {
                        "standoff": 15
                      },
                      "zerolinecolor": "white",
                      "zerolinewidth": 2
                    },
                    "yaxis": {
                      "automargin": true,
                      "gridcolor": "white",
                      "linecolor": "white",
                      "ticks": "",
                      "title": {
                        "standoff": 15
                      },
                      "zerolinecolor": "white",
                      "zerolinewidth": 2
                    }
                  }
                },
                "xaxis": {
                  "anchor": "y",
                  "constrain": "domain",
                  "domain": [
                    0,
                    1
                  ],
                  "scaleanchor": "y"
                },
                "yaxis": {
                  "anchor": "x",
                  "autorange": "reversed",
                  "constrain": "domain",
                  "domain": [
                    0,
                    1
                  ]
                }
              }
            }
          },
          "metadata": {},
          "output_type": "display_data"
        }
      ],
      "source": [
        "# Create a heatmap of the correlation matrix for numeric features using plotly.express\n",
        "px.imshow(X.select_dtypes(include=np.number).corr())\n"
      ]
    },
    {
      "cell_type": "markdown",
      "id": "0b3c80a7",
      "metadata": {
        "id": "0b3c80a7"
      },
      "source": [
        "- This suggests there is very little correlation between the numeric features - the highest being a Pearson's correlation of 0.11."
      ]
    },
    {
      "cell_type": "markdown",
      "id": "35cca142",
      "metadata": {
        "id": "35cca142"
      },
      "source": [
        "#### **Categorical features**"
      ]
    },
    {
      "cell_type": "code",
      "execution_count": null,
      "id": "db9564e3",
      "metadata": {
        "id": "db9564e3"
      },
      "outputs": [],
      "source": [
        "# Calculate the Chi-squared test for categorical features in X\n",
        "X_chi2 = chi2(X.select_dtypes(object))\n",
        "\n",
        "X_chi2\n"
      ]
    },
    {
      "cell_type": "markdown",
      "id": "432c8fb0",
      "metadata": {
        "id": "432c8fb0"
      },
      "source": [
        "- Since there are only three different categorical feature pairs, we won't plot the results.\n",
        "\n",
        "- We can use the p-value (which is derived from the $\\chi^2$ result and the degrees of freedom) to test how likely the observed distribution (for each feature pair) happened due to chance. For example, a p-value of 0.5 means that there is a 50% probability of observing the distribution by chance. \n",
        "\n",
        "- A threshold of < 0.05 is widely accepted for rejecting the null-hypothesis (that the features are independent) since this means that there is only a 5% probability of observing the distribution by chance.\n",
        "\n",
        "- The only feature pair with a p-value less than this threshold is `sex` and `smoker`, which means it's likely that these features are correlated:"
      ]
    },
    {
      "cell_type": "code",
      "execution_count": null,
      "id": "2776d4fe",
      "metadata": {
        "id": "2776d4fe",
        "outputId": "593153d6-8122-43a7-ac6f-3b93c3a55be2"
      },
      "outputs": [
        {
          "data": {
            "text/html": [
              "<div>\n",
              "<style scoped>\n",
              "    .dataframe tbody tr th:only-of-type {\n",
              "        vertical-align: middle;\n",
              "    }\n",
              "\n",
              "    .dataframe tbody tr th {\n",
              "        vertical-align: top;\n",
              "    }\n",
              "\n",
              "    .dataframe thead th {\n",
              "        text-align: right;\n",
              "    }\n",
              "</style>\n",
              "<table border=\"1\" class=\"dataframe\">\n",
              "  <thead>\n",
              "    <tr style=\"text-align: right;\">\n",
              "      <th></th>\n",
              "      <th>column1</th>\n",
              "      <th>column2</th>\n",
              "      <th>chi_squared</th>\n",
              "      <th>p_value</th>\n",
              "      <th>dof</th>\n",
              "    </tr>\n",
              "  </thead>\n",
              "  <tbody>\n",
              "    <tr>\n",
              "      <th>0</th>\n",
              "      <td>sex</td>\n",
              "      <td>smoker</td>\n",
              "      <td>7.392911</td>\n",
              "      <td>0.006548</td>\n",
              "      <td>1</td>\n",
              "    </tr>\n",
              "  </tbody>\n",
              "</table>\n",
              "</div>"
            ],
            "text/plain": [
              "  column1 column2  chi_squared   p_value  dof\n",
              "0     sex  smoker     7.392911  0.006548    1"
            ]
          },
          "execution_count": 20,
          "metadata": {},
          "output_type": "execute_result"
        }
      ],
      "source": [
        "# Filter the Chi-squared test results to select features with p-value less than 0.05\n",
        "significant_chi2_results = X_chi2[X_chi2['p_value'] < 0.05]\n"
      ]
    },
    {
      "cell_type": "markdown",
      "id": "0a3769f3",
      "metadata": {
        "id": "0a3769f3"
      },
      "source": [
        "#### **Numeric-categorical feature pairs**"
      ]
    },
    {
      "cell_type": "markdown",
      "id": "4750403b",
      "metadata": {
        "id": "4750403b"
      },
      "source": [
        "**ANOVA**"
      ]
    },
    {
      "cell_type": "code",
      "execution_count": null,
      "id": "91853053",
      "metadata": {
        "id": "91853053"
      },
      "outputs": [],
      "source": [
        "# Calculate ANOVA for numeric and categorical feature combinations in X\n",
        "X_anova = anova(X)\n",
        "\n",
        "X_anova"
      ]
    },
    {
      "cell_type": "markdown",
      "id": "edbb65e4",
      "metadata": {
        "id": "edbb65e4"
      },
      "source": [
        "- Similar to the $\\chi^2$ test above, we can use the p-value to test how likely the observed distribution (for each feature pair) happened due to chance. We will again apply the threshold of < 0.05 isfor rejecting the null-hypothesis (that the features are independent).\n",
        "\n",
        "- The only feature pair with a p-value less than this threshold is `bmi` and `region`, which means it's likely that these features are correlated:"
      ]
    },
    {
      "cell_type": "code",
      "execution_count": null,
      "id": "582dbc6c",
      "metadata": {
        "id": "582dbc6c",
        "outputId": "abcfdd9b-3f6e-49c8-a112-be5c7c4fb169"
      },
      "outputs": [
        {
          "data": {
            "text/html": [
              "<div>\n",
              "<style scoped>\n",
              "    .dataframe tbody tr th:only-of-type {\n",
              "        vertical-align: middle;\n",
              "    }\n",
              "\n",
              "    .dataframe tbody tr th {\n",
              "        vertical-align: top;\n",
              "    }\n",
              "\n",
              "    .dataframe thead th {\n",
              "        text-align: right;\n",
              "    }\n",
              "</style>\n",
              "<table border=\"1\" class=\"dataframe\">\n",
              "  <thead>\n",
              "    <tr style=\"text-align: right;\">\n",
              "      <th></th>\n",
              "      <th>num_column</th>\n",
              "      <th>cat_column</th>\n",
              "      <th>f_stat</th>\n",
              "      <th>p_value</th>\n",
              "    </tr>\n",
              "  </thead>\n",
              "  <tbody>\n",
              "    <tr>\n",
              "      <th>5</th>\n",
              "      <td>bmi</td>\n",
              "      <td>region</td>\n",
              "      <td>39.495057</td>\n",
              "      <td>1.881839e-24</td>\n",
              "    </tr>\n",
              "  </tbody>\n",
              "</table>\n",
              "</div>"
            ],
            "text/plain": [
              "  num_column cat_column     f_stat       p_value\n",
              "5        bmi     region  39.495057  1.881839e-24"
            ]
          },
          "execution_count": 23,
          "metadata": {},
          "output_type": "execute_result"
        }
      ],
      "source": [
        "# Filter the ANOVA results to select feature combinations with p-value less than 0.05\n",
        "significant_anova_results = X_anova[X_anova['p_value'] < 0.05]\n"
      ]
    },
    {
      "cell_type": "markdown",
      "id": "409833ab",
      "metadata": {},
      "source": [
        "---"
      ]
    },
    {
      "cell_type": "markdown",
      "id": "20e03608",
      "metadata": {
        "id": "20e03608"
      },
      "source": [
        "### **Correlation (with respect to the target)**"
      ]
    },
    {
      "cell_type": "markdown",
      "id": "96e28d64",
      "metadata": {
        "id": "96e28d64"
      },
      "source": [
        "#### **Numeric features (with respect to the target)**"
      ]
    },
    {
      "cell_type": "code",
      "execution_count": null,
      "id": "3a9dbe20",
      "metadata": {
        "id": "3a9dbe20",
        "outputId": "f892334b-5516-4e47-cc7b-b9dbe233f3cd"
      },
      "outputs": [
        {
          "data": {
            "application/vnd.plotly.v1+json": {
              "config": {
                "plotlyServerURL": "https://plot.ly"
              },
              "data": [
                {
                  "alignmentgroup": "True",
                  "hovertemplate": "features=%{x}<br>charges=%{y}<extra></extra>",
                  "legendgroup": "",
                  "marker": {
                    "color": "#636efa",
                    "pattern": {
                      "shape": ""
                    }
                  },
                  "name": "",
                  "offsetgroup": "",
                  "orientation": "v",
                  "showlegend": false,
                  "textposition": "auto",
                  "type": "bar",
                  "x": [
                    "age",
                    "bmi",
                    "children"
                  ],
                  "xaxis": "x",
                  "y": [
                    0.299008193330648,
                    0.19834096883362912,
                    0.06799822684790495
                  ],
                  "yaxis": "y"
                }
              ],
              "layout": {
                "barmode": "relative",
                "legend": {
                  "tracegroupgap": 0
                },
                "margin": {
                  "t": 60
                },
                "template": {
                  "data": {
                    "bar": [
                      {
                        "error_x": {
                          "color": "#2a3f5f"
                        },
                        "error_y": {
                          "color": "#2a3f5f"
                        },
                        "marker": {
                          "line": {
                            "color": "#E5ECF6",
                            "width": 0.5
                          },
                          "pattern": {
                            "fillmode": "overlay",
                            "size": 10,
                            "solidity": 0.2
                          }
                        },
                        "type": "bar"
                      }
                    ],
                    "barpolar": [
                      {
                        "marker": {
                          "line": {
                            "color": "#E5ECF6",
                            "width": 0.5
                          },
                          "pattern": {
                            "fillmode": "overlay",
                            "size": 10,
                            "solidity": 0.2
                          }
                        },
                        "type": "barpolar"
                      }
                    ],
                    "carpet": [
                      {
                        "aaxis": {
                          "endlinecolor": "#2a3f5f",
                          "gridcolor": "white",
                          "linecolor": "white",
                          "minorgridcolor": "white",
                          "startlinecolor": "#2a3f5f"
                        },
                        "baxis": {
                          "endlinecolor": "#2a3f5f",
                          "gridcolor": "white",
                          "linecolor": "white",
                          "minorgridcolor": "white",
                          "startlinecolor": "#2a3f5f"
                        },
                        "type": "carpet"
                      }
                    ],
                    "choropleth": [
                      {
                        "colorbar": {
                          "outlinewidth": 0,
                          "ticks": ""
                        },
                        "type": "choropleth"
                      }
                    ],
                    "contour": [
                      {
                        "colorbar": {
                          "outlinewidth": 0,
                          "ticks": ""
                        },
                        "colorscale": [
                          [
                            0,
                            "#0d0887"
                          ],
                          [
                            0.1111111111111111,
                            "#46039f"
                          ],
                          [
                            0.2222222222222222,
                            "#7201a8"
                          ],
                          [
                            0.3333333333333333,
                            "#9c179e"
                          ],
                          [
                            0.4444444444444444,
                            "#bd3786"
                          ],
                          [
                            0.5555555555555556,
                            "#d8576b"
                          ],
                          [
                            0.6666666666666666,
                            "#ed7953"
                          ],
                          [
                            0.7777777777777778,
                            "#fb9f3a"
                          ],
                          [
                            0.8888888888888888,
                            "#fdca26"
                          ],
                          [
                            1,
                            "#f0f921"
                          ]
                        ],
                        "type": "contour"
                      }
                    ],
                    "contourcarpet": [
                      {
                        "colorbar": {
                          "outlinewidth": 0,
                          "ticks": ""
                        },
                        "type": "contourcarpet"
                      }
                    ],
                    "heatmap": [
                      {
                        "colorbar": {
                          "outlinewidth": 0,
                          "ticks": ""
                        },
                        "colorscale": [
                          [
                            0,
                            "#0d0887"
                          ],
                          [
                            0.1111111111111111,
                            "#46039f"
                          ],
                          [
                            0.2222222222222222,
                            "#7201a8"
                          ],
                          [
                            0.3333333333333333,
                            "#9c179e"
                          ],
                          [
                            0.4444444444444444,
                            "#bd3786"
                          ],
                          [
                            0.5555555555555556,
                            "#d8576b"
                          ],
                          [
                            0.6666666666666666,
                            "#ed7953"
                          ],
                          [
                            0.7777777777777778,
                            "#fb9f3a"
                          ],
                          [
                            0.8888888888888888,
                            "#fdca26"
                          ],
                          [
                            1,
                            "#f0f921"
                          ]
                        ],
                        "type": "heatmap"
                      }
                    ],
                    "heatmapgl": [
                      {
                        "colorbar": {
                          "outlinewidth": 0,
                          "ticks": ""
                        },
                        "colorscale": [
                          [
                            0,
                            "#0d0887"
                          ],
                          [
                            0.1111111111111111,
                            "#46039f"
                          ],
                          [
                            0.2222222222222222,
                            "#7201a8"
                          ],
                          [
                            0.3333333333333333,
                            "#9c179e"
                          ],
                          [
                            0.4444444444444444,
                            "#bd3786"
                          ],
                          [
                            0.5555555555555556,
                            "#d8576b"
                          ],
                          [
                            0.6666666666666666,
                            "#ed7953"
                          ],
                          [
                            0.7777777777777778,
                            "#fb9f3a"
                          ],
                          [
                            0.8888888888888888,
                            "#fdca26"
                          ],
                          [
                            1,
                            "#f0f921"
                          ]
                        ],
                        "type": "heatmapgl"
                      }
                    ],
                    "histogram": [
                      {
                        "marker": {
                          "pattern": {
                            "fillmode": "overlay",
                            "size": 10,
                            "solidity": 0.2
                          }
                        },
                        "type": "histogram"
                      }
                    ],
                    "histogram2d": [
                      {
                        "colorbar": {
                          "outlinewidth": 0,
                          "ticks": ""
                        },
                        "colorscale": [
                          [
                            0,
                            "#0d0887"
                          ],
                          [
                            0.1111111111111111,
                            "#46039f"
                          ],
                          [
                            0.2222222222222222,
                            "#7201a8"
                          ],
                          [
                            0.3333333333333333,
                            "#9c179e"
                          ],
                          [
                            0.4444444444444444,
                            "#bd3786"
                          ],
                          [
                            0.5555555555555556,
                            "#d8576b"
                          ],
                          [
                            0.6666666666666666,
                            "#ed7953"
                          ],
                          [
                            0.7777777777777778,
                            "#fb9f3a"
                          ],
                          [
                            0.8888888888888888,
                            "#fdca26"
                          ],
                          [
                            1,
                            "#f0f921"
                          ]
                        ],
                        "type": "histogram2d"
                      }
                    ],
                    "histogram2dcontour": [
                      {
                        "colorbar": {
                          "outlinewidth": 0,
                          "ticks": ""
                        },
                        "colorscale": [
                          [
                            0,
                            "#0d0887"
                          ],
                          [
                            0.1111111111111111,
                            "#46039f"
                          ],
                          [
                            0.2222222222222222,
                            "#7201a8"
                          ],
                          [
                            0.3333333333333333,
                            "#9c179e"
                          ],
                          [
                            0.4444444444444444,
                            "#bd3786"
                          ],
                          [
                            0.5555555555555556,
                            "#d8576b"
                          ],
                          [
                            0.6666666666666666,
                            "#ed7953"
                          ],
                          [
                            0.7777777777777778,
                            "#fb9f3a"
                          ],
                          [
                            0.8888888888888888,
                            "#fdca26"
                          ],
                          [
                            1,
                            "#f0f921"
                          ]
                        ],
                        "type": "histogram2dcontour"
                      }
                    ],
                    "mesh3d": [
                      {
                        "colorbar": {
                          "outlinewidth": 0,
                          "ticks": ""
                        },
                        "type": "mesh3d"
                      }
                    ],
                    "parcoords": [
                      {
                        "line": {
                          "colorbar": {
                            "outlinewidth": 0,
                            "ticks": ""
                          }
                        },
                        "type": "parcoords"
                      }
                    ],
                    "pie": [
                      {
                        "automargin": true,
                        "type": "pie"
                      }
                    ],
                    "scatter": [
                      {
                        "fillpattern": {
                          "fillmode": "overlay",
                          "size": 10,
                          "solidity": 0.2
                        },
                        "type": "scatter"
                      }
                    ],
                    "scatter3d": [
                      {
                        "line": {
                          "colorbar": {
                            "outlinewidth": 0,
                            "ticks": ""
                          }
                        },
                        "marker": {
                          "colorbar": {
                            "outlinewidth": 0,
                            "ticks": ""
                          }
                        },
                        "type": "scatter3d"
                      }
                    ],
                    "scattercarpet": [
                      {
                        "marker": {
                          "colorbar": {
                            "outlinewidth": 0,
                            "ticks": ""
                          }
                        },
                        "type": "scattercarpet"
                      }
                    ],
                    "scattergeo": [
                      {
                        "marker": {
                          "colorbar": {
                            "outlinewidth": 0,
                            "ticks": ""
                          }
                        },
                        "type": "scattergeo"
                      }
                    ],
                    "scattergl": [
                      {
                        "marker": {
                          "colorbar": {
                            "outlinewidth": 0,
                            "ticks": ""
                          }
                        },
                        "type": "scattergl"
                      }
                    ],
                    "scattermapbox": [
                      {
                        "marker": {
                          "colorbar": {
                            "outlinewidth": 0,
                            "ticks": ""
                          }
                        },
                        "type": "scattermapbox"
                      }
                    ],
                    "scatterpolar": [
                      {
                        "marker": {
                          "colorbar": {
                            "outlinewidth": 0,
                            "ticks": ""
                          }
                        },
                        "type": "scatterpolar"
                      }
                    ],
                    "scatterpolargl": [
                      {
                        "marker": {
                          "colorbar": {
                            "outlinewidth": 0,
                            "ticks": ""
                          }
                        },
                        "type": "scatterpolargl"
                      }
                    ],
                    "scatterternary": [
                      {
                        "marker": {
                          "colorbar": {
                            "outlinewidth": 0,
                            "ticks": ""
                          }
                        },
                        "type": "scatterternary"
                      }
                    ],
                    "surface": [
                      {
                        "colorbar": {
                          "outlinewidth": 0,
                          "ticks": ""
                        },
                        "colorscale": [
                          [
                            0,
                            "#0d0887"
                          ],
                          [
                            0.1111111111111111,
                            "#46039f"
                          ],
                          [
                            0.2222222222222222,
                            "#7201a8"
                          ],
                          [
                            0.3333333333333333,
                            "#9c179e"
                          ],
                          [
                            0.4444444444444444,
                            "#bd3786"
                          ],
                          [
                            0.5555555555555556,
                            "#d8576b"
                          ],
                          [
                            0.6666666666666666,
                            "#ed7953"
                          ],
                          [
                            0.7777777777777778,
                            "#fb9f3a"
                          ],
                          [
                            0.8888888888888888,
                            "#fdca26"
                          ],
                          [
                            1,
                            "#f0f921"
                          ]
                        ],
                        "type": "surface"
                      }
                    ],
                    "table": [
                      {
                        "cells": {
                          "fill": {
                            "color": "#EBF0F8"
                          },
                          "line": {
                            "color": "white"
                          }
                        },
                        "header": {
                          "fill": {
                            "color": "#C8D4E3"
                          },
                          "line": {
                            "color": "white"
                          }
                        },
                        "type": "table"
                      }
                    ]
                  },
                  "layout": {
                    "annotationdefaults": {
                      "arrowcolor": "#2a3f5f",
                      "arrowhead": 0,
                      "arrowwidth": 1
                    },
                    "autotypenumbers": "strict",
                    "coloraxis": {
                      "colorbar": {
                        "outlinewidth": 0,
                        "ticks": ""
                      }
                    },
                    "colorscale": {
                      "diverging": [
                        [
                          0,
                          "#8e0152"
                        ],
                        [
                          0.1,
                          "#c51b7d"
                        ],
                        [
                          0.2,
                          "#de77ae"
                        ],
                        [
                          0.3,
                          "#f1b6da"
                        ],
                        [
                          0.4,
                          "#fde0ef"
                        ],
                        [
                          0.5,
                          "#f7f7f7"
                        ],
                        [
                          0.6,
                          "#e6f5d0"
                        ],
                        [
                          0.7,
                          "#b8e186"
                        ],
                        [
                          0.8,
                          "#7fbc41"
                        ],
                        [
                          0.9,
                          "#4d9221"
                        ],
                        [
                          1,
                          "#276419"
                        ]
                      ],
                      "sequential": [
                        [
                          0,
                          "#0d0887"
                        ],
                        [
                          0.1111111111111111,
                          "#46039f"
                        ],
                        [
                          0.2222222222222222,
                          "#7201a8"
                        ],
                        [
                          0.3333333333333333,
                          "#9c179e"
                        ],
                        [
                          0.4444444444444444,
                          "#bd3786"
                        ],
                        [
                          0.5555555555555556,
                          "#d8576b"
                        ],
                        [
                          0.6666666666666666,
                          "#ed7953"
                        ],
                        [
                          0.7777777777777778,
                          "#fb9f3a"
                        ],
                        [
                          0.8888888888888888,
                          "#fdca26"
                        ],
                        [
                          1,
                          "#f0f921"
                        ]
                      ],
                      "sequentialminus": [
                        [
                          0,
                          "#0d0887"
                        ],
                        [
                          0.1111111111111111,
                          "#46039f"
                        ],
                        [
                          0.2222222222222222,
                          "#7201a8"
                        ],
                        [
                          0.3333333333333333,
                          "#9c179e"
                        ],
                        [
                          0.4444444444444444,
                          "#bd3786"
                        ],
                        [
                          0.5555555555555556,
                          "#d8576b"
                        ],
                        [
                          0.6666666666666666,
                          "#ed7953"
                        ],
                        [
                          0.7777777777777778,
                          "#fb9f3a"
                        ],
                        [
                          0.8888888888888888,
                          "#fdca26"
                        ],
                        [
                          1,
                          "#f0f921"
                        ]
                      ]
                    },
                    "colorway": [
                      "#636efa",
                      "#EF553B",
                      "#00cc96",
                      "#ab63fa",
                      "#FFA15A",
                      "#19d3f3",
                      "#FF6692",
                      "#B6E880",
                      "#FF97FF",
                      "#FECB52"
                    ],
                    "font": {
                      "color": "#2a3f5f"
                    },
                    "geo": {
                      "bgcolor": "white",
                      "lakecolor": "white",
                      "landcolor": "#E5ECF6",
                      "showlakes": true,
                      "showland": true,
                      "subunitcolor": "white"
                    },
                    "hoverlabel": {
                      "align": "left"
                    },
                    "hovermode": "closest",
                    "mapbox": {
                      "style": "light"
                    },
                    "paper_bgcolor": "white",
                    "plot_bgcolor": "#E5ECF6",
                    "polar": {
                      "angularaxis": {
                        "gridcolor": "white",
                        "linecolor": "white",
                        "ticks": ""
                      },
                      "bgcolor": "#E5ECF6",
                      "radialaxis": {
                        "gridcolor": "white",
                        "linecolor": "white",
                        "ticks": ""
                      }
                    },
                    "scene": {
                      "xaxis": {
                        "backgroundcolor": "#E5ECF6",
                        "gridcolor": "white",
                        "gridwidth": 2,
                        "linecolor": "white",
                        "showbackground": true,
                        "ticks": "",
                        "zerolinecolor": "white"
                      },
                      "yaxis": {
                        "backgroundcolor": "#E5ECF6",
                        "gridcolor": "white",
                        "gridwidth": 2,
                        "linecolor": "white",
                        "showbackground": true,
                        "ticks": "",
                        "zerolinecolor": "white"
                      },
                      "zaxis": {
                        "backgroundcolor": "#E5ECF6",
                        "gridcolor": "white",
                        "gridwidth": 2,
                        "linecolor": "white",
                        "showbackground": true,
                        "ticks": "",
                        "zerolinecolor": "white"
                      }
                    },
                    "shapedefaults": {
                      "line": {
                        "color": "#2a3f5f"
                      }
                    },
                    "ternary": {
                      "aaxis": {
                        "gridcolor": "white",
                        "linecolor": "white",
                        "ticks": ""
                      },
                      "baxis": {
                        "gridcolor": "white",
                        "linecolor": "white",
                        "ticks": ""
                      },
                      "bgcolor": "#E5ECF6",
                      "caxis": {
                        "gridcolor": "white",
                        "linecolor": "white",
                        "ticks": ""
                      }
                    },
                    "title": {
                      "x": 0.05
                    },
                    "xaxis": {
                      "automargin": true,
                      "gridcolor": "white",
                      "linecolor": "white",
                      "ticks": "",
                      "title": {
                        "standoff": 15
                      },
                      "zerolinecolor": "white",
                      "zerolinewidth": 2
                    },
                    "yaxis": {
                      "automargin": true,
                      "gridcolor": "white",
                      "linecolor": "white",
                      "ticks": "",
                      "title": {
                        "standoff": 15
                      },
                      "zerolinecolor": "white",
                      "zerolinewidth": 2
                    }
                  }
                },
                "xaxis": {
                  "anchor": "y",
                  "domain": [
                    0,
                    1
                  ],
                  "title": {
                    "text": "features"
                  }
                },
                "yaxis": {
                  "anchor": "x",
                  "domain": [
                    0,
                    1
                  ],
                  "title": {
                    "text": "correlation"
                  }
                }
              }
            }
          },
          "metadata": {},
          "output_type": "display_data"
        }
      ],
      "source": [
        "# Create a bar plot of Pearson correlation coefficients between numeric features and the target variable 'charges'\n",
        "plot_pearson_wrt_target(X, y)"
      ]
    },
    {
      "cell_type": "markdown",
      "id": "295e8922",
      "metadata": {
        "id": "295e8922"
      },
      "source": [
        "- The `children` feature has a very low correlation with respect to the target."
      ]
    },
    {
      "cell_type": "markdown",
      "id": "fabcc1d6",
      "metadata": {
        "id": "fabcc1d6"
      },
      "source": [
        "#### **Categorical features (with respect to the target)**"
      ]
    },
    {
      "cell_type": "markdown",
      "id": "f0db9d20",
      "metadata": {
        "id": "f0db9d20"
      },
      "source": [
        "Here, we'll apply the ANOVA test. Note that since we're only interested in comparing each categorical feature to the target, we filter out the results of all other numeric features:"
      ]
    },
    {
      "cell_type": "code",
      "execution_count": null,
      "id": "a7a2c7e9",
      "metadata": {
        "id": "a7a2c7e9"
      },
      "outputs": [],
      "source": [
        "# Calculate ANOVA for the entire data DataFrame\n",
        "data_anova = anova(data)\n",
        "\n",
        "# Filter ANOVA results for the target variable 'charges'\n",
        "anova_wrt_target = data_anova[data_anova['num_column'] == 'charges']\n"
      ]
    },
    {
      "cell_type": "code",
      "execution_count": null,
      "id": "a7117530",
      "metadata": {
        "id": "a7117530",
        "outputId": "ae5b3c18-3e31-44e9-f654-36f62b8cc8cb"
      },
      "outputs": [
        {
          "data": {
            "text/html": [
              "<div>\n",
              "<style scoped>\n",
              "    .dataframe tbody tr th:only-of-type {\n",
              "        vertical-align: middle;\n",
              "    }\n",
              "\n",
              "    .dataframe tbody tr th {\n",
              "        vertical-align: top;\n",
              "    }\n",
              "\n",
              "    .dataframe thead th {\n",
              "        text-align: right;\n",
              "    }\n",
              "</style>\n",
              "<table border=\"1\" class=\"dataframe\">\n",
              "  <thead>\n",
              "    <tr style=\"text-align: right;\">\n",
              "      <th></th>\n",
              "      <th>num_column</th>\n",
              "      <th>cat_column</th>\n",
              "      <th>f_stat</th>\n",
              "      <th>p_value</th>\n",
              "    </tr>\n",
              "  </thead>\n",
              "  <tbody>\n",
              "    <tr>\n",
              "      <th>9</th>\n",
              "      <td>charges</td>\n",
              "      <td>sex</td>\n",
              "      <td>4.399702</td>\n",
              "      <td>3.613272e-02</td>\n",
              "    </tr>\n",
              "    <tr>\n",
              "      <th>10</th>\n",
              "      <td>charges</td>\n",
              "      <td>smoker</td>\n",
              "      <td>2177.614868</td>\n",
              "      <td>8.271436e-283</td>\n",
              "    </tr>\n",
              "    <tr>\n",
              "      <th>11</th>\n",
              "      <td>charges</td>\n",
              "      <td>region</td>\n",
              "      <td>2.969627</td>\n",
              "      <td>3.089336e-02</td>\n",
              "    </tr>\n",
              "  </tbody>\n",
              "</table>\n",
              "</div>"
            ],
            "text/plain": [
              "   num_column cat_column       f_stat        p_value\n",
              "9     charges        sex     4.399702   3.613272e-02\n",
              "10    charges     smoker  2177.614868  8.271436e-283\n",
              "11    charges     region     2.969627   3.089336e-02"
            ]
          },
          "execution_count": 26,
          "metadata": {},
          "output_type": "execute_result"
        }
      ],
      "source": [
        "anova_wrt_target"
      ]
    },
    {
      "cell_type": "markdown",
      "id": "666ed23e",
      "metadata": {
        "id": "666ed23e"
      },
      "source": [
        "- All p-values are < 0.05, which means that the differences observed in the `charges` column when comparing the categories within a categorical variable are statistically significant. **Note however that this doesn't measure the magnitude of the differences observed.**"
      ]
    },
    {
      "cell_type": "markdown",
      "id": "cfca5196",
      "metadata": {
        "id": "cfca5196"
      },
      "source": [
        "---"
      ]
    },
    {
      "cell_type": "markdown",
      "id": "6199aba4",
      "metadata": {
        "id": "6199aba4"
      },
      "source": [
        "## **Build and evaluate a baseline linear model**"
      ]
    },
    {
      "cell_type": "code",
      "execution_count": null,
      "id": "914d4bb2",
      "metadata": {
        "id": "914d4bb2"
      },
      "outputs": [],
      "source": [
        "# Split the data into training and testing sets\n",
        "X_train, X_test, y_train, y_test = train_test_split( X, y, test_size=0.33, random_state=42 )\n"
      ]
    },
    {
      "cell_type": "markdown",
      "id": "1cb1a89b",
      "metadata": {
        "id": "1cb1a89b"
      },
      "source": [
        "#### **Remove unnecessary columns**"
      ]
    },
    {
      "cell_type": "markdown",
      "id": "e4b304d6",
      "metadata": {
        "id": "e4b304d6"
      },
      "source": [
        "- After our EDA, we concluded that the `children` feature is not strongly correlated to `charges`. This violates Assumption 2 of a linear regression model, so we should remove this feature from our training set. \n",
        "\n",
        "- Also, our $\\chi^2$ test suggested the `sex` feature is correlated to the `smoker` feature, and our ANOVA test suggested the `region` feature is correlated to the `bmi` feature. This violates Assumption 3 of a linear regression model, so we should remove these features from our training set. We will remove the `sex` and `region` features, since these had weaker predictive power with respect to the target."
      ]
    },
    {
      "cell_type": "code",
      "execution_count": null,
      "id": "91a1d789",
      "metadata": {
        "id": "91a1d789"
      },
      "outputs": [],
      "source": [
        "# List of columns to drop\n",
        "cols_to_drop = [\n",
        "    'children',\n",
        "    'region',\n",
        "    'sex'\n",
        "]\n",
        "\n",
        "# Drop the specified columns from X_train and X_test\n",
        "X_train.drop(cols_to_drop, axis=1, inplace=True)\n",
        "X_test.drop(cols_to_drop, axis=1, inplace=True)\n"
      ]
    },
    {
      "cell_type": "markdown",
      "id": "256e85ad",
      "metadata": {
        "id": "256e85ad"
      },
      "source": [
        "#### **Encoding**"
      ]
    },
    {
      "cell_type": "code",
      "execution_count": null,
      "id": "ea60608f",
      "metadata": {
        "id": "ea60608f"
      },
      "outputs": [],
      "source": [
        "# Create a OneHotEncoder with use_cat_names=True\n",
        "ohe = OneHotEncoder(use_cat_names=True)\n",
        "\n",
        "# Fit and transform the OneHotEncoder on X_train\n",
        "X_train = ohe.fit_transform(X_train)\n",
        "\n",
        "# Transform X_test using the same OneHotEncoder\n",
        "X_test = ohe.transform(X_test)"
      ]
    },
    {
      "cell_type": "markdown",
      "id": "85dcec15",
      "metadata": {
        "id": "85dcec15"
      },
      "source": [
        "- Since the `smoker` feature only has two categories, we can drop the encoded `smoker_no` column, since it doesn't provide any additional information:"
      ]
    },
    {
      "cell_type": "code",
      "execution_count": null,
      "id": "8be5468f",
      "metadata": {
        "id": "8be5468f"
      },
      "outputs": [],
      "source": [
        "# Drop the 'smoker_no' column from X_train and X_test\n",
        "cols_to_drop = ['smoker_no']\n",
        "X_train.drop(cols_to_drop, axis=1, inplace=True)\n",
        "X_test.drop(cols_to_drop, axis=1, inplace=True)\n"
      ]
    },
    {
      "cell_type": "markdown",
      "id": "25641a0f",
      "metadata": {
        "id": "25641a0f"
      },
      "source": [
        "#### **Transformation of the target**"
      ]
    },
    {
      "cell_type": "markdown",
      "id": "713a450d",
      "metadata": {
        "id": "713a450d"
      },
      "source": [
        "- We saw in the **EDA** section that the target was not normally distributed. A model trained using this target will likely produce residuals that **do not** have the same variance across values of the target (i.e. assumption 5 of the linear regression model will be violated).\n",
        "\n",
        "- Power transforms are a family of parametric, monotonic transformations that are applied to make data more Gaussian-like. This is useful for modeling issues related to heteroscedasticity (non-constant variance), or other situations where normality is desired.\n",
        "\n",
        "- Currently, PowerTransformer supports the Box-Cox transform and the Yeo-Johnson transform.\n",
        "\n",
        "- So we'll use the **Yeo-Johnson** transformation to ensure our target is more normally distributed:"
      ]
    },
    {
      "cell_type": "code",
      "execution_count": null,
      "id": "433e602b",
      "metadata": {
        "id": "433e602b"
      },
      "outputs": [],
      "source": [
        "# Initialize the PowerTransformer with 'yeo-johnson' method\n",
        "pt = PowerTransformer(method='yeo-johnson')\n",
        "\n",
        "# Fit and transform the training target variable\n",
        "y_train_t = pt.fit_transform(y_train.values.reshape(-1, 1))[:, 0]\n",
        "\n",
        "# Transform the testing target variable using the same transformation\n",
        "y_test_t = pt.transform(y_test.values.reshape(-1, 1))[:, 0]\n"
      ]
    },
    {
      "cell_type": "markdown",
      "id": "348bdd5d",
      "metadata": {
        "id": "348bdd5d"
      },
      "source": [
        "- Now let's quickly check whether this has had the desired effect (on both training and test sets):"
      ]
    },
    {
      "cell_type": "code",
      "execution_count": null,
      "id": "693c44b2",
      "metadata": {
        "id": "693c44b2",
        "outputId": "65264dff-b775-4fd0-bd57-f51283d30817"
      },
      "outputs": [
        {
          "data": {
            "text/plain": [
              "<AxesSubplot: >"
            ]
          },
          "execution_count": 32,
          "metadata": {},
          "output_type": "execute_result"
        },
        {
          "data": {
            "image/png": "[encoded data removed]",
            "text/plain": [
              "<Figure size 500x300 with 1 Axes>"
            ]
          },
          "metadata": {},
          "output_type": "display_data"
        }
      ],
      "source": [
        "# Create histograms for y_train_t and y_test_t\n",
        "pd.Series(y_train_t).hist(figsize=(5, 3))\n",
        "pd.Series(y_test_t).hist(figsize=(5, 3))"
      ]
    },
    {
      "cell_type": "markdown",
      "id": "99afc736",
      "metadata": {
        "id": "99afc736"
      },
      "source": [
        "### **Model training**"
      ]
    },
    {
      "cell_type": "markdown",
      "id": "b179cb14",
      "metadata": {
        "id": "b179cb14"
      },
      "source": [
        "- Now that our dataset has been sufficiently processed, we can train our baseline linear regression model.\n",
        "\n",
        "- To improve homoscedasticity of the residuals, we can pass sample weights to the model. This ensures that when the model is trained, observations with larger `charges` are given more importance than those with smaller `charges`. This means that residuals are penalised more heavily for the observations with larger `charges` vs those with smaller `charges`.\n",
        "\n",
        "- We'll use the target column as the sample weight, but scale it by the minimum value of the `charges` column (so the minimum sample weight is 1):"
      ]
    },
    {
      "cell_type": "code",
      "execution_count": null,
      "id": "3cd514a4",
      "metadata": {
        "id": "3cd514a4"
      },
      "outputs": [],
      "source": [
        "# Calculate sample weights for training data\n",
        "sample_weight = y_train / y_train.min() \n"
      ]
    },
    {
      "cell_type": "markdown",
      "id": "0d620168",
      "metadata": {
        "id": "0d620168"
      },
      "source": [
        "- Finally, we can train our linear regression model by passing it our training set and sample weights:"
      ]
    },
    {
      "cell_type": "code",
      "execution_count": null,
      "id": "2401a626",
      "metadata": {
        "id": "2401a626",
        "outputId": "564c1aa3-1858-4b0f-abc1-84eabd1a8931"
      },
      "outputs": [
        {
          "data": {
            "text/html": [
              "<style>#sk-container-id-1 {color: black;background-color: white;}#sk-container-id-1 pre{padding: 0;}#sk-container-id-1 div.sk-toggleable {background-color: white;}#sk-container-id-1 label.sk-toggleable__label {cursor: pointer;display: block;width: 100%;margin-bottom: 0;padding: 0.3em;box-sizing: border-box;text-align: center;}#sk-container-id-1 label.sk-toggleable__label-arrow:before {content: \"▸\";float: left;margin-right: 0.25em;color: #696969;}#sk-container-id-1 label.sk-toggleable__label-arrow:hover:before {color: black;}#sk-container-id-1 div.sk-estimator:hover label.sk-toggleable__label-arrow:before {color: black;}#sk-container-id-1 div.sk-toggleable__content {max-height: 0;max-width: 0;overflow: hidden;text-align: left;background-color: #f0f8ff;}#sk-container-id-1 div.sk-toggleable__content pre {margin: 0.2em;color: black;border-radius: 0.25em;background-color: #f0f8ff;}#sk-container-id-1 input.sk-toggleable__control:checked~div.sk-toggleable__content {max-height: 200px;max-width: 100%;overflow: auto;}#sk-container-id-1 input.sk-toggleable__control:checked~label.sk-toggleable__label-arrow:before {content: \"▾\";}#sk-container-id-1 div.sk-estimator input.sk-toggleable__control:checked~label.sk-toggleable__label {background-color: #d4ebff;}#sk-container-id-1 div.sk-label input.sk-toggleable__control:checked~label.sk-toggleable__label {background-color: #d4ebff;}#sk-container-id-1 input.sk-hidden--visually {border: 0;clip: rect(1px 1px 1px 1px);clip: rect(1px, 1px, 1px, 1px);height: 1px;margin: -1px;overflow: hidden;padding: 0;position: absolute;width: 1px;}#sk-container-id-1 div.sk-estimator {font-family: monospace;background-color: #f0f8ff;border: 1px dotted black;border-radius: 0.25em;box-sizing: border-box;margin-bottom: 0.5em;}#sk-container-id-1 div.sk-estimator:hover {background-color: #d4ebff;}#sk-container-id-1 div.sk-parallel-item::after {content: \"\";width: 100%;border-bottom: 1px solid gray;flex-grow: 1;}#sk-container-id-1 div.sk-label:hover label.sk-toggleable__label {background-color: #d4ebff;}#sk-container-id-1 div.sk-serial::before {content: \"\";position: absolute;border-left: 1px solid gray;box-sizing: border-box;top: 0;bottom: 0;left: 50%;z-index: 0;}#sk-container-id-1 div.sk-serial {display: flex;flex-direction: column;align-items: center;background-color: white;padding-right: 0.2em;padding-left: 0.2em;position: relative;}#sk-container-id-1 div.sk-item {position: relative;z-index: 1;}#sk-container-id-1 div.sk-parallel {display: flex;align-items: stretch;justify-content: center;background-color: white;position: relative;}#sk-container-id-1 div.sk-item::before, #sk-container-id-1 div.sk-parallel-item::before {content: \"\";position: absolute;border-left: 1px solid gray;box-sizing: border-box;top: 0;bottom: 0;left: 50%;z-index: -1;}#sk-container-id-1 div.sk-parallel-item {display: flex;flex-direction: column;z-index: 1;position: relative;background-color: white;}#sk-container-id-1 div.sk-parallel-item:first-child::after {align-self: flex-end;width: 50%;}#sk-container-id-1 div.sk-parallel-item:last-child::after {align-self: flex-start;width: 50%;}#sk-container-id-1 div.sk-parallel-item:only-child::after {width: 0;}#sk-container-id-1 div.sk-dashed-wrapped {border: 1px dashed gray;margin: 0 0.4em 0.5em 0.4em;box-sizing: border-box;padding-bottom: 0.4em;background-color: white;}#sk-container-id-1 div.sk-label label {font-family: monospace;font-weight: bold;display: inline-block;line-height: 1.2em;}#sk-container-id-1 div.sk-label-container {text-align: center;}#sk-container-id-1 div.sk-container {/* jupyter's `normalize.less` sets `[hidden] { display: none; }` but bootstrap.min.css set `[hidden] { display: none !important; }` so we also need the `!important` here to be able to override the default hidden behavior on the sphinx rendered scikit-learn.org. See: https://github.com/scikit-learn/scikit-learn/issues/21755 */display: inline-block !important;position: relative;}#sk-container-id-1 div.sk-text-repr-fallback {display: none;}</style><div id=\"sk-container-id-1\" class=\"sk-top-container\"><div class=\"sk-text-repr-fallback\"><pre>LinearRegression()</pre><b>In a Jupyter environment, please rerun this cell to show the HTML representation or trust the notebook. <br />On GitHub, the HTML representation is unable to render, please try loading this page with nbviewer.org.</b></div><div class=\"sk-container\" hidden><div class=\"sk-item\"><div class=\"sk-estimator sk-toggleable\"><input class=\"sk-toggleable__control sk-hidden--visually\" id=\"sk-estimator-id-1\" type=\"checkbox\" checked><label for=\"sk-estimator-id-1\" class=\"sk-toggleable__label sk-toggleable__label-arrow\">LinearRegression</label><div class=\"sk-toggleable__content\"><pre>LinearRegression()</pre></div></div></div></div></div>"
            ],
            "text/plain": [
              "LinearRegression()"
            ]
          },
          "execution_count": 34,
          "metadata": {},
          "output_type": "execute_result"
        }
      ],
      "source": [
        "# Create a LinearRegression model\n",
        "lr = LinearRegression()  \n",
        "\n",
        "# Fit the model to the training data with sample weights\n",
        "lr.fit(X_train, y_train_t, sample_weight=sample_weight) \n"
      ]
    },
    {
      "cell_type": "markdown",
      "id": "ca6c359d",
      "metadata": {
        "id": "ca6c359d"
      },
      "source": [
        "### **Model evaluation**"
      ]
    },
    {
      "cell_type": "markdown",
      "id": "e1acf59b",
      "metadata": {
        "id": "e1acf59b"
      },
      "source": [
        "- Now that we've trained our model, we can use it to generate predictions on both our training and test sets:"
      ]
    },
    {
      "cell_type": "code",
      "execution_count": null,
      "id": "36371138",
      "metadata": {
        "id": "36371138"
      },
      "outputs": [],
      "source": [
        "# Make predictions on the training data\n",
        "y_pred_train = lr.predict(X_train)  \n",
        "\n",
        "# Make predictions on the test data\n",
        "y_pred_test = lr.predict(X_test)    "
      ]
    },
    {
      "cell_type": "markdown",
      "id": "2c1bda38",
      "metadata": {
        "id": "2c1bda38"
      },
      "source": [
        "- Remember that the model was trained based on a transformed version of the target. Therefore we need to perform the inverse **Yeo-Johnson** transform to convert the model predictions to the original format of the target:"
      ]
    },
    {
      "cell_type": "code",
      "execution_count": null,
      "id": "2a3e0b46",
      "metadata": {
        "id": "2a3e0b46"
      },
      "outputs": [],
      "source": [
        "# Inverse transform the training data predictions and flatten to 1D\n",
        "y_pred_train = pt.inverse_transform(y_pred_train.reshape(-1, 1))[:, 0]  \n",
        "\n",
        "# Inverse transform the test data predictions and flatten to 1D\n",
        "y_pred_test = pt.inverse_transform(y_pred_test.reshape(-1, 1))[:, 0]    \n"
      ]
    },
    {
      "cell_type": "markdown",
      "id": "f524713b",
      "metadata": {
        "id": "f524713b"
      },
      "source": [
        "- With our predictions, we can evaluate our model:"
      ]
    },
    {
      "cell_type": "code",
      "execution_count": null,
      "id": "85d6ce83",
      "metadata": {
        "id": "85d6ce83"
      },
      "outputs": [],
      "source": [
        "# Calculate the model performance on the training data\n",
        "base_perf_train = calc_model_performance(y_train, y_pred_train)  \n"
      ]
    },
    {
      "cell_type": "code",
      "execution_count": null,
      "id": "427fc37f",
      "metadata": {
        "id": "427fc37f",
        "outputId": "f37ecf97-e19a-4432-a183-4cf89731d415"
      },
      "outputs": [
        {
          "data": {
            "text/plain": [
              "{'Root Mean Squared Error': 5964.030079525293,\n",
              " 'Mean Squared Error': 35569654.78948248,\n",
              " 'Mean Absolute Error': 4583.192074027691,\n",
              " 'Mean Absolute Percentage Error': 0.7487184929524602,\n",
              " 'R Squared': 0.7572131565075644}"
            ]
          },
          "execution_count": 38,
          "metadata": {},
          "output_type": "execute_result"
        }
      ],
      "source": [
        "base_perf_train"
      ]
    },
    {
      "cell_type": "code",
      "execution_count": null,
      "id": "7ab2c64e",
      "metadata": {
        "id": "7ab2c64e"
      },
      "outputs": [],
      "source": [
        "# Calculate the model performance on the test data\n",
        "base_perf_test = calc_model_performance(y_test, y_pred_test)  \n"
      ]
    },
    {
      "cell_type": "code",
      "execution_count": null,
      "id": "cdc2b619",
      "metadata": {
        "id": "cdc2b619",
        "outputId": "acd9d5bd-fd0c-4d0d-b013-ae99a39abca6"
      },
      "outputs": [
        {
          "data": {
            "text/plain": [
              "{'Root Mean Squared Error': 5752.477398059849,\n",
              " 'Mean Squared Error': 33090996.215189416,\n",
              " 'Mean Absolute Error': 4534.422635060568,\n",
              " 'Mean Absolute Percentage Error': 0.756537151185135,\n",
              " 'R Squared': 0.774191723271553}"
            ]
          },
          "execution_count": 40,
          "metadata": {},
          "output_type": "execute_result"
        }
      ],
      "source": [
        "base_perf_test"
      ]
    },
    {
      "cell_type": "markdown",
      "id": "b2b4a132",
      "metadata": {
        "id": "b2b4a132"
      },
      "source": [
        "- **So our evaluation metric for the model (RMSE) is ~5964 on the training set and ~5752 on the test set.**"
      ]
    },
    {
      "cell_type": "markdown",
      "id": "69593fe0",
      "metadata": {
        "id": "69593fe0"
      },
      "source": [
        "### **Check normality of residuals**"
      ]
    },
    {
      "cell_type": "markdown",
      "id": "1a1b8b98",
      "metadata": {
        "id": "1a1b8b98"
      },
      "source": [
        "- We can check the normality of residuals using a QQ (quantile-quantile) plot. This plots the value of each actual quantile (from the data) vs the theoretical quantile (assuming a normal distribution). If the data is perfectly normally distributed, you'd expect the datapoints to lie on the line.\n",
        "\n",
        "- We'll also use a histogram as a more interpretable visualisation of the residuals."
      ]
    },
    {
      "cell_type": "code",
      "execution_count": null,
      "id": "5d181c5d",
      "metadata": {
        "id": "5d181c5d"
      },
      "outputs": [],
      "source": [
        "# Calculate residuals for the training data\n",
        "residuals_train = y_train - y_pred_train  \n",
        "\n",
        "# Calculate residuals for the test data\n",
        "residuals_test = y_test - y_pred_test    \n"
      ]
    },
    {
      "cell_type": "code",
      "execution_count": null,
      "id": "8034d241",
      "metadata": {
        "id": "8034d241",
        "outputId": "efc9b958-5c19-4e03-cb11-e16f17d8f59c"
      },
      "outputs": [
        {
          "data": {
            "image/png": "[encoded data removed]",
            "text/plain": [
              "<Figure size 640x480 with 1 Axes>"
            ]
          },
          "metadata": {},
          "output_type": "display_data"
        }
      ],
      "source": [
        "# Create a quantile-quantile (QQ) plot for training data residuals\n",
        "fig = sm.qqplot(residuals_train, fit=True, line='45')  \n"
      ]
    },
    {
      "cell_type": "code",
      "execution_count": null,
      "id": "a5373e21",
      "metadata": {
        "id": "a5373e21",
        "outputId": "3ee478f2-dad0-4504-ad05-767b5fef30ba"
      },
      "outputs": [
        {
          "data": {
            "image/png": "[encoded data removed]",
            "text/plain": [
              "<Figure size 640x480 with 1 Axes>"
            ]
          },
          "metadata": {},
          "output_type": "display_data"
        }
      ],
      "source": [
        "# Create a quantile-quantile (QQ) plot for test data residuals\n",
        "fig = sm.qqplot(residuals_test, fit=True, line='45')  "
      ]
    },
    {
      "cell_type": "code",
      "execution_count": null,
      "id": "3c2d4a3f",
      "metadata": {
        "id": "3c2d4a3f",
        "outputId": "63d6d51e-7ff0-4c30-819a-d3912129659a"
      },
      "outputs": [
        {
          "data": {
            "application/vnd.plotly.v1+json": {
              "config": {
                "plotlyServerURL": "https://plot.ly"
              },
              "data": [
                {
                  "alignmentgroup": "True",
                  "bingroup": "x",
                  "hovertemplate": "variable=charges<br>value=%{x}<br>count=%{y}<extra></extra>",
                  "legendgroup": "charges",
                  "marker": {
                    "color": "#636efa",
                    "pattern": {
                      "shape": ""
                    }
                  },
                  "name": "charges",
                  "offsetgroup": "charges",
                  "orientation": "v",
                  "showlegend": true,
                  "type": "histogram",
                  "x": [
                    -1452.5302472350477,
                    3563.08134138029,
                    4546.563024613351,
                    -5803.948287019097,
                    -6562.256131319802,
                    6585.655438857815,
                    24123.982107883716,
                    -6834.715022739939,
                    -4444.452405636421,
                    -6548.55369734036,
                    -1734.7138946579926,
                    7580.709035976604,
                    196.93047188658238,
                    -869.4790324379392,
                    -3043.158384004345,
                    -237.77845754009468,
                    16098.874535428964,
                    -5203.684448384862,
                    14938.680913348486,
                    -61.17012342877206,
                    -1295.6293300952166,
                    -34.80750899352006,
                    -10531.990003550036,
                    -4085.082242314189,
                    -1674.087961346655,
                    -4090.6870539130696,
                    -6355.928824048922,
                    -978.8264619713354,
                    -5250.001316012808,
                    6092.513340984522,
                    6896.47023725406,
                    -4741.755434801018,
                    -8693.965440753573,
                    -4601.055142722926,
                    -5742.050182920393,
                    -1737.6688201906782,
                    2242.0204843263164,
                    -3681.2763404165466,
                    -4004.5092771459895,
                    -1931.0105880916744,
                    -6777.527611452984,
                    -5398.5340012971155,
                    -4038.0293946886886,
                    -6229.893474326382,
                    -5038.293994305608,
                    -9227.045908063064,
                    619.4159215610798,
                    5713.12118924009,
                    8546.741273212803,
                    -6252.009310545587,
                    6903.222132927753,
                    -4089.2091584295567,
                    -4558.0634648603955,
                    -4442.38953325449,
                    -877.6949888390554,
                    -2565.005697866185,
                    -1771.3199835473406,
                    -2287.1890870595735,
                    -5245.095996346892,
                    -1677.135676176721,
                    -6546.672803201777,
                    -3695.25662912603,
                    -3306.151157903446,
                    -1263.5557451900313,
                    15558.305672332952,
                    -4323.718733268158,
                    -2033.3783797894412,
                    -3858.0274509874,
                    1404.3515868159175,
                    -6703.3402392837015,
                    1995.7805445900522,
                    -5242.2429650048925,
                    -1224.4763644800141,
                    8665.361566948122,
                    -3973.6154852702907,
                    6307.155782858237,
                    -802.8390126554605,
                    -3151.523701564172,
                    -5508.167164989367,
                    -4244.663463100324,
                    -3312.7633223708344,
                    -4258.715636525295,
                    8805.675835810647,
                    -3201.4453222349393,
                    -4469.346949609279,
                    -4131.001967802136,
                    -710.8870650929839,
                    7048.698590051492,
                    -8289.873431873413,
                    -1795.494849455612,
                    -2625.2262422376025,
                    -2173.5281729423295,
                    1031.2932925703317,
                    -425.7459832877066,
                    1985.7682151051613,
                    584.8194635592135,
                    -5573.3504820648195,
                    -4325.451438144759,
                    -1058.2249681852682,
                    -2021.94067254517,
                    -1209.9203223293098,
                    -3004.421912537373,
                    -4643.8122960637875,
                    2270.8676051632065,
                    -6391.285196485493,
                    645.8018032661967,
                    -4246.324549443885,
                    -3887.4362051406442,
                    5970.371270424632,
                    -6332.9639770752165,
                    -6118.699060335893,
                    -3851.9826854443363,
                    509.68276338704527,
                    -8982.697307199414,
                    8336.48026257029,
                    -7453.363582600428,
                    1848.159363531864,
                    -2261.9718529458005,
                    -4162.72090386743,
                    -742.0083229667271,
                    -11840.42868884404,
                    6695.677556510665,
                    -6624.536019461964,
                    -8538.087218654,
                    -3673.539582262553,
                    -4723.403069449537,
                    -1066.5481081267135,
                    703.9639496345098,
                    -1485.2967886861675,
                    -2261.2433809049253,
                    420.31854426292193,
                    -1865.2774491250084,
                    -1360.6187830556992,
                    -1928.3310375056808,
                    -3397.69014265426,
                    -9246.959548622686,
                    -6924.572395400836,
                    -2737.0194541686724,
                    749.4519915669298,
                    -7674.7280212248115,
                    -1826.4389619847389,
                    -4322.573958255787,
                    -2776.1661344068434,
                    -3238.496127971268,
                    -8772.020299364343,
                    -1466.9007087679156,
                    -4379.219203658417,
                    -2120.6085126768285,
                    -2793.341095879996,
                    238.50141375604107,
                    -3549.6071817880747,
                    -4894.405554906237,
                    -3889.5782899255055,
                    -1666.660251293405,
                    7392.56102419082,
                    -4823.462098020134,
                    4567.04351500568,
                    -7490.655824455013,
                    6783.232644526652,
                    -4536.4991321409,
                    1602.474256147616,
                    9249.421101918291,
                    -1614.9643296399317,
                    -1782.8537463333341,
                    -2696.2901942344906,
                    -5308.719653523151,
                    -3126.8209700231223,
                    -7082.3232310558415,
                    -4288.358393251754,
                    -3169.873244550824,
                    10529.944090369656,
                    2730.9996832683755,
                    -1579.7477419959432,
                    -3853.706658327671,
                    -6888.880489901246,
                    -2081.339472736715,
                    -1233.8679328907956,
                    583.1454306137384,
                    1867.7831549475595,
                    810.5424036555978,
                    -3355.973040045159,
                    -3589.7258870961005,
                    -3931.3655748972187,
                    -9412.74444316767,
                    -206.46235296148188,
                    -13324.02758992554,
                    -6847.557073157694,
                    4749.379920452433,
                    -549.2616499441574,
                    6623.91502690981,
                    -731.8967004447604,
                    -1343.3791541175697,
                    500.1740626506016,
                    -5400.508709251748,
                    -5734.967456790306,
                    2708.2323069413833,
                    -3141.2384810514036,
                    -5146.788632911296,
                    7269.001994043974,
                    -7757.414706630683,
                    -3176.738839331754,
                    4909.527902308706,
                    -1916.8493398005648,
                    -2107.5126510672762,
                    18237.373506508102,
                    -2726.5272583231927,
                    -3552.89389128415,
                    -6118.467368045491,
                    7553.4035199424725,
                    -5226.450490109415,
                    -7064.025822152806,
                    7452.449106363212,
                    -1583.1634304109266,
                    -7461.098638686155,
                    -4143.576436139094,
                    -4336.296864435002,
                    17333.894137796593,
                    -6511.044967174512,
                    2435.445613801654,
                    -4641.697917309853,
                    -2948.373239266718,
                    471.06198991684687,
                    -5405.414866572577,
                    -5912.515325517962,
                    -2791.8330804269954,
                    -1245.9651011314654,
                    -6445.858775250072,
                    -2173.8925920175434,
                    227.23355893224834,
                    15224.5897301389,
                    -1170.1792404929674,
                    7532.16878301054,
                    236.56914528580728,
                    -1217.0538440479486,
                    -6060.494518913441,
                    -3315.0357835065224,
                    2651.890300297545,
                    -1340.4239678850772,
                    -12790.50159035849,
                    5245.901971186409,
                    -3933.5800389631213,
                    -1008.1101143006508,
                    -4654.717652922702,
                    -3230.9590136505267,
                    441.023140422044,
                    -7670.081438146008,
                    1787.5896097918685,
                    -2846.046638072713,
                    -3155.9251607964443,
                    384.65447633952317,
                    -3865.253018735769,
                    -7399.708515683145,
                    3838.863723432597,
                    -4196.618566541376,
                    1739.6919230377534,
                    -5692.167718058763,
                    -3585.1822858993355,
                    -4282.457246591392,
                    42.339617700959934,
                    -1464.8895914180375,
                    -7306.452112294384,
                    -487.07996071231173,
                    -2842.2455778243575,
                    -1204.5037441047507,
                    -3675.227686072511,
                    -4007.8170141789597,
                    -3322.9286665318396,
                    8646.265315386976,
                    -4445.278059631584,
                    7370.305302903562,
                    -3717.9731452507103,
                    -2767.1866381118843,
                    -4510.539228647532,
                    9257.111070076964,
                    -628.2152609734903,
                    -7304.654068300684,
                    -2944.888665725122,
                    3532.0664129204524,
                    -3073.0512451077348,
                    -3166.307777545187,
                    -3189.0708275126617,
                    -4199.290683071429,
                    -5881.750965438896,
                    -1498.1661344068434,
                    -1500.102913947214,
                    -12718.175331448823,
                    -4711.695086470911,
                    -3468.660017534209,
                    -3553.470266595743,
                    21977.106706124017,
                    -2582.243785208966,
                    -2902.5726163386353,
                    -1845.2404636848696,
                    -4113.058435050589,
                    79.14109879035823,
                    -6844.577186165967,
                    -7477.035425102383,
                    -7323.307419424036,
                    -6673.0587509689185,
                    -7007.08265102917,
                    -2056.56609168648,
                    -5906.922694744171,
                    189.50119323639228,
                    -5728.129029978289,
                    3009.983440171487,
                    -1699.8363444455572,
                    1463.6707953437653,
                    -2949.9624796681965,
                    7568.620463625484,
                    -6463.988423851508,
                    -3622.2179934889064,
                    -4016.3051321062703,
                    -2531.718768526405,
                    -4705.151609639073,
                    -2433.6941558611825,
                    2442.433378716385,
                    -3609.8757649878025,
                    -4059.114388469259,
                    -2408.6043601114534,
                    19521.838365954303,
                    902.0213711470533,
                    -10533.963256746127,
                    -3091.8088128753443,
                    -936.6939388880892,
                    -2740.234047662786,
                    -2898.820464563809,
                    -4915.006625496792,
                    -3911.4673902956956,
                    726.1371698293278,
                    -2968.791714820868,
                    12989.557639410135,
                    -1347.7058054003046,
                    -4786.037474290137,
                    14020.470421319384,
                    -1118.8588477926605,
                    -4540.544522833609,
                    -1417.1148121038104,
                    -3308.304983085105,
                    -2099.116218102403,
                    -4911.874393640543,
                    -2543.561301088632,
                    12643.663124559786,
                    -4317.112272571294,
                    5.203208891613031,
                    2364.4368889362886,
                    -5107.565333664914,
                    -5200.207439984926,
                    -4802.520023031316,
                    3997.1495666981937,
                    -36.019682921409185,
                    2697.2620732670275,
                    10779.639197193526,
                    -2595.6073304044994,
                    -4778.27090006467,
                    16465.218738095886,
                    -2486.374131235946,
                    -4627.307549276408,
                    -633.1285639999915,
                    -2406.859606040509,
                    4360.315141842268,
                    424.0778568704063,
                    -2605.373707095292,
                    -5582.78063074443,
                    -6974.0089116389145,
                    481.212813658316,
                    1993.3515868159175,
                    5963.893601265605,
                    -8677.654672185858,
                    5936.888148550768,
                    -4022.017934298865,
                    -3196.9325404100646,
                    -11142.577359138828,
                    -422.07257295374893,
                    -5970.725793092492,
                    -2321.7144430286944,
                    -5516.758882230155,
                    -4178.936851560797,
                    742.3295048636492,
                    -1384.7765179581202,
                    -2979.1160452964623,
                    -2819.2754250938942,
                    -3953.404957726184,
                    -4559.343967855816,
                    1476.2495691985441,
                    15239.755261234091,
                    -484.7061486058974,
                    -8459.79384937742,
                    -5421.80966985112,
                    -2667.871552143246,
                    852.5872948586693,
                    1138.968953033378,
                    -2943.599468788807,
                    -3965.083417948111,
                    -3726.4692492329805,
                    12974.620935449175,
                    5036.67104722558,
                    -7012.86236069866,
                    17146.791036819966,
                    17156.842949120888,
                    9564.405091491019,
                    -3251.8080971334957,
                    -204.02334124768095,
                    -2126.617904598532,
                    -943.2639874132501,
                    -4361.926526898176,
                    -11804.829111341305,
                    -6912.6687717939685,
                    -12398.986292989008,
                    -6334.805005193179,
                    -4569.361941294375,
                    -1774.8638078721751,
                    -3815.6147309689723,
                    -3717.0347081968675,
                    5154.685503724591,
                    1610.6050143631928,
                    -6097.787496020916,
                    -106.04759936791743,
                    -733.4729187842386,
                    -6696.135965590598,
                    -2681.469624814268,
                    -5542.270734718913,
                    -4770.155117312737,
                    -7.90130533388583,
                    -3703.12489100575,
                    16210.760864116182,
                    -9115.288124656108,
                    1492.0391883948887,
                    -434.03621575551006,
                    -1641.3555925077062,
                    -1652.0020320623098,
                    -2146.6549881781575,
                    -12270.753157324685,
                    -2815.4369236409293,
                    902.6765212410091,
                    -2876.9303149805646,
                    -1494.5155674598636,
                    1256.424308345935,
                    -3151.1018683713955,
                    -3724.0628160352317,
                    -5009.430288532628,
                    -4664.6975649082215,
                    956.7342942451396,
                    -703.9064974573939,
                    -2085.0357470156214,
                    -4564.4919095004325,
                    -1697.7411529043002,
                    -5809.2144620581375,
                    -2368.267234846171,
                    7057.612083623753,
                    -4655.743074716707,
                    111.33105670058285,
                    -2004.3390094198912,
                    9221.360288813577,
                    -6062.42316609686,
                    -4233.924070223848,
                    -6897.567641400543,
                    -5676.851179541352,
                    -1708.8148825291883,
                    646.7325183175817,
                    -4141.877260577734,
                    -3317.9970056515776,
                    -4646.634475465358,
                    -3515.5923194984734,
                    -10288.332689231971,
                    -9036.897824583837,
                    8788.54026601033,
                    6093.2547500055625,
                    -3054.648529983394,
                    -3441.565786076925,
                    -2095.674685439373,
                    2146.674347950109,
                    -8081.033975756171,
                    -5019.197878845607,
                    -10744.285601844513,
                    -8561.483158363788,
                    -6144.483545764066,
                    -6553.8499683106,
                    -6369.935862632017,
                    -610.6309628718791,
                    -8420.771341757325,
                    -4172.377090094706,
                    -4060.0918287349796,
                    11249.415252141825,
                    11922.077362098946,
                    -1269.820792486612,
                    -7567.254313458876,
                    -4007.941455523649,
                    8939.80853084525,
                    5628.92594988475,
                    6451.582951274416,
                    -698.2097738675893,
                    -4423.691027141193,
                    -4384.149437568329,
                    -5459.716461417175,
                    -4948.985110657923,
                    -2267.0955069595184,
                    16748.88398482494,
                    -7877.565719994436,
                    -3811.004831763007,
                    -5599.392809987601,
                    -8147.155359332683,
                    -2466.775418104984,
                    -2155.571881535022,
                    -4373.637296767004,
                    122.69818420409865,
                    1614.7794655987163,
                    -115.95136235946484,
                    -2550.827731515051,
                    -3583.6406931102856,
                    1448.1704088545594,
                    -13246.023116385411,
                    -2085.603108757343,
                    -4636.754520508219,
                    -5459.507376402585,
                    -4415.126223633007,
                    -6480.871972242936,
                    -7186.187100723531,
                    13795.801497652137,
                    22366.566026082495,
                    -1838.8318749897498,
                    -8772.21362931679,
                    149.2771660633971,
                    -675.0576752172901,
                    -4672.431029225692,
                    -2444.1589308651564,
                    -3246.586714210348,
                    -4201.349972949101,
                    -5924.180092427036,
                    -7390.747074202243,
                    -1428.903593281585,
                    -9536.759491999348,
                    9181.263653665084,
                    -186.9545989392136,
                    -8501.872746927345,
                    2518.874889855091,
                    9542.415854007355,
                    -1445.0574129310498,
                    -2894.884040863708,
                    -1348.1002683803817,
                    -948.598431940949,
                    -7512.2466445121245,
                    -4320.894771047664,
                    -3055.53490902619,
                    -5610.868791091241,
                    -2723.9380695821255,
                    -3452.045836854672,
                    -2976.593766345217,
                    -9336.27507010063,
                    21337.74491266097,
                    290.0014240927321,
                    -5455.609215950287,
                    -7263.507819971447,
                    -5338.165558052509,
                    -4916.086115711896,
                    4491.126656497196,
                    -1632.7144430286944,
                    15975.400045256507,
                    -5606.867467538468,
                    -5440.113696754365,
                    14466.242844389039,
                    -4377.1955078850515,
                    -3867.881985594586,
                    10510.047995064313,
                    -6185.507819971447,
                    -10866.73314736121,
                    7440.601379843472,
                    -176.7351419181814,
                    -1379.6253403197315,
                    13058.35170071548,
                    -4713.143351493295,
                    -434.10264991295116,
                    -3945.14244709593,
                    -15.660649916682814,
                    12269.313241142841,
                    -4570.994456998625,
                    -2737.9936444167197,
                    -19.16291945402554,
                    -10234.450423748058,
                    -4777.853341918293,
                    -4814.451438144759,
                    -1765.092423791908,
                    6123.284706366396,
                    -705.7431192172371,
                    -5813.699112112241,
                    -4312.461765510292,
                    -2668.8589359473053,
                    -2429.804137179455,
                    -5987.3506486490605,
                    -2336.6402424113085,
                    -3773.35194577937,
                    -6980.942838208685,
                    -6221.9951320033815,
                    -2793.1067883054484,
                    4622.525736921827,
                    -1492.6931599548507,
                    -3683.7587472752966,
                    -2524.8076483375307,
                    -8329.985172157427,
                    -2515.6850315701513,
                    -415.4768451499094,
                    1779.0097916640661,
                    -1750.8632614266953,
                    -4697.544777922533,
                    12608.629362080754,
                    -3854.4473056369425,
                    -1597.1543311449277,
                    -1396.1481737457934,
                    -3891.042684061132,
                    1879.5426611269486,
                    -3534.2918581993276,
                    649.023307587986,
                    -1531.251185502886,
                    -4633.987703568708,
                    -3834.40578915235,
                    -4426.931691759111,
                    2566.394266826357,
                    15036.81311907394,
                    9241.468674216027,
                    -1178.3325204438079,
                    -1549.8763476464137,
                    -6094.740555466495,
                    -3323.6599772811214,
                    -385.5751224010328,
                    -7327.610188411916,
                    -2073.320685212565,
                    8312.639323080672,
                    -3661.5649615235543,
                    -1112.0822069477854,
                    -2088.6588399348057,
                    -1559.706424541726,
                    10305.738403193704,
                    -5379.931547629038,
                    -960.7522930394389,
                    -5529.408428477795,
                    -6030.524547265486,
                    13663.541225501209,
                    -5351.373124160684,
                    18277.92006309635,
                    5606.385159280595,
                    15476.075126505895,
                    -6458.554726643795,
                    -967.8449772197546,
                    -2042.4665835997266,
                    -1385.1731155350935,
                    3205.1465274813763,
                    -2708.951150114084,
                    1756.335835352329,
                    -201.63135516038528,
                    -3686.487161447698,
                    -5133.7899245100225,
                    -7622.838089987723,
                    -3600.6399864509167,
                    -1122.9154614686631,
                    4734.536634321088,
                    -7770.505710985807,
                    480.15400135164236,
                    -543.0064650684835,
                    -3665.9012590668617,
                    7767.497146828606,
                    -5877.898785346914,
                    -1865.1978717864495,
                    -9192.56020059367,
                    1817.0642708184314,
                    -2797.886004887082,
                    -4990.976382482211,
                    -2842.431747676894,
                    -1900.9288096747205,
                    -4021.2830329559492,
                    189.76567615545537,
                    -520.3637825333626,
                    2380.6299764840223,
                    -12357.637355648643,
                    -1588.0184598167307,
                    -518.1783901315994,
                    3466.4390314254997,
                    -2961.8449120039804,
                    -1446.2004982611415,
                    -7501.141592960241,
                    27534.2031971135,
                    -2728.65574079177,
                    -3337.1179782180534,
                    -5974.501046406809,
                    -4278.666475829228,
                    -3682.718393176554,
                    -6373.231166882237,
                    -5731.023285036414,
                    -4895.417672446509,
                    -11736.883262320167,
                    8638.675046192431,
                    -2405.907108417492,
                    -7381.028603280633,
                    -8296.505725765408,
                    -2437.2243231384364,
                    -5179.91004695604,
                    -5465.069329725104,
                    -1337.2653609120698,
                    -2472.4078462389034,
                    -468.62232924945056,
                    -3604.1333342045473,
                    6896.672317250632,
                    -3887.101403284464,
                    5046.631067015391,
                    -214.3577297181746,
                    -8143.516071554281,
                    180.9203732810729,
                    2391.0928730815813,
                    223.4370958458112,
                    -3757.9750650627516,
                    -5201.1217324635445,
                    -2917.3469006405085,
                    10094.759272516843,
                    -5072.104006717083,
                    -2392.976823977917,
                    -1453.6314622690916,
                    1165.0866333616723,
                    859.2948586020702,
                    -4899.7211777361845,
                    2089.38798371968,
                    504.6935575792395,
                    -4613.785688724505,
                    1979.0652990750423,
                    -4495.917449874962,
                    -3454.9888117205737,
                    5593.234765493862,
                    -1979.5661594254225,
                    -4817.1798856822215,
                    88.89928722526201,
                    -7307.261706636291,
                    18866.974229840976,
                    881.735513590349,
                    -5894.775356955228,
                    -4736.061761242505,
                    -2539.563630660672,
                    -2793.074425679256,
                    -4686.092483015927,
                    -6504.76191160624,
                    -7405.593453231566,
                    4985.016014072153,
                    -1269.1990663639936,
                    -6460.552179707719,
                    -6514.018268119008,
                    -2352.6417078521536,
                    -4860.6826375383625,
                    -3022.2124880011206,
                    -3007.683689364261,
                    -824.3546867427049,
                    -6099.775463111,
                    -4592.250677628675,
                    3632.0664129204524,
                    -7617.426967798663,
                    -932.1096455439529,
                    22179.099570717568,
                    -3218.7633223708344,
                    -4048.003986736053,
                    23493.732807437904,
                    668.9720836782753,
                    -636.7539536161676,
                    8115.999563752732,
                    -4988.87005261285,
                    -4728.511246273531,
                    -2516.7057220077104,
                    -4014.0598555790602,
                    -7441.857198944303,
                    -2622.693807304722,
                    -6108.992020444888,
                    -4907.797628080611,
                    -7567.631567539476,
                    195.746150777195,
                    -1354.7350342116506,
                    -1558.8218206994816,
                    -4817.528594930698,
                    151.21910241897058,
                    -2311.7755529147307,
                    -2764.8004741753266,
                    -4758.569818425209,
                    9196.306823086452,
                    -3306.8367008882533,
                    -757.8074509937942,
                    -2537.0760485309947,
                    -1485.0403742476847,
                    -5282.796489971384,
                    -6371.465056646446,
                    5493.790160253913,
                    -142.09302987392584,
                    -8971.04670663074,
                    -4900.214655715758,
                    -3184.8566214223583,
                    -9572.982990852692,
                    -127.12602244300615,
                    -2241.283853061137,
                    -4655.208128339562,
                    -1464.5454122025421,
                    -5257.033470507115,
                    -4377.4431148231215,
                    1899.2348220843414,
                    -3792.245548773555,
                    -4729.827340672437,
                    -4284.122276953954,
                    2646.392833030366,
                    -2067.3713341030525,
                    -3163.0801135939582,
                    -6429.540080267856,
                    -4733.052194490589,
                    8440.915882705889,
                    -913.2631127275745,
                    257.10767112833673,
                    4893.011803528745,
                    15263.148766884879,
                    -5299.048735276356,
                    2868.839233508479,
                    -5823.581498794643,
                    -1474.810883616171,
                    -3770.6142910936264,
                    13101.116168946166,
                    -3131.244404127532,
                    -3978.7377297469907,
                    -294.9149767090439,
                    -5256.137539745004,
                    -2725.717790796434,
                    -3153.487077314724,
                    1429.483337339143,
                    -1584.7593409421552,
                    -3918.4862647853847,
                    -3270.71810843362,
                    6205.133611619194,
                    -5489.341256202817,
                    -536.8422149959679,
                    133.90002363643453,
                    -2648.3017396955547,
                    7851.872579591505,
                    -4735.902780035884,
                    -9034.12294502171,
                    -6408.649498627916,
                    -3310.1372449778937,
                    -4932.399053206293,
                    9824.53927960133,
                    -6146.094232037591,
                    11293.102074072436,
                    -3415.616594657916,
                    18981.26320774656,
                    -1852.8773697726028,
                    -3542.792955908429,
                    7877.501301565513,
                    805.2912665026342,
                    -3921.5392286475317,
                    -4475.403468127779,
                    -3245.655976668111,
                    -1579.8424440915296,
                    -4823.516392109415,
                    -2849.9003540497197,
                    -7218.925473785984,
                    20444.787999362172,
                    -3765.7655202200413,
                    -5880.439222085421,
                    -2015.3655505557144,
                    -2399.030693044412,
                    772.1543983068877,
                    -2788.230531162103,
                    7707.605397260806,
                    -5493.808399469844,
                    -7759.181263045921,
                    -1168.7293191028348,
                    5734.954464422222,
                    -3689.9368515607966,
                    -6929.520493515845,
                    -6079.65090376378,
                    -1176.6137125500609,
                    -1189.8882988048463,
                    -9409.576870802266,
                    1786.8219440991816,
                    -3887.2781827986564,
                    489.07258117129095,
                    -4666.062221006493,
                    -2747.819918640922,
                    -6154.655044818497,
                    -2534.38756637287,
                    -7000.706853087042,
                    4042.984394322999,
                    -6613.726146135674,
                    -4408.345907823195,
                    -2276.140067849492,
                    -19.20502483720975,
                    1190.2131317446529,
                    -4253.11544364883,
                    10483.593391094244,
                    -252.84764452181298,
                    -2349.3584432660136,
                    -508.9713246531883,
                    700.247591141484,
                    -4040.3231353765805,
                    -2478.9113252349216,
                    -2560.116864084296,
                    598.4715370089962,
                    886.5374739950948,
                    -2278.544949848576,
                    -1792.9044072509205
                  ],
                  "xaxis": "x",
                  "yaxis": "y"
                }
              ],
              "layout": {
                "barmode": "relative",
                "legend": {
                  "title": {
                    "text": "variable"
                  },
                  "tracegroupgap": 0
                },
                "margin": {
                  "t": 60
                },
                "template": {
                  "data": {
                    "bar": [
                      {
                        "error_x": {
                          "color": "#2a3f5f"
                        },
                        "error_y": {
                          "color": "#2a3f5f"
                        },
                        "marker": {
                          "line": {
                            "color": "#E5ECF6",
                            "width": 0.5
                          },
                          "pattern": {
                            "fillmode": "overlay",
                            "size": 10,
                            "solidity": 0.2
                          }
                        },
                        "type": "bar"
                      }
                    ],
                    "barpolar": [
                      {
                        "marker": {
                          "line": {
                            "color": "#E5ECF6",
                            "width": 0.5
                          },
                          "pattern": {
                            "fillmode": "overlay",
                            "size": 10,
                            "solidity": 0.2
                          }
                        },
                        "type": "barpolar"
                      }
                    ],
                    "carpet": [
                      {
                        "aaxis": {
                          "endlinecolor": "#2a3f5f",
                          "gridcolor": "white",
                          "linecolor": "white",
                          "minorgridcolor": "white",
                          "startlinecolor": "#2a3f5f"
                        },
                        "baxis": {
                          "endlinecolor": "#2a3f5f",
                          "gridcolor": "white",
                          "linecolor": "white",
                          "minorgridcolor": "white",
                          "startlinecolor": "#2a3f5f"
                        },
                        "type": "carpet"
                      }
                    ],
                    "choropleth": [
                      {
                        "colorbar": {
                          "outlinewidth": 0,
                          "ticks": ""
                        },
                        "type": "choropleth"
                      }
                    ],
                    "contour": [
                      {
                        "colorbar": {
                          "outlinewidth": 0,
                          "ticks": ""
                        },
                        "colorscale": [
                          [
                            0,
                            "#0d0887"
                          ],
                          [
                            0.1111111111111111,
                            "#46039f"
                          ],
                          [
                            0.2222222222222222,
                            "#7201a8"
                          ],
                          [
                            0.3333333333333333,
                            "#9c179e"
                          ],
                          [
                            0.4444444444444444,
                            "#bd3786"
                          ],
                          [
                            0.5555555555555556,
                            "#d8576b"
                          ],
                          [
                            0.6666666666666666,
                            "#ed7953"
                          ],
                          [
                            0.7777777777777778,
                            "#fb9f3a"
                          ],
                          [
                            0.8888888888888888,
                            "#fdca26"
                          ],
                          [
                            1,
                            "#f0f921"
                          ]
                        ],
                        "type": "contour"
                      }
                    ],
                    "contourcarpet": [
                      {
                        "colorbar": {
                          "outlinewidth": 0,
                          "ticks": ""
                        },
                        "type": "contourcarpet"
                      }
                    ],
                    "heatmap": [
                      {
                        "colorbar": {
                          "outlinewidth": 0,
                          "ticks": ""
                        },
                        "colorscale": [
                          [
                            0,
                            "#0d0887"
                          ],
                          [
                            0.1111111111111111,
                            "#46039f"
                          ],
                          [
                            0.2222222222222222,
                            "#7201a8"
                          ],
                          [
                            0.3333333333333333,
                            "#9c179e"
                          ],
                          [
                            0.4444444444444444,
                            "#bd3786"
                          ],
                          [
                            0.5555555555555556,
                            "#d8576b"
                          ],
                          [
                            0.6666666666666666,
                            "#ed7953"
                          ],
                          [
                            0.7777777777777778,
                            "#fb9f3a"
                          ],
                          [
                            0.8888888888888888,
                            "#fdca26"
                          ],
                          [
                            1,
                            "#f0f921"
                          ]
                        ],
                        "type": "heatmap"
                      }
                    ],
                    "heatmapgl": [
                      {
                        "colorbar": {
                          "outlinewidth": 0,
                          "ticks": ""
                        },
                        "colorscale": [
                          [
                            0,
                            "#0d0887"
                          ],
                          [
                            0.1111111111111111,
                            "#46039f"
                          ],
                          [
                            0.2222222222222222,
                            "#7201a8"
                          ],
                          [
                            0.3333333333333333,
                            "#9c179e"
                          ],
                          [
                            0.4444444444444444,
                            "#bd3786"
                          ],
                          [
                            0.5555555555555556,
                            "#d8576b"
                          ],
                          [
                            0.6666666666666666,
                            "#ed7953"
                          ],
                          [
                            0.7777777777777778,
                            "#fb9f3a"
                          ],
                          [
                            0.8888888888888888,
                            "#fdca26"
                          ],
                          [
                            1,
                            "#f0f921"
                          ]
                        ],
                        "type": "heatmapgl"
                      }
                    ],
                    "histogram": [
                      {
                        "marker": {
                          "pattern": {
                            "fillmode": "overlay",
                            "size": 10,
                            "solidity": 0.2
                          }
                        },
                        "type": "histogram"
                      }
                    ],
                    "histogram2d": [
                      {
                        "colorbar": {
                          "outlinewidth": 0,
                          "ticks": ""
                        },
                        "colorscale": [
                          [
                            0,
                            "#0d0887"
                          ],
                          [
                            0.1111111111111111,
                            "#46039f"
                          ],
                          [
                            0.2222222222222222,
                            "#7201a8"
                          ],
                          [
                            0.3333333333333333,
                            "#9c179e"
                          ],
                          [
                            0.4444444444444444,
                            "#bd3786"
                          ],
                          [
                            0.5555555555555556,
                            "#d8576b"
                          ],
                          [
                            0.6666666666666666,
                            "#ed7953"
                          ],
                          [
                            0.7777777777777778,
                            "#fb9f3a"
                          ],
                          [
                            0.8888888888888888,
                            "#fdca26"
                          ],
                          [
                            1,
                            "#f0f921"
                          ]
                        ],
                        "type": "histogram2d"
                      }
                    ],
                    "histogram2dcontour": [
                      {
                        "colorbar": {
                          "outlinewidth": 0,
                          "ticks": ""
                        },
                        "colorscale": [
                          [
                            0,
                            "#0d0887"
                          ],
                          [
                            0.1111111111111111,
                            "#46039f"
                          ],
                          [
                            0.2222222222222222,
                            "#7201a8"
                          ],
                          [
                            0.3333333333333333,
                            "#9c179e"
                          ],
                          [
                            0.4444444444444444,
                            "#bd3786"
                          ],
                          [
                            0.5555555555555556,
                            "#d8576b"
                          ],
                          [
                            0.6666666666666666,
                            "#ed7953"
                          ],
                          [
                            0.7777777777777778,
                            "#fb9f3a"
                          ],
                          [
                            0.8888888888888888,
                            "#fdca26"
                          ],
                          [
                            1,
                            "#f0f921"
                          ]
                        ],
                        "type": "histogram2dcontour"
                      }
                    ],
                    "mesh3d": [
                      {
                        "colorbar": {
                          "outlinewidth": 0,
                          "ticks": ""
                        },
                        "type": "mesh3d"
                      }
                    ],
                    "parcoords": [
                      {
                        "line": {
                          "colorbar": {
                            "outlinewidth": 0,
                            "ticks": ""
                          }
                        },
                        "type": "parcoords"
                      }
                    ],
                    "pie": [
                      {
                        "automargin": true,
                        "type": "pie"
                      }
                    ],
                    "scatter": [
                      {
                        "fillpattern": {
                          "fillmode": "overlay",
                          "size": 10,
                          "solidity": 0.2
                        },
                        "type": "scatter"
                      }
                    ],
                    "scatter3d": [
                      {
                        "line": {
                          "colorbar": {
                            "outlinewidth": 0,
                            "ticks": ""
                          }
                        },
                        "marker": {
                          "colorbar": {
                            "outlinewidth": 0,
                            "ticks": ""
                          }
                        },
                        "type": "scatter3d"
                      }
                    ],
                    "scattercarpet": [
                      {
                        "marker": {
                          "colorbar": {
                            "outlinewidth": 0,
                            "ticks": ""
                          }
                        },
                        "type": "scattercarpet"
                      }
                    ],
                    "scattergeo": [
                      {
                        "marker": {
                          "colorbar": {
                            "outlinewidth": 0,
                            "ticks": ""
                          }
                        },
                        "type": "scattergeo"
                      }
                    ],
                    "scattergl": [
                      {
                        "marker": {
                          "colorbar": {
                            "outlinewidth": 0,
                            "ticks": ""
                          }
                        },
                        "type": "scattergl"
                      }
                    ],
                    "scattermapbox": [
                      {
                        "marker": {
                          "colorbar": {
                            "outlinewidth": 0,
                            "ticks": ""
                          }
                        },
                        "type": "scattermapbox"
                      }
                    ],
                    "scatterpolar": [
                      {
                        "marker": {
                          "colorbar": {
                            "outlinewidth": 0,
                            "ticks": ""
                          }
                        },
                        "type": "scatterpolar"
                      }
                    ],
                    "scatterpolargl": [
                      {
                        "marker": {
                          "colorbar": {
                            "outlinewidth": 0,
                            "ticks": ""
                          }
                        },
                        "type": "scatterpolargl"
                      }
                    ],
                    "scatterternary": [
                      {
                        "marker": {
                          "colorbar": {
                            "outlinewidth": 0,
                            "ticks": ""
                          }
                        },
                        "type": "scatterternary"
                      }
                    ],
                    "surface": [
                      {
                        "colorbar": {
                          "outlinewidth": 0,
                          "ticks": ""
                        },
                        "colorscale": [
                          [
                            0,
                            "#0d0887"
                          ],
                          [
                            0.1111111111111111,
                            "#46039f"
                          ],
                          [
                            0.2222222222222222,
                            "#7201a8"
                          ],
                          [
                            0.3333333333333333,
                            "#9c179e"
                          ],
                          [
                            0.4444444444444444,
                            "#bd3786"
                          ],
                          [
                            0.5555555555555556,
                            "#d8576b"
                          ],
                          [
                            0.6666666666666666,
                            "#ed7953"
                          ],
                          [
                            0.7777777777777778,
                            "#fb9f3a"
                          ],
                          [
                            0.8888888888888888,
                            "#fdca26"
                          ],
                          [
                            1,
                            "#f0f921"
                          ]
                        ],
                        "type": "surface"
                      }
                    ],
                    "table": [
                      {
                        "cells": {
                          "fill": {
                            "color": "#EBF0F8"
                          },
                          "line": {
                            "color": "white"
                          }
                        },
                        "header": {
                          "fill": {
                            "color": "#C8D4E3"
                          },
                          "line": {
                            "color": "white"
                          }
                        },
                        "type": "table"
                      }
                    ]
                  },
                  "layout": {
                    "annotationdefaults": {
                      "arrowcolor": "#2a3f5f",
                      "arrowhead": 0,
                      "arrowwidth": 1
                    },
                    "autotypenumbers": "strict",
                    "coloraxis": {
                      "colorbar": {
                        "outlinewidth": 0,
                        "ticks": ""
                      }
                    },
                    "colorscale": {
                      "diverging": [
                        [
                          0,
                          "#8e0152"
                        ],
                        [
                          0.1,
                          "#c51b7d"
                        ],
                        [
                          0.2,
                          "#de77ae"
                        ],
                        [
                          0.3,
                          "#f1b6da"
                        ],
                        [
                          0.4,
                          "#fde0ef"
                        ],
                        [
                          0.5,
                          "#f7f7f7"
                        ],
                        [
                          0.6,
                          "#e6f5d0"
                        ],
                        [
                          0.7,
                          "#b8e186"
                        ],
                        [
                          0.8,
                          "#7fbc41"
                        ],
                        [
                          0.9,
                          "#4d9221"
                        ],
                        [
                          1,
                          "#276419"
                        ]
                      ],
                      "sequential": [
                        [
                          0,
                          "#0d0887"
                        ],
                        [
                          0.1111111111111111,
                          "#46039f"
                        ],
                        [
                          0.2222222222222222,
                          "#7201a8"
                        ],
                        [
                          0.3333333333333333,
                          "#9c179e"
                        ],
                        [
                          0.4444444444444444,
                          "#bd3786"
                        ],
                        [
                          0.5555555555555556,
                          "#d8576b"
                        ],
                        [
                          0.6666666666666666,
                          "#ed7953"
                        ],
                        [
                          0.7777777777777778,
                          "#fb9f3a"
                        ],
                        [
                          0.8888888888888888,
                          "#fdca26"
                        ],
                        [
                          1,
                          "#f0f921"
                        ]
                      ],
                      "sequentialminus": [
                        [
                          0,
                          "#0d0887"
                        ],
                        [
                          0.1111111111111111,
                          "#46039f"
                        ],
                        [
                          0.2222222222222222,
                          "#7201a8"
                        ],
                        [
                          0.3333333333333333,
                          "#9c179e"
                        ],
                        [
                          0.4444444444444444,
                          "#bd3786"
                        ],
                        [
                          0.5555555555555556,
                          "#d8576b"
                        ],
                        [
                          0.6666666666666666,
                          "#ed7953"
                        ],
                        [
                          0.7777777777777778,
                          "#fb9f3a"
                        ],
                        [
                          0.8888888888888888,
                          "#fdca26"
                        ],
                        [
                          1,
                          "#f0f921"
                        ]
                      ]
                    },
                    "colorway": [
                      "#636efa",
                      "#EF553B",
                      "#00cc96",
                      "#ab63fa",
                      "#FFA15A",
                      "#19d3f3",
                      "#FF6692",
                      "#B6E880",
                      "#FF97FF",
                      "#FECB52"
                    ],
                    "font": {
                      "color": "#2a3f5f"
                    },
                    "geo": {
                      "bgcolor": "white",
                      "lakecolor": "white",
                      "landcolor": "#E5ECF6",
                      "showlakes": true,
                      "showland": true,
                      "subunitcolor": "white"
                    },
                    "hoverlabel": {
                      "align": "left"
                    },
                    "hovermode": "closest",
                    "mapbox": {
                      "style": "light"
                    },
                    "paper_bgcolor": "white",
                    "plot_bgcolor": "#E5ECF6",
                    "polar": {
                      "angularaxis": {
                        "gridcolor": "white",
                        "linecolor": "white",
                        "ticks": ""
                      },
                      "bgcolor": "#E5ECF6",
                      "radialaxis": {
                        "gridcolor": "white",
                        "linecolor": "white",
                        "ticks": ""
                      }
                    },
                    "scene": {
                      "xaxis": {
                        "backgroundcolor": "#E5ECF6",
                        "gridcolor": "white",
                        "gridwidth": 2,
                        "linecolor": "white",
                        "showbackground": true,
                        "ticks": "",
                        "zerolinecolor": "white"
                      },
                      "yaxis": {
                        "backgroundcolor": "#E5ECF6",
                        "gridcolor": "white",
                        "gridwidth": 2,
                        "linecolor": "white",
                        "showbackground": true,
                        "ticks": "",
                        "zerolinecolor": "white"
                      },
                      "zaxis": {
                        "backgroundcolor": "#E5ECF6",
                        "gridcolor": "white",
                        "gridwidth": 2,
                        "linecolor": "white",
                        "showbackground": true,
                        "ticks": "",
                        "zerolinecolor": "white"
                      }
                    },
                    "shapedefaults": {
                      "line": {
                        "color": "#2a3f5f"
                      }
                    },
                    "ternary": {
                      "aaxis": {
                        "gridcolor": "white",
                        "linecolor": "white",
                        "ticks": ""
                      },
                      "baxis": {
                        "gridcolor": "white",
                        "linecolor": "white",
                        "ticks": ""
                      },
                      "bgcolor": "#E5ECF6",
                      "caxis": {
                        "gridcolor": "white",
                        "linecolor": "white",
                        "ticks": ""
                      }
                    },
                    "title": {
                      "x": 0.05
                    },
                    "xaxis": {
                      "automargin": true,
                      "gridcolor": "white",
                      "linecolor": "white",
                      "ticks": "",
                      "title": {
                        "standoff": 15
                      },
                      "zerolinecolor": "white",
                      "zerolinewidth": 2
                    },
                    "yaxis": {
                      "automargin": true,
                      "gridcolor": "white",
                      "linecolor": "white",
                      "ticks": "",
                      "title": {
                        "standoff": 15
                      },
                      "zerolinecolor": "white",
                      "zerolinewidth": 2
                    }
                  }
                },
                "xaxis": {
                  "anchor": "y",
                  "domain": [
                    0,
                    1
                  ],
                  "title": {
                    "text": "value"
                  }
                },
                "yaxis": {
                  "anchor": "x",
                  "domain": [
                    0,
                    1
                  ],
                  "title": {
                    "text": "count"
                  }
                }
              }
            }
          },
          "metadata": {},
          "output_type": "display_data"
        }
      ],
      "source": [
        "# Plot the residuals for the training data\n",
        "plot_residuals(y_true=y_train, y_pred=y_pred_train) \n"
      ]
    },
    {
      "cell_type": "markdown",
      "id": "a2709ce6",
      "metadata": {
        "id": "a2709ce6"
      },
      "source": [
        "- Our residuals are not perfectly normally distributed, but are pretty close!"
      ]
    },
    {
      "cell_type": "markdown",
      "id": "640e3b2d",
      "metadata": {
        "id": "640e3b2d"
      },
      "source": [
        "### **Check homoscedasticity**"
      ]
    },
    {
      "cell_type": "markdown",
      "id": "6abc5305",
      "metadata": {
        "id": "6abc5305"
      },
      "source": [
        "- We can check for homoscedasticity using a scatterplot, where the target is shown along the x-axis and the residuals are shown along the y-axis. We would expect the datapoints to be equally distributed across the y-axis as x (i.e. the target value) increases:"
      ]
    },
    {
      "cell_type": "code",
      "execution_count": null,
      "id": "fc761bf2",
      "metadata": {
        "id": "fc761bf2",
        "outputId": "2ef18d83-7691-4859-a7e4-ad8c1601d252"
      },
      "outputs": [
        {
          "data": {
            "application/vnd.plotly.v1+json": {
              "config": {
                "plotlyServerURL": "https://plot.ly"
              },
              "data": [
                {
                  "hovertemplate": "x=%{x}<br>y=%{y}<extra></extra>",
                  "legendgroup": "",
                  "marker": {
                    "color": "#636efa",
                    "symbol": "circle"
                  },
                  "mode": "markers",
                  "name": "",
                  "orientation": "v",
                  "showlegend": false,
                  "type": "scatter",
                  "x": [
                    7325.0482,
                    40103.89,
                    39725.51805,
                    1748.774,
                    48173.361,
                    35585.576,
                    35160.13457,
                    1263.249,
                    12982.8747,
                    1261.442,
                    8444.474,
                    36124.5737,
                    15161.5344,
                    10600.5483,
                    6393.60345,
                    12129.61415,
                    22395.74424,
                    8733.22925,
                    21984.47061,
                    11881.358,
                    9910.35985,
                    7228.21565,
                    2438.0552,
                    4357.04365,
                    8410.04685,
                    5488.262,
                    21659.9301,
                    12269.68865,
                    1769.53165,
                    39597.4072,
                    34838.873,
                    2897.3235,
                    1149.3959,
                    19023.26,
                    4667.60765,
                    11945.1327,
                    12479.70895,
                    3756.6216,
                    6186.127,
                    8968.33,
                    1917.3184,
                    1977.815,
                    4466.6214,
                    2136.88225,
                    2727.3951,
                    24915.22085,
                    12797.20962,
                    40182.246,
                    33907.548,
                    12574.049,
                    24227.33724,
                    4433.3877,
                    10579.711,
                    7160.094,
                    11187.6567,
                    14235.072,
                    10072.05505,
                    6389.37785,
                    9875.6804,
                    8162.71625,
                    1826.843,
                    10085.846,
                    4571.41305,
                    9249.4952,
                    31620.00106,
                    1708.0014,
                    9487.6442,
                    18223.4512,
                    12523.6048,
                    48970.2476,
                    40419.0191,
                    8342.90875,
                    5116.5004,
                    36021.0112,
                    1241.565,
                    38792.6856,
                    9617.66245,
                    3206.49135,
                    13844.506,
                    4449.462,
                    8240.5896,
                    1737.376,
                    17128.42608,
                    5425.02335,
                    7371.772,
                    3213.62205,
                    12268.63225,
                    17929.30337,
                    21677.28345,
                    13635.6379,
                    5966.8874,
                    5257.50795,
                    10156.7832,
                    43921.1837,
                    14001.1338,
                    12142.5786,
                    3556.9223,
                    2331.519,
                    8615.3,
                    47496.49445,
                    12430.95335,
                    5002.7827,
                    7740.337,
                    40273.6455,
                    1135.9407,
                    11741.726,
                    11365.952,
                    9704.66805,
                    20630.28351,
                    16115.3045,
                    5397.6167,
                    2304.0022,
                    10959.33,
                    20149.3229,
                    19214.70553,
                    19521.9682,
                    44641.1974,
                    9630.397,
                    6112.35295,
                    8606.2174,
                    30184.9367,
                    52590.82939,
                    1137.4697,
                    22331.5668,
                    1607.5101,
                    3857.75925,
                    44423.803,
                    8627.5411,
                    4005.4225,
                    10825.2537,
                    10493.9458,
                    4718.20355,
                    7147.105,
                    10338.9316,
                    4438.2634,
                    23807.2406,
                    3471.4096,
                    10848.1343,
                    10107.2206,
                    17496.306,
                    7419.4779,
                    2045.68525,
                    8765.249,
                    4441.21315,
                    9748.9106,
                    7624.63,
                    3056.3881,
                    7640.3092,
                    15555.18875,
                    10407.08585,
                    1832.094,
                    4151.0287,
                    6358.77645,
                    7151.092,
                    19144.57652,
                    10226.2842,
                    38998.546,
                    1634.5734,
                    34472.841,
                    1121.8739,
                    42111.6647,
                    33307.5508,
                    8930.93455,
                    10806.839,
                    12265.5069,
                    3227.1211,
                    3176.8159,
                    19444.2658,
                    8671.19125,
                    7418.522,
                    19442.3535,
                    41034.2214,
                    11353.2276,
                    4040.55825,
                    2217.46915,
                    6250.435,
                    6799.458,
                    47291.055,
                    46130.5265,
                    13770.0979,
                    47403.88,
                    5910.944,
                    7345.084,
                    22462.04375,
                    10106.13425,
                    27533.9129,
                    1532.4697,
                    39836.519,
                    45710.20785,
                    37165.1638,
                    11840.77505,
                    7201.70085,
                    13041.921,
                    2254.7967,
                    16657.71745,
                    39871.7043,
                    3260.199,
                    4670.64,
                    38344.566,
                    17904.52705,
                    5003.853,
                    39241.442,
                    8703.456,
                    9964.06,
                    30166.61817,
                    48549.17835,
                    2842.76075,
                    17352.6803,
                    34779.615,
                    5138.2567,
                    18648.4217,
                    36085.219,
                    8601.3293,
                    18767.7377,
                    12829.4551,
                    7147.4728,
                    28923.13692,
                    4762.329,
                    13047.33235,
                    15359.1045,
                    4618.0799,
                    11150.78,
                    10982.5013,
                    3935.1799,
                    10381.4787,
                    8515.7587,
                    20745.9891,
                    6837.3687,
                    12224.35085,
                    27346.04207,
                    10436.096,
                    34828.654,
                    7985.815,
                    8782.469,
                    19933.458,
                    12979.358,
                    10795.93733,
                    7281.5056,
                    27218.43725,
                    40003.33225,
                    1704.70015,
                    9620.3307,
                    9144.565,
                    6849.026,
                    6877.9801,
                    9549.5651,
                    11520.09985,
                    3353.4703,
                    7639.41745,
                    9500.57305,
                    3757.8448,
                    18972.495,
                    11482.63485,
                    10325.206,
                    11013.7119,
                    4673.3922,
                    4747.0529,
                    4738.2682,
                    14043.4767,
                    7518.02535,
                    2689.4954,
                    45008.9555,
                    7358.17565,
                    5615.369,
                    3537.703,
                    6571.02435,
                    10959.6947,
                    33475.81715,
                    3943.5954,
                    37484.4493,
                    6551.7501,
                    5227.98875,
                    1632.56445,
                    37465.34375,
                    6652.5288,
                    2480.9791,
                    3077.0955,
                    14349.8544,
                    5974.3847,
                    2585.85065,
                    8334.45755,
                    11856.4115,
                    16884.924,
                    10043.249,
                    10704.47,
                    28868.6639,
                    2203.73595,
                    4746.344,
                    4454.40265,
                    32108.66282,
                    7050.642,
                    1694.7964,
                    7512.267,
                    3385.39915,
                    10702.6424,
                    48675.5177,
                    1984.4533,
                    2026.9741,
                    1629.8335,
                    1631.8212,
                    4428.88785,
                    2134.9015,
                    47305.305,
                    17663.1442,
                    13616.3586,
                    6746.7425,
                    43813.8661,
                    3561.8889,
                    33900.653,
                    19199.944,
                    13470.86,
                    7445.918,
                    3180.5101,
                    1967.0227,
                    6059.173,
                    41919.097,
                    46599.1084,
                    5028.1466,
                    2775.19215,
                    27724.28875,
                    12044.342,
                    24520.264,
                    3279.86855,
                    4827.90495,
                    6311.952,
                    8280.6227,
                    5246.047,
                    5240.765,
                    10577.087,
                    5415.6612,
                    24513.09126,
                    11946.6259,
                    8347.1643,
                    43943.8761,
                    14474.675,
                    4058.71245,
                    6710.1919,
                    4234.927,
                    8520.026,
                    10450.552,
                    11163.568,
                    26467.09737,
                    2639.0429,
                    11253.421,
                    43753.33705,
                    4949.7587,
                    2362.22905,
                    2867.1196,
                    39774.2763,
                    11552.904,
                    14382.70905,
                    19673.33573,
                    5472.449,
                    9880.068,
                    23288.9284,
                    6203.90175,
                    5584.3057,
                    12622.1795,
                    13887.9685,
                    20709.02034,
                    13430.265,
                    6796.86325,
                    2899.48935,
                    5846.9176,
                    14007.222,
                    13112.6048,
                    13725.47184,
                    4686.3887,
                    20462.99766,
                    1628.4709,
                    1727.785,
                    26109.32905,
                    7526.70645,
                    4320.41085,
                    6455.86265,
                    10602.385,
                    4433.9159,
                    8891.1395,
                    12495.29085,
                    6600.361,
                    8823.98575,
                    4504.6624,
                    7265.7025,
                    15019.76005,
                    30063.58055,
                    12928.7911,
                    20234.85475,
                    3577.999,
                    8116.26885,
                    11345.519,
                    15612.19335,
                    9583.8933,
                    1711.0268,
                    5148.5526,
                    23563.01618,
                    26125.67477,
                    11538.421,
                    60021.39897,
                    26236.57997,
                    36189.1017,
                    4883.866,
                    11881.9696,
                    9290.1395,
                    7222.78625,
                    3925.7582,
                    1163.4627,
                    2217.6012,
                    28950.4692,
                    18033.9679,
                    14455.64405,
                    7726.854,
                    4415.1588,
                    5327.40025,
                    36197.699,
                    16069.08475,
                    17361.7661,
                    11658.11505,
                    11488.31695,
                    18608.262,
                    9174.13565,
                    17468.9839,
                    14283.4594,
                    11082.5772,
                    2974.126,
                    21595.38229,
                    24535.69855,
                    11833.7823,
                    8211.1002,
                    6198.7518,
                    7045.499,
                    6548.19505,
                    27808.7251,
                    8522.003,
                    8965.79575,
                    3847.674,
                    6272.4772,
                    12323.936,
                    6128.79745,
                    9140.951,
                    1664.9996,
                    5377.4578,
                    14590.63205,
                    9957.7216,
                    6555.07035,
                    2104.1134,
                    10231.4999,
                    6474.013,
                    46200.9851,
                    34806.4677,
                    2850.68375,
                    14119.62,
                    6940.90985,
                    19749.38338,
                    13063.883,
                    8978.1851,
                    5400.9805,
                    11411.685,
                    13822.803,
                    10197.7722,
                    1837.237,
                    11362.755,
                    2866.091,
                    14319.031,
                    25678.77845,
                    19350.3689,
                    16796.41194,
                    35069.37452,
                    4564.19145,
                    5253.524,
                    8538.28845,
                    39727.614,
                    15820.699,
                    4402.233,
                    23065.4207,
                    3994.1778,
                    2416.955,
                    1137.011,
                    8944.1151,
                    9447.25035,
                    24180.9335,
                    49577.6624,
                    6571.544,
                    36898.73308,
                    18955.22017,
                    4906.40965,
                    1759.338,
                    2483.736,
                    33732.6867,
                    37133.8982,
                    11884.04858,
                    11286.5387,
                    5729.0053,
                    16420.49455,
                    5920.1041,
                    17178.6824,
                    9625.92,
                    29186.48236,
                    21098.55405,
                    4243.59005,
                    14571.8908,
                    19964.7463,
                    11356.6609,
                    7153.5539,
                    2007.945,
                    13457.9608,
                    12913.9924,
                    12730.9996,
                    5385.3379,
                    6775.961,
                    42856.838,
                    29141.3603,
                    4877.98105,
                    1615.7667,
                    1253.936,
                    1515.3449,
                    1646.4297,
                    19107.7796,
                    24915.04626,
                    36910.60803,
                    14313.8463,
                    19539.243,
                    9361.3268,
                    7173.35995,
                    2902.9065,
                    6496.886,
                    7633.7206,
                    3956.07145,
                    17081.08,
                    5662.225,
                    6117.4945,
                    11381.3254,
                    20878.78443,
                    8604.48365,
                    3693.428,
                    11534.87265,
                    34303.1672,
                    16085.1275,
                    12741.16745,
                    13393.756,
                    6686.4313,
                    3410.324,
                    2102.2647,
                    6500.2359,
                    17560.37975,
                    14410.9321,
                    3481.868,
                    7441.053,
                    24667.419,
                    55135.40209,
                    12233.828,
                    1621.8827,
                    1141.4451,
                    3393.35635,
                    1635.73365,
                    39722.7462,
                    7144.86265,
                    26140.3603,
                    17748.5062,
                    1639.5631,
                    21344.8467,
                    3866.8552,
                    10713.644,
                    21232.18226,
                    2219.4451,
                    23568.272,
                    36219.40545,
                    11554.2236,
                    8442.667,
                    28287.89766,
                    1972.95,
                    9222.4026,
                    9386.1613,
                    11657.7189,
                    18838.70366,
                    8068.185,
                    12646.207,
                    13352.0998,
                    25309.489,
                    8124.4084,
                    1842.519,
                    10115.00885,
                    13126.67745,
                    13224.05705,
                    2211.13075,
                    8023.13545,
                    6664.68595,
                    11743.9341,
                    2497.0383,
                    4992.3764,
                    8527.532,
                    1631.6683,
                    2498.4144,
                    4894.7533,
                    36837.467,
                    4766.022,
                    1625.43375,
                    4661.28635,
                    20773.62775,
                    4934.705,
                    8539.671,
                    13451.122,
                    8825.086,
                    5428.7277,
                    24476.47851,
                    4350.5144,
                    10461.9794,
                    7077.1894,
                    3353.284,
                    11729.6795,
                    3736.4647,
                    11244.3769,
                    45702.02235,
                    2741.948,
                    2395.17155,
                    9634.538,
                    12032.326,
                    25517.11363,
                    36397.576,
                    12557.6053,
                    10118.424,
                    21472.4788,
                    3558.62025,
                    11735.87905,
                    24873.3849,
                    4931.647,
                    14426.07385,
                    7050.0213,
                    11512.405,
                    8413.46305,
                    10928.849,
                    35147.52848,
                    15518.18025,
                    10797.3362,
                    1909.52745,
                    3268.84665,
                    26392.26029,
                    16776.30405,
                    26018.95052,
                    40904.1995,
                    28468.91901,
                    3277.161,
                    11879.10405,
                    4719.52405,
                    11987.1682,
                    14451.83515,
                    5926.846,
                    46718.16325,
                    9225.2564,
                    2302.3,
                    3062.50825,
                    21880.82,
                    2201.0971,
                    11289.10925,
                    11272.33139,
                    5438.7491,
                    20167.33603,
                    12949.1554,
                    7727.2532,
                    34166.273,
                    4058.1161,
                    7046.7222,
                    21348.706,
                    41999.52,
                    2680.9493,
                    3704.3545,
                    6653.7886,
                    7626.993,
                    6334.34355,
                    6640.54485,
                    11455.28,
                    14254.6082,
                    30942.1918,
                    3861.20965,
                    13844.7972,
                    37742.5757,
                    7789.635,
                    10269.46,
                    20984.0936,
                    62592.87309,
                    6406.4107,
                    5383.536,
                    1981.5819,
                    1969.614,
                    4260.744,
                    19798.05455,
                    11093.6229,
                    3443.064,
                    26926.5144,
                    34617.84065,
                    6184.2994,
                    1633.9618,
                    24869.8368,
                    5125.2157,
                    1744.465,
                    6666.243,
                    13143.33665,
                    6770.1925,
                    13390.559,
                    13470.8044,
                    48885.13561,
                    5373.36425,
                    40720.55105,
                    14692.66935,
                    20009.63365,
                    11305.93455,
                    14394.39815,
                    11165.41765,
                    3981.9768,
                    2261.5688,
                    4435.0942,
                    18157.876,
                    1906.35825,
                    4500.33925,
                    8516.829,
                    46255.1125,
                    9855.1314,
                    2156.7518,
                    41661.602,
                    9264.797,
                    2257.47525,
                    13012.20865,
                    7160.3303,
                    12648.7034,
                    14478.33015,
                    4544.2348,
                    5630.45785,
                    8302.53565,
                    24106.91255,
                    25081.76784,
                    32787.45859,
                    1725.5523,
                    4646.759,
                    10976.24575,
                    4189.1131,
                    47462.894,
                    16232.847,
                    20296.86345,
                    37079.372,
                    7623.518,
                    1136.3994,
                    4795.6568,
                    10435.06525,
                    1712.227,
                    5469.0066,
                    2527.81865,
                    11326.71487,
                    3366.6697,
                    2464.6188,
                    14449.8544,
                    18310.742,
                    10141.1362,
                    36580.28216,
                    8334.5896,
                    1242.26,
                    58571.07448,
                    8605.3615,
                    9447.3824,
                    38245.59327,
                    4462.7218,
                    6196.448,
                    4134.08245,
                    8556.907,
                    3238.4357,
                    9563.029,
                    3766.8838,
                    8798.593,
                    9058.7303,
                    43254.41795,
                    5458.04645,
                    7243.8136,
                    2250.8352,
                    11743.299,
                    8964.06055,
                    7209.4918,
                    8457.818,
                    16586.49771,
                    8062.764,
                    11938.25595,
                    9850.432,
                    13143.86485,
                    2207.69745,
                    2730.10785,
                    40932.4295,
                    9863.4718,
                    22412.6485,
                    1815.8759,
                    4185.0979,
                    22218.1149,
                    13974.45555,
                    8277.523,
                    6289.7549,
                    9869.8102,
                    2130.6759,
                    2457.21115,
                    14394.5579,
                    3046.062,
                    3987.926,
                    7443.64305,
                    16455.70785,
                    47896.79135,
                    14418.2804,
                    2138.0707,
                    2566.4707,
                    18963.17192,
                    10796.35025,
                    8252.2843,
                    40941.2854,
                    25656.57526,
                    14711.7438,
                    39611.7577,
                    7650.77375,
                    5708.867,
                    2196.4732,
                    27000.98473,
                    5325.651,
                    3070.8087,
                    10355.641,
                    1252.407,
                    8551.347,
                    6282.235,
                    13937.6665,
                    12231.6136,
                    1704.5681,
                    2709.24395,
                    21797.0004,
                    1877.9294,
                    9282.4806,
                    7986.47525,
                    8871.1517,
                    36149.4835,
                    6781.3542,
                    8083.9198,
                    9504.3103,
                    1728.897,
                    2128.43105,
                    35595.5898,
                    2020.177,
                    20420.60465,
                    4337.7352,
                    51194.55914,
                    10560.4917,
                    3044.2133,
                    19496.71917,
                    10942.13205,
                    2221.56445,
                    2801.2588,
                    6986.697,
                    5354.07465,
                    11090.7178,
                    9722.7695,
                    1633.0444,
                    30284.64294,
                    4830.63,
                    1526.312,
                    13228.84695,
                    6123.5688,
                    11015.1747,
                    5266.3656,
                    34254.05335,
                    2494.022,
                    21259.37795,
                    7729.64575,
                    12609.88702,
                    4922.9159,
                    16138.76205,
                    3500.6123,
                    11763.0009,
                    5855.9025,
                    25382.297,
                    40974.1649,
                    1627.28245,
                    44260.7499,
                    4149.736,
                    7682.67,
                    18328.2381,
                    2803.69785,
                    3875.7341,
                    12890.05765,
                    1261.859,
                    7731.85785,
                    13981.85035,
                    6933.24225,
                    12815.44495,
                    3392.3652,
                    18903.49141,
                    11073.176,
                    48517.56315,
                    6985.50695,
                    13224.693,
                    1705.6245,
                    11394.06555,
                    4561.1885,
                    8582.3023,
                    11931.12525,
                    46113.511,
                    10214.636
                  ],
                  "xaxis": "x",
                  "y": [
                    -1452.5302472350477,
                    3563.08134138029,
                    4546.563024613351,
                    -5803.948287019097,
                    -6562.256131319802,
                    6585.655438857815,
                    24123.982107883716,
                    -6834.715022739939,
                    -4444.452405636421,
                    -6548.55369734036,
                    -1734.7138946579926,
                    7580.709035976604,
                    196.93047188658238,
                    -869.4790324379392,
                    -3043.158384004345,
                    -237.77845754009468,
                    16098.874535428964,
                    -5203.684448384862,
                    14938.680913348486,
                    -61.17012342877206,
                    -1295.6293300952166,
                    -34.80750899352006,
                    -10531.990003550036,
                    -4085.082242314189,
                    -1674.087961346655,
                    -4090.6870539130696,
                    -6355.928824048922,
                    -978.8264619713354,
                    -5250.001316012808,
                    6092.513340984522,
                    6896.47023725406,
                    -4741.755434801018,
                    -8693.965440753573,
                    -4601.055142722926,
                    -5742.050182920393,
                    -1737.6688201906782,
                    2242.0204843263164,
                    -3681.2763404165466,
                    -4004.5092771459895,
                    -1931.0105880916744,
                    -6777.527611452984,
                    -5398.5340012971155,
                    -4038.0293946886886,
                    -6229.893474326382,
                    -5038.293994305608,
                    -9227.045908063064,
                    619.4159215610798,
                    5713.12118924009,
                    8546.741273212803,
                    -6252.009310545587,
                    6903.222132927753,
                    -4089.2091584295567,
                    -4558.0634648603955,
                    -4442.38953325449,
                    -877.6949888390554,
                    -2565.005697866185,
                    -1771.3199835473406,
                    -2287.1890870595735,
                    -5245.095996346892,
                    -1677.135676176721,
                    -6546.672803201777,
                    -3695.25662912603,
                    -3306.151157903446,
                    -1263.5557451900313,
                    15558.305672332952,
                    -4323.718733268158,
                    -2033.3783797894412,
                    -3858.0274509874,
                    1404.3515868159175,
                    -6703.3402392837015,
                    1995.7805445900522,
                    -5242.2429650048925,
                    -1224.4763644800141,
                    8665.361566948122,
                    -3973.6154852702907,
                    6307.155782858237,
                    -802.8390126554605,
                    -3151.523701564172,
                    -5508.167164989367,
                    -4244.663463100324,
                    -3312.7633223708344,
                    -4258.715636525295,
                    8805.675835810647,
                    -3201.4453222349393,
                    -4469.346949609279,
                    -4131.001967802136,
                    -710.8870650929839,
                    7048.698590051492,
                    -8289.873431873413,
                    -1795.494849455612,
                    -2625.2262422376025,
                    -2173.5281729423295,
                    1031.2932925703317,
                    -425.7459832877066,
                    1985.7682151051613,
                    584.8194635592135,
                    -5573.3504820648195,
                    -4325.451438144759,
                    -1058.2249681852682,
                    -2021.94067254517,
                    -1209.9203223293098,
                    -3004.421912537373,
                    -4643.8122960637875,
                    2270.8676051632065,
                    -6391.285196485493,
                    645.8018032661967,
                    -4246.324549443885,
                    -3887.4362051406442,
                    5970.371270424632,
                    -6332.9639770752165,
                    -6118.699060335893,
                    -3851.9826854443363,
                    509.68276338704527,
                    -8982.697307199414,
                    8336.48026257029,
                    -7453.363582600428,
                    1848.159363531864,
                    -2261.9718529458005,
                    -4162.72090386743,
                    -742.0083229667271,
                    -11840.42868884404,
                    6695.677556510665,
                    -6624.536019461964,
                    -8538.087218654,
                    -3673.539582262553,
                    -4723.403069449537,
                    -1066.5481081267135,
                    703.9639496345098,
                    -1485.2967886861675,
                    -2261.2433809049253,
                    420.31854426292193,
                    -1865.2774491250084,
                    -1360.6187830556992,
                    -1928.3310375056808,
                    -3397.69014265426,
                    -9246.959548622686,
                    -6924.572395400836,
                    -2737.0194541686724,
                    749.4519915669298,
                    -7674.7280212248115,
                    -1826.4389619847389,
                    -4322.573958255787,
                    -2776.1661344068434,
                    -3238.496127971268,
                    -8772.020299364343,
                    -1466.9007087679156,
                    -4379.219203658417,
                    -2120.6085126768285,
                    -2793.341095879996,
                    238.50141375604107,
                    -3549.6071817880747,
                    -4894.405554906237,
                    -3889.5782899255055,
                    -1666.660251293405,
                    7392.56102419082,
                    -4823.462098020134,
                    4567.04351500568,
                    -7490.655824455013,
                    6783.232644526652,
                    -4536.4991321409,
                    1602.474256147616,
                    9249.421101918291,
                    -1614.9643296399317,
                    -1782.8537463333341,
                    -2696.2901942344906,
                    -5308.719653523151,
                    -3126.8209700231223,
                    -7082.3232310558415,
                    -4288.358393251754,
                    -3169.873244550824,
                    10529.944090369656,
                    2730.9996832683755,
                    -1579.7477419959432,
                    -3853.706658327671,
                    -6888.880489901246,
                    -2081.339472736715,
                    -1233.8679328907956,
                    583.1454306137384,
                    1867.7831549475595,
                    810.5424036555978,
                    -3355.973040045159,
                    -3589.7258870961005,
                    -3931.3655748972187,
                    -9412.74444316767,
                    -206.46235296148188,
                    -13324.02758992554,
                    -6847.557073157694,
                    4749.379920452433,
                    -549.2616499441574,
                    6623.91502690981,
                    -731.8967004447604,
                    -1343.3791541175697,
                    500.1740626506016,
                    -5400.508709251748,
                    -5734.967456790306,
                    2708.2323069413833,
                    -3141.2384810514036,
                    -5146.788632911296,
                    7269.001994043974,
                    -7757.414706630683,
                    -3176.738839331754,
                    4909.527902308706,
                    -1916.8493398005648,
                    -2107.5126510672762,
                    18237.373506508102,
                    -2726.5272583231927,
                    -3552.89389128415,
                    -6118.467368045491,
                    7553.4035199424725,
                    -5226.450490109415,
                    -7064.025822152806,
                    7452.449106363212,
                    -1583.1634304109266,
                    -7461.098638686155,
                    -4143.576436139094,
                    -4336.296864435002,
                    17333.894137796593,
                    -6511.044967174512,
                    2435.445613801654,
                    -4641.697917309853,
                    -2948.373239266718,
                    471.06198991684687,
                    -5405.414866572577,
                    -5912.515325517962,
                    -2791.8330804269954,
                    -1245.9651011314654,
                    -6445.858775250072,
                    -2173.8925920175434,
                    227.23355893224834,
                    15224.5897301389,
                    -1170.1792404929674,
                    7532.16878301054,
                    236.56914528580728,
                    -1217.0538440479486,
                    -6060.494518913441,
                    -3315.0357835065224,
                    2651.890300297545,
                    -1340.4239678850772,
                    -12790.50159035849,
                    5245.901971186409,
                    -3933.5800389631213,
                    -1008.1101143006508,
                    -4654.717652922702,
                    -3230.9590136505267,
                    441.023140422044,
                    -7670.081438146008,
                    1787.5896097918685,
                    -2846.046638072713,
                    -3155.9251607964443,
                    384.65447633952317,
                    -3865.253018735769,
                    -7399.708515683145,
                    3838.863723432597,
                    -4196.618566541376,
                    1739.6919230377534,
                    -5692.167718058763,
                    -3585.1822858993355,
                    -4282.457246591392,
                    42.339617700959934,
                    -1464.8895914180375,
                    -7306.452112294384,
                    -487.07996071231173,
                    -2842.2455778243575,
                    -1204.5037441047507,
                    -3675.227686072511,
                    -4007.8170141789597,
                    -3322.9286665318396,
                    8646.265315386976,
                    -4445.278059631584,
                    7370.305302903562,
                    -3717.9731452507103,
                    -2767.1866381118843,
                    -4510.539228647532,
                    9257.111070076964,
                    -628.2152609734903,
                    -7304.654068300684,
                    -2944.888665725122,
                    3532.0664129204524,
                    -3073.0512451077348,
                    -3166.307777545187,
                    -3189.0708275126617,
                    -4199.290683071429,
                    -5881.750965438896,
                    -1498.1661344068434,
                    -1500.102913947214,
                    -12718.175331448823,
                    -4711.695086470911,
                    -3468.660017534209,
                    -3553.470266595743,
                    21977.106706124017,
                    -2582.243785208966,
                    -2902.5726163386353,
                    -1845.2404636848696,
                    -4113.058435050589,
                    79.14109879035823,
                    -6844.577186165967,
                    -7477.035425102383,
                    -7323.307419424036,
                    -6673.0587509689185,
                    -7007.08265102917,
                    -2056.56609168648,
                    -5906.922694744171,
                    189.50119323639228,
                    -5728.129029978289,
                    3009.983440171487,
                    -1699.8363444455572,
                    1463.6707953437653,
                    -2949.9624796681965,
                    7568.620463625484,
                    -6463.988423851508,
                    -3622.2179934889064,
                    -4016.3051321062703,
                    -2531.718768526405,
                    -4705.151609639073,
                    -2433.6941558611825,
                    2442.433378716385,
                    -3609.8757649878025,
                    -4059.114388469259,
                    -2408.6043601114534,
                    19521.838365954303,
                    902.0213711470533,
                    -10533.963256746127,
                    -3091.8088128753443,
                    -936.6939388880892,
                    -2740.234047662786,
                    -2898.820464563809,
                    -4915.006625496792,
                    -3911.4673902956956,
                    726.1371698293278,
                    -2968.791714820868,
                    12989.557639410135,
                    -1347.7058054003046,
                    -4786.037474290137,
                    14020.470421319384,
                    -1118.8588477926605,
                    -4540.544522833609,
                    -1417.1148121038104,
                    -3308.304983085105,
                    -2099.116218102403,
                    -4911.874393640543,
                    -2543.561301088632,
                    12643.663124559786,
                    -4317.112272571294,
                    5.203208891613031,
                    2364.4368889362886,
                    -5107.565333664914,
                    -5200.207439984926,
                    -4802.520023031316,
                    3997.1495666981937,
                    -36.019682921409185,
                    2697.2620732670275,
                    10779.639197193526,
                    -2595.6073304044994,
                    -4778.27090006467,
                    16465.218738095886,
                    -2486.374131235946,
                    -4627.307549276408,
                    -633.1285639999915,
                    -2406.859606040509,
                    4360.315141842268,
                    424.0778568704063,
                    -2605.373707095292,
                    -5582.78063074443,
                    -6974.0089116389145,
                    481.212813658316,
                    1993.3515868159175,
                    5963.893601265605,
                    -8677.654672185858,
                    5936.888148550768,
                    -4022.017934298865,
                    -3196.9325404100646,
                    -11142.577359138828,
                    -422.07257295374893,
                    -5970.725793092492,
                    -2321.7144430286944,
                    -5516.758882230155,
                    -4178.936851560797,
                    742.3295048636492,
                    -1384.7765179581202,
                    -2979.1160452964623,
                    -2819.2754250938942,
                    -3953.404957726184,
                    -4559.343967855816,
                    1476.2495691985441,
                    15239.755261234091,
                    -484.7061486058974,
                    -8459.79384937742,
                    -5421.80966985112,
                    -2667.871552143246,
                    852.5872948586693,
                    1138.968953033378,
                    -2943.599468788807,
                    -3965.083417948111,
                    -3726.4692492329805,
                    12974.620935449175,
                    5036.67104722558,
                    -7012.86236069866,
                    17146.791036819966,
                    17156.842949120888,
                    9564.405091491019,
                    -3251.8080971334957,
                    -204.02334124768095,
                    -2126.617904598532,
                    -943.2639874132501,
                    -4361.926526898176,
                    -11804.829111341305,
                    -6912.6687717939685,
                    -12398.986292989008,
                    -6334.805005193179,
                    -4569.361941294375,
                    -1774.8638078721751,
                    -3815.6147309689723,
                    -3717.0347081968675,
                    5154.685503724591,
                    1610.6050143631928,
                    -6097.787496020916,
                    -106.04759936791743,
                    -733.4729187842386,
                    -6696.135965590598,
                    -2681.469624814268,
                    -5542.270734718913,
                    -4770.155117312737,
                    -7.90130533388583,
                    -3703.12489100575,
                    16210.760864116182,
                    -9115.288124656108,
                    1492.0391883948887,
                    -434.03621575551006,
                    -1641.3555925077062,
                    -1652.0020320623098,
                    -2146.6549881781575,
                    -12270.753157324685,
                    -2815.4369236409293,
                    902.6765212410091,
                    -2876.9303149805646,
                    -1494.5155674598636,
                    1256.424308345935,
                    -3151.1018683713955,
                    -3724.0628160352317,
                    -5009.430288532628,
                    -4664.6975649082215,
                    956.7342942451396,
                    -703.9064974573939,
                    -2085.0357470156214,
                    -4564.4919095004325,
                    -1697.7411529043002,
                    -5809.2144620581375,
                    -2368.267234846171,
                    7057.612083623753,
                    -4655.743074716707,
                    111.33105670058285,
                    -2004.3390094198912,
                    9221.360288813577,
                    -6062.42316609686,
                    -4233.924070223848,
                    -6897.567641400543,
                    -5676.851179541352,
                    -1708.8148825291883,
                    646.7325183175817,
                    -4141.877260577734,
                    -3317.9970056515776,
                    -4646.634475465358,
                    -3515.5923194984734,
                    -10288.332689231971,
                    -9036.897824583837,
                    8788.54026601033,
                    6093.2547500055625,
                    -3054.648529983394,
                    -3441.565786076925,
                    -2095.674685439373,
                    2146.674347950109,
                    -8081.033975756171,
                    -5019.197878845607,
                    -10744.285601844513,
                    -8561.483158363788,
                    -6144.483545764066,
                    -6553.8499683106,
                    -6369.935862632017,
                    -610.6309628718791,
                    -8420.771341757325,
                    -4172.377090094706,
                    -4060.0918287349796,
                    11249.415252141825,
                    11922.077362098946,
                    -1269.820792486612,
                    -7567.254313458876,
                    -4007.941455523649,
                    8939.80853084525,
                    5628.92594988475,
                    6451.582951274416,
                    -698.2097738675893,
                    -4423.691027141193,
                    -4384.149437568329,
                    -5459.716461417175,
                    -4948.985110657923,
                    -2267.0955069595184,
                    16748.88398482494,
                    -7877.565719994436,
                    -3811.004831763007,
                    -5599.392809987601,
                    -8147.155359332683,
                    -2466.775418104984,
                    -2155.571881535022,
                    -4373.637296767004,
                    122.69818420409865,
                    1614.7794655987163,
                    -115.95136235946484,
                    -2550.827731515051,
                    -3583.6406931102856,
                    1448.1704088545594,
                    -13246.023116385411,
                    -2085.603108757343,
                    -4636.754520508219,
                    -5459.507376402585,
                    -4415.126223633007,
                    -6480.871972242936,
                    -7186.187100723531,
                    13795.801497652137,
                    22366.566026082495,
                    -1838.8318749897498,
                    -8772.21362931679,
                    149.2771660633971,
                    -675.0576752172901,
                    -4672.431029225692,
                    -2444.1589308651564,
                    -3246.586714210348,
                    -4201.349972949101,
                    -5924.180092427036,
                    -7390.747074202243,
                    -1428.903593281585,
                    -9536.759491999348,
                    9181.263653665084,
                    -186.9545989392136,
                    -8501.872746927345,
                    2518.874889855091,
                    9542.415854007355,
                    -1445.0574129310498,
                    -2894.884040863708,
                    -1348.1002683803817,
                    -948.598431940949,
                    -7512.2466445121245,
                    -4320.894771047664,
                    -3055.53490902619,
                    -5610.868791091241,
                    -2723.9380695821255,
                    -3452.045836854672,
                    -2976.593766345217,
                    -9336.27507010063,
                    21337.74491266097,
                    290.0014240927321,
                    -5455.609215950287,
                    -7263.507819971447,
                    -5338.165558052509,
                    -4916.086115711896,
                    4491.126656497196,
                    -1632.7144430286944,
                    15975.400045256507,
                    -5606.867467538468,
                    -5440.113696754365,
                    14466.242844389039,
                    -4377.1955078850515,
                    -3867.881985594586,
                    10510.047995064313,
                    -6185.507819971447,
                    -10866.73314736121,
                    7440.601379843472,
                    -176.7351419181814,
                    -1379.6253403197315,
                    13058.35170071548,
                    -4713.143351493295,
                    -434.10264991295116,
                    -3945.14244709593,
                    -15.660649916682814,
                    12269.313241142841,
                    -4570.994456998625,
                    -2737.9936444167197,
                    -19.16291945402554,
                    -10234.450423748058,
                    -4777.853341918293,
                    -4814.451438144759,
                    -1765.092423791908,
                    6123.284706366396,
                    -705.7431192172371,
                    -5813.699112112241,
                    -4312.461765510292,
                    -2668.8589359473053,
                    -2429.804137179455,
                    -5987.3506486490605,
                    -2336.6402424113085,
                    -3773.35194577937,
                    -6980.942838208685,
                    -6221.9951320033815,
                    -2793.1067883054484,
                    4622.525736921827,
                    -1492.6931599548507,
                    -3683.7587472752966,
                    -2524.8076483375307,
                    -8329.985172157427,
                    -2515.6850315701513,
                    -415.4768451499094,
                    1779.0097916640661,
                    -1750.8632614266953,
                    -4697.544777922533,
                    12608.629362080754,
                    -3854.4473056369425,
                    -1597.1543311449277,
                    -1396.1481737457934,
                    -3891.042684061132,
                    1879.5426611269486,
                    -3534.2918581993276,
                    649.023307587986,
                    -1531.251185502886,
                    -4633.987703568708,
                    -3834.40578915235,
                    -4426.931691759111,
                    2566.394266826357,
                    15036.81311907394,
                    9241.468674216027,
                    -1178.3325204438079,
                    -1549.8763476464137,
                    -6094.740555466495,
                    -3323.6599772811214,
                    -385.5751224010328,
                    -7327.610188411916,
                    -2073.320685212565,
                    8312.639323080672,
                    -3661.5649615235543,
                    -1112.0822069477854,
                    -2088.6588399348057,
                    -1559.706424541726,
                    10305.738403193704,
                    -5379.931547629038,
                    -960.7522930394389,
                    -5529.408428477795,
                    -6030.524547265486,
                    13663.541225501209,
                    -5351.373124160684,
                    18277.92006309635,
                    5606.385159280595,
                    15476.075126505895,
                    -6458.554726643795,
                    -967.8449772197546,
                    -2042.4665835997266,
                    -1385.1731155350935,
                    3205.1465274813763,
                    -2708.951150114084,
                    1756.335835352329,
                    -201.63135516038528,
                    -3686.487161447698,
                    -5133.7899245100225,
                    -7622.838089987723,
                    -3600.6399864509167,
                    -1122.9154614686631,
                    4734.536634321088,
                    -7770.505710985807,
                    480.15400135164236,
                    -543.0064650684835,
                    -3665.9012590668617,
                    7767.497146828606,
                    -5877.898785346914,
                    -1865.1978717864495,
                    -9192.56020059367,
                    1817.0642708184314,
                    -2797.886004887082,
                    -4990.976382482211,
                    -2842.431747676894,
                    -1900.9288096747205,
                    -4021.2830329559492,
                    189.76567615545537,
                    -520.3637825333626,
                    2380.6299764840223,
                    -12357.637355648643,
                    -1588.0184598167307,
                    -518.1783901315994,
                    3466.4390314254997,
                    -2961.8449120039804,
                    -1446.2004982611415,
                    -7501.141592960241,
                    27534.2031971135,
                    -2728.65574079177,
                    -3337.1179782180534,
                    -5974.501046406809,
                    -4278.666475829228,
                    -3682.718393176554,
                    -6373.231166882237,
                    -5731.023285036414,
                    -4895.417672446509,
                    -11736.883262320167,
                    8638.675046192431,
                    -2405.907108417492,
                    -7381.028603280633,
                    -8296.505725765408,
                    -2437.2243231384364,
                    -5179.91004695604,
                    -5465.069329725104,
                    -1337.2653609120698,
                    -2472.4078462389034,
                    -468.62232924945056,
                    -3604.1333342045473,
                    6896.672317250632,
                    -3887.101403284464,
                    5046.631067015391,
                    -214.3577297181746,
                    -8143.516071554281,
                    180.9203732810729,
                    2391.0928730815813,
                    223.4370958458112,
                    -3757.9750650627516,
                    -5201.1217324635445,
                    -2917.3469006405085,
                    10094.759272516843,
                    -5072.104006717083,
                    -2392.976823977917,
                    -1453.6314622690916,
                    1165.0866333616723,
                    859.2948586020702,
                    -4899.7211777361845,
                    2089.38798371968,
                    504.6935575792395,
                    -4613.785688724505,
                    1979.0652990750423,
                    -4495.917449874962,
                    -3454.9888117205737,
                    5593.234765493862,
                    -1979.5661594254225,
                    -4817.1798856822215,
                    88.89928722526201,
                    -7307.261706636291,
                    18866.974229840976,
                    881.735513590349,
                    -5894.775356955228,
                    -4736.061761242505,
                    -2539.563630660672,
                    -2793.074425679256,
                    -4686.092483015927,
                    -6504.76191160624,
                    -7405.593453231566,
                    4985.016014072153,
                    -1269.1990663639936,
                    -6460.552179707719,
                    -6514.018268119008,
                    -2352.6417078521536,
                    -4860.6826375383625,
                    -3022.2124880011206,
                    -3007.683689364261,
                    -824.3546867427049,
                    -6099.775463111,
                    -4592.250677628675,
                    3632.0664129204524,
                    -7617.426967798663,
                    -932.1096455439529,
                    22179.099570717568,
                    -3218.7633223708344,
                    -4048.003986736053,
                    23493.732807437904,
                    668.9720836782753,
                    -636.7539536161676,
                    8115.999563752732,
                    -4988.87005261285,
                    -4728.511246273531,
                    -2516.7057220077104,
                    -4014.0598555790602,
                    -7441.857198944303,
                    -2622.693807304722,
                    -6108.992020444888,
                    -4907.797628080611,
                    -7567.631567539476,
                    195.746150777195,
                    -1354.7350342116506,
                    -1558.8218206994816,
                    -4817.528594930698,
                    151.21910241897058,
                    -2311.7755529147307,
                    -2764.8004741753266,
                    -4758.569818425209,
                    9196.306823086452,
                    -3306.8367008882533,
                    -757.8074509937942,
                    -2537.0760485309947,
                    -1485.0403742476847,
                    -5282.796489971384,
                    -6371.465056646446,
                    5493.790160253913,
                    -142.09302987392584,
                    -8971.04670663074,
                    -4900.214655715758,
                    -3184.8566214223583,
                    -9572.982990852692,
                    -127.12602244300615,
                    -2241.283853061137,
                    -4655.208128339562,
                    -1464.5454122025421,
                    -5257.033470507115,
                    -4377.4431148231215,
                    1899.2348220843414,
                    -3792.245548773555,
                    -4729.827340672437,
                    -4284.122276953954,
                    2646.392833030366,
                    -2067.3713341030525,
                    -3163.0801135939582,
                    -6429.540080267856,
                    -4733.052194490589,
                    8440.915882705889,
                    -913.2631127275745,
                    257.10767112833673,
                    4893.011803528745,
                    15263.148766884879,
                    -5299.048735276356,
                    2868.839233508479,
                    -5823.581498794643,
                    -1474.810883616171,
                    -3770.6142910936264,
                    13101.116168946166,
                    -3131.244404127532,
                    -3978.7377297469907,
                    -294.9149767090439,
                    -5256.137539745004,
                    -2725.717790796434,
                    -3153.487077314724,
                    1429.483337339143,
                    -1584.7593409421552,
                    -3918.4862647853847,
                    -3270.71810843362,
                    6205.133611619194,
                    -5489.341256202817,
                    -536.8422149959679,
                    133.90002363643453,
                    -2648.3017396955547,
                    7851.872579591505,
                    -4735.902780035884,
                    -9034.12294502171,
                    -6408.649498627916,
                    -3310.1372449778937,
                    -4932.399053206293,
                    9824.53927960133,
                    -6146.094232037591,
                    11293.102074072436,
                    -3415.616594657916,
                    18981.26320774656,
                    -1852.8773697726028,
                    -3542.792955908429,
                    7877.501301565513,
                    805.2912665026342,
                    -3921.5392286475317,
                    -4475.403468127779,
                    -3245.655976668111,
                    -1579.8424440915296,
                    -4823.516392109415,
                    -2849.9003540497197,
                    -7218.925473785984,
                    20444.787999362172,
                    -3765.7655202200413,
                    -5880.439222085421,
                    -2015.3655505557144,
                    -2399.030693044412,
                    772.1543983068877,
                    -2788.230531162103,
                    7707.605397260806,
                    -5493.808399469844,
                    -7759.181263045921,
                    -1168.7293191028348,
                    5734.954464422222,
                    -3689.9368515607966,
                    -6929.520493515845,
                    -6079.65090376378,
                    -1176.6137125500609,
                    -1189.8882988048463,
                    -9409.576870802266,
                    1786.8219440991816,
                    -3887.2781827986564,
                    489.07258117129095,
                    -4666.062221006493,
                    -2747.819918640922,
                    -6154.655044818497,
                    -2534.38756637287,
                    -7000.706853087042,
                    4042.984394322999,
                    -6613.726146135674,
                    -4408.345907823195,
                    -2276.140067849492,
                    -19.20502483720975,
                    1190.2131317446529,
                    -4253.11544364883,
                    10483.593391094244,
                    -252.84764452181298,
                    -2349.3584432660136,
                    -508.9713246531883,
                    700.247591141484,
                    -4040.3231353765805,
                    -2478.9113252349216,
                    -2560.116864084296,
                    598.4715370089962,
                    886.5374739950948,
                    -2278.544949848576,
                    -1792.9044072509205
                  ],
                  "yaxis": "y"
                }
              ],
              "layout": {
                "legend": {
                  "tracegroupgap": 0
                },
                "margin": {
                  "t": 60
                },
                "template": {
                  "data": {
                    "bar": [
                      {
                        "error_x": {
                          "color": "#2a3f5f"
                        },
                        "error_y": {
                          "color": "#2a3f5f"
                        },
                        "marker": {
                          "line": {
                            "color": "#E5ECF6",
                            "width": 0.5
                          },
                          "pattern": {
                            "fillmode": "overlay",
                            "size": 10,
                            "solidity": 0.2
                          }
                        },
                        "type": "bar"
                      }
                    ],
                    "barpolar": [
                      {
                        "marker": {
                          "line": {
                            "color": "#E5ECF6",
                            "width": 0.5
                          },
                          "pattern": {
                            "fillmode": "overlay",
                            "size": 10,
                            "solidity": 0.2
                          }
                        },
                        "type": "barpolar"
                      }
                    ],
                    "carpet": [
                      {
                        "aaxis": {
                          "endlinecolor": "#2a3f5f",
                          "gridcolor": "white",
                          "linecolor": "white",
                          "minorgridcolor": "white",
                          "startlinecolor": "#2a3f5f"
                        },
                        "baxis": {
                          "endlinecolor": "#2a3f5f",
                          "gridcolor": "white",
                          "linecolor": "white",
                          "minorgridcolor": "white",
                          "startlinecolor": "#2a3f5f"
                        },
                        "type": "carpet"
                      }
                    ],
                    "choropleth": [
                      {
                        "colorbar": {
                          "outlinewidth": 0,
                          "ticks": ""
                        },
                        "type": "choropleth"
                      }
                    ],
                    "contour": [
                      {
                        "colorbar": {
                          "outlinewidth": 0,
                          "ticks": ""
                        },
                        "colorscale": [
                          [
                            0,
                            "#0d0887"
                          ],
                          [
                            0.1111111111111111,
                            "#46039f"
                          ],
                          [
                            0.2222222222222222,
                            "#7201a8"
                          ],
                          [
                            0.3333333333333333,
                            "#9c179e"
                          ],
                          [
                            0.4444444444444444,
                            "#bd3786"
                          ],
                          [
                            0.5555555555555556,
                            "#d8576b"
                          ],
                          [
                            0.6666666666666666,
                            "#ed7953"
                          ],
                          [
                            0.7777777777777778,
                            "#fb9f3a"
                          ],
                          [
                            0.8888888888888888,
                            "#fdca26"
                          ],
                          [
                            1,
                            "#f0f921"
                          ]
                        ],
                        "type": "contour"
                      }
                    ],
                    "contourcarpet": [
                      {
                        "colorbar": {
                          "outlinewidth": 0,
                          "ticks": ""
                        },
                        "type": "contourcarpet"
                      }
                    ],
                    "heatmap": [
                      {
                        "colorbar": {
                          "outlinewidth": 0,
                          "ticks": ""
                        },
                        "colorscale": [
                          [
                            0,
                            "#0d0887"
                          ],
                          [
                            0.1111111111111111,
                            "#46039f"
                          ],
                          [
                            0.2222222222222222,
                            "#7201a8"
                          ],
                          [
                            0.3333333333333333,
                            "#9c179e"
                          ],
                          [
                            0.4444444444444444,
                            "#bd3786"
                          ],
                          [
                            0.5555555555555556,
                            "#d8576b"
                          ],
                          [
                            0.6666666666666666,
                            "#ed7953"
                          ],
                          [
                            0.7777777777777778,
                            "#fb9f3a"
                          ],
                          [
                            0.8888888888888888,
                            "#fdca26"
                          ],
                          [
                            1,
                            "#f0f921"
                          ]
                        ],
                        "type": "heatmap"
                      }
                    ],
                    "heatmapgl": [
                      {
                        "colorbar": {
                          "outlinewidth": 0,
                          "ticks": ""
                        },
                        "colorscale": [
                          [
                            0,
                            "#0d0887"
                          ],
                          [
                            0.1111111111111111,
                            "#46039f"
                          ],
                          [
                            0.2222222222222222,
                            "#7201a8"
                          ],
                          [
                            0.3333333333333333,
                            "#9c179e"
                          ],
                          [
                            0.4444444444444444,
                            "#bd3786"
                          ],
                          [
                            0.5555555555555556,
                            "#d8576b"
                          ],
                          [
                            0.6666666666666666,
                            "#ed7953"
                          ],
                          [
                            0.7777777777777778,
                            "#fb9f3a"
                          ],
                          [
                            0.8888888888888888,
                            "#fdca26"
                          ],
                          [
                            1,
                            "#f0f921"
                          ]
                        ],
                        "type": "heatmapgl"
                      }
                    ],
                    "histogram": [
                      {
                        "marker": {
                          "pattern": {
                            "fillmode": "overlay",
                            "size": 10,
                            "solidity": 0.2
                          }
                        },
                        "type": "histogram"
                      }
                    ],
                    "histogram2d": [
                      {
                        "colorbar": {
                          "outlinewidth": 0,
                          "ticks": ""
                        },
                        "colorscale": [
                          [
                            0,
                            "#0d0887"
                          ],
                          [
                            0.1111111111111111,
                            "#46039f"
                          ],
                          [
                            0.2222222222222222,
                            "#7201a8"
                          ],
                          [
                            0.3333333333333333,
                            "#9c179e"
                          ],
                          [
                            0.4444444444444444,
                            "#bd3786"
                          ],
                          [
                            0.5555555555555556,
                            "#d8576b"
                          ],
                          [
                            0.6666666666666666,
                            "#ed7953"
                          ],
                          [
                            0.7777777777777778,
                            "#fb9f3a"
                          ],
                          [
                            0.8888888888888888,
                            "#fdca26"
                          ],
                          [
                            1,
                            "#f0f921"
                          ]
                        ],
                        "type": "histogram2d"
                      }
                    ],
                    "histogram2dcontour": [
                      {
                        "colorbar": {
                          "outlinewidth": 0,
                          "ticks": ""
                        },
                        "colorscale": [
                          [
                            0,
                            "#0d0887"
                          ],
                          [
                            0.1111111111111111,
                            "#46039f"
                          ],
                          [
                            0.2222222222222222,
                            "#7201a8"
                          ],
                          [
                            0.3333333333333333,
                            "#9c179e"
                          ],
                          [
                            0.4444444444444444,
                            "#bd3786"
                          ],
                          [
                            0.5555555555555556,
                            "#d8576b"
                          ],
                          [
                            0.6666666666666666,
                            "#ed7953"
                          ],
                          [
                            0.7777777777777778,
                            "#fb9f3a"
                          ],
                          [
                            0.8888888888888888,
                            "#fdca26"
                          ],
                          [
                            1,
                            "#f0f921"
                          ]
                        ],
                        "type": "histogram2dcontour"
                      }
                    ],
                    "mesh3d": [
                      {
                        "colorbar": {
                          "outlinewidth": 0,
                          "ticks": ""
                        },
                        "type": "mesh3d"
                      }
                    ],
                    "parcoords": [
                      {
                        "line": {
                          "colorbar": {
                            "outlinewidth": 0,
                            "ticks": ""
                          }
                        },
                        "type": "parcoords"
                      }
                    ],
                    "pie": [
                      {
                        "automargin": true,
                        "type": "pie"
                      }
                    ],
                    "scatter": [
                      {
                        "fillpattern": {
                          "fillmode": "overlay",
                          "size": 10,
                          "solidity": 0.2
                        },
                        "type": "scatter"
                      }
                    ],
                    "scatter3d": [
                      {
                        "line": {
                          "colorbar": {
                            "outlinewidth": 0,
                            "ticks": ""
                          }
                        },
                        "marker": {
                          "colorbar": {
                            "outlinewidth": 0,
                            "ticks": ""
                          }
                        },
                        "type": "scatter3d"
                      }
                    ],
                    "scattercarpet": [
                      {
                        "marker": {
                          "colorbar": {
                            "outlinewidth": 0,
                            "ticks": ""
                          }
                        },
                        "type": "scattercarpet"
                      }
                    ],
                    "scattergeo": [
                      {
                        "marker": {
                          "colorbar": {
                            "outlinewidth": 0,
                            "ticks": ""
                          }
                        },
                        "type": "scattergeo"
                      }
                    ],
                    "scattergl": [
                      {
                        "marker": {
                          "colorbar": {
                            "outlinewidth": 0,
                            "ticks": ""
                          }
                        },
                        "type": "scattergl"
                      }
                    ],
                    "scattermapbox": [
                      {
                        "marker": {
                          "colorbar": {
                            "outlinewidth": 0,
                            "ticks": ""
                          }
                        },
                        "type": "scattermapbox"
                      }
                    ],
                    "scatterpolar": [
                      {
                        "marker": {
                          "colorbar": {
                            "outlinewidth": 0,
                            "ticks": ""
                          }
                        },
                        "type": "scatterpolar"
                      }
                    ],
                    "scatterpolargl": [
                      {
                        "marker": {
                          "colorbar": {
                            "outlinewidth": 0,
                            "ticks": ""
                          }
                        },
                        "type": "scatterpolargl"
                      }
                    ],
                    "scatterternary": [
                      {
                        "marker": {
                          "colorbar": {
                            "outlinewidth": 0,
                            "ticks": ""
                          }
                        },
                        "type": "scatterternary"
                      }
                    ],
                    "surface": [
                      {
                        "colorbar": {
                          "outlinewidth": 0,
                          "ticks": ""
                        },
                        "colorscale": [
                          [
                            0,
                            "#0d0887"
                          ],
                          [
                            0.1111111111111111,
                            "#46039f"
                          ],
                          [
                            0.2222222222222222,
                            "#7201a8"
                          ],
                          [
                            0.3333333333333333,
                            "#9c179e"
                          ],
                          [
                            0.4444444444444444,
                            "#bd3786"
                          ],
                          [
                            0.5555555555555556,
                            "#d8576b"
                          ],
                          [
                            0.6666666666666666,
                            "#ed7953"
                          ],
                          [
                            0.7777777777777778,
                            "#fb9f3a"
                          ],
                          [
                            0.8888888888888888,
                            "#fdca26"
                          ],
                          [
                            1,
                            "#f0f921"
                          ]
                        ],
                        "type": "surface"
                      }
                    ],
                    "table": [
                      {
                        "cells": {
                          "fill": {
                            "color": "#EBF0F8"
                          },
                          "line": {
                            "color": "white"
                          }
                        },
                        "header": {
                          "fill": {
                            "color": "#C8D4E3"
                          },
                          "line": {
                            "color": "white"
                          }
                        },
                        "type": "table"
                      }
                    ]
                  },
                  "layout": {
                    "annotationdefaults": {
                      "arrowcolor": "#2a3f5f",
                      "arrowhead": 0,
                      "arrowwidth": 1
                    },
                    "autotypenumbers": "strict",
                    "coloraxis": {
                      "colorbar": {
                        "outlinewidth": 0,
                        "ticks": ""
                      }
                    },
                    "colorscale": {
                      "diverging": [
                        [
                          0,
                          "#8e0152"
                        ],
                        [
                          0.1,
                          "#c51b7d"
                        ],
                        [
                          0.2,
                          "#de77ae"
                        ],
                        [
                          0.3,
                          "#f1b6da"
                        ],
                        [
                          0.4,
                          "#fde0ef"
                        ],
                        [
                          0.5,
                          "#f7f7f7"
                        ],
                        [
                          0.6,
                          "#e6f5d0"
                        ],
                        [
                          0.7,
                          "#b8e186"
                        ],
                        [
                          0.8,
                          "#7fbc41"
                        ],
                        [
                          0.9,
                          "#4d9221"
                        ],
                        [
                          1,
                          "#276419"
                        ]
                      ],
                      "sequential": [
                        [
                          0,
                          "#0d0887"
                        ],
                        [
                          0.1111111111111111,
                          "#46039f"
                        ],
                        [
                          0.2222222222222222,
                          "#7201a8"
                        ],
                        [
                          0.3333333333333333,
                          "#9c179e"
                        ],
                        [
                          0.4444444444444444,
                          "#bd3786"
                        ],
                        [
                          0.5555555555555556,
                          "#d8576b"
                        ],
                        [
                          0.6666666666666666,
                          "#ed7953"
                        ],
                        [
                          0.7777777777777778,
                          "#fb9f3a"
                        ],
                        [
                          0.8888888888888888,
                          "#fdca26"
                        ],
                        [
                          1,
                          "#f0f921"
                        ]
                      ],
                      "sequentialminus": [
                        [
                          0,
                          "#0d0887"
                        ],
                        [
                          0.1111111111111111,
                          "#46039f"
                        ],
                        [
                          0.2222222222222222,
                          "#7201a8"
                        ],
                        [
                          0.3333333333333333,
                          "#9c179e"
                        ],
                        [
                          0.4444444444444444,
                          "#bd3786"
                        ],
                        [
                          0.5555555555555556,
                          "#d8576b"
                        ],
                        [
                          0.6666666666666666,
                          "#ed7953"
                        ],
                        [
                          0.7777777777777778,
                          "#fb9f3a"
                        ],
                        [
                          0.8888888888888888,
                          "#fdca26"
                        ],
                        [
                          1,
                          "#f0f921"
                        ]
                      ]
                    },
                    "colorway": [
                      "#636efa",
                      "#EF553B",
                      "#00cc96",
                      "#ab63fa",
                      "#FFA15A",
                      "#19d3f3",
                      "#FF6692",
                      "#B6E880",
                      "#FF97FF",
                      "#FECB52"
                    ],
                    "font": {
                      "color": "#2a3f5f"
                    },
                    "geo": {
                      "bgcolor": "white",
                      "lakecolor": "white",
                      "landcolor": "#E5ECF6",
                      "showlakes": true,
                      "showland": true,
                      "subunitcolor": "white"
                    },
                    "hoverlabel": {
                      "align": "left"
                    },
                    "hovermode": "closest",
                    "mapbox": {
                      "style": "light"
                    },
                    "paper_bgcolor": "white",
                    "plot_bgcolor": "#E5ECF6",
                    "polar": {
                      "angularaxis": {
                        "gridcolor": "white",
                        "linecolor": "white",
                        "ticks": ""
                      },
                      "bgcolor": "#E5ECF6",
                      "radialaxis": {
                        "gridcolor": "white",
                        "linecolor": "white",
                        "ticks": ""
                      }
                    },
                    "scene": {
                      "xaxis": {
                        "backgroundcolor": "#E5ECF6",
                        "gridcolor": "white",
                        "gridwidth": 2,
                        "linecolor": "white",
                        "showbackground": true,
                        "ticks": "",
                        "zerolinecolor": "white"
                      },
                      "yaxis": {
                        "backgroundcolor": "#E5ECF6",
                        "gridcolor": "white",
                        "gridwidth": 2,
                        "linecolor": "white",
                        "showbackground": true,
                        "ticks": "",
                        "zerolinecolor": "white"
                      },
                      "zaxis": {
                        "backgroundcolor": "#E5ECF6",
                        "gridcolor": "white",
                        "gridwidth": 2,
                        "linecolor": "white",
                        "showbackground": true,
                        "ticks": "",
                        "zerolinecolor": "white"
                      }
                    },
                    "shapedefaults": {
                      "line": {
                        "color": "#2a3f5f"
                      }
                    },
                    "ternary": {
                      "aaxis": {
                        "gridcolor": "white",
                        "linecolor": "white",
                        "ticks": ""
                      },
                      "baxis": {
                        "gridcolor": "white",
                        "linecolor": "white",
                        "ticks": ""
                      },
                      "bgcolor": "#E5ECF6",
                      "caxis": {
                        "gridcolor": "white",
                        "linecolor": "white",
                        "ticks": ""
                      }
                    },
                    "title": {
                      "x": 0.05
                    },
                    "xaxis": {
                      "automargin": true,
                      "gridcolor": "white",
                      "linecolor": "white",
                      "ticks": "",
                      "title": {
                        "standoff": 15
                      },
                      "zerolinecolor": "white",
                      "zerolinewidth": 2
                    },
                    "yaxis": {
                      "automargin": true,
                      "gridcolor": "white",
                      "linecolor": "white",
                      "ticks": "",
                      "title": {
                        "standoff": 15
                      },
                      "zerolinecolor": "white",
                      "zerolinewidth": 2
                    }
                  }
                },
                "xaxis": {
                  "anchor": "y",
                  "domain": [
                    0,
                    1
                  ],
                  "title": {
                    "text": "x"
                  }
                },
                "yaxis": {
                  "anchor": "x",
                  "domain": [
                    0,
                    1
                  ],
                  "title": {
                    "text": "y"
                  }
                }
              }
            }
          },
          "metadata": {},
          "output_type": "display_data"
        }
      ],
      "source": [
        "# Create a scatter plot of residuals against the true values for the training data\n",
        "px.scatter(x=y_train, y=residuals_train)  "
      ]
    },
    {
      "cell_type": "code",
      "execution_count": null,
      "id": "6507817e",
      "metadata": {
        "id": "6507817e",
        "outputId": "9a9cc6d3-d5dd-4a12-bb56-668b95722388"
      },
      "outputs": [
        {
          "data": {
            "application/vnd.plotly.v1+json": {
              "config": {
                "plotlyServerURL": "https://plot.ly"
              },
              "data": [
                {
                  "hovertemplate": "x=%{x}<br>y=%{y}<extra></extra>",
                  "legendgroup": "",
                  "marker": {
                    "color": "#636efa",
                    "symbol": "circle"
                  },
                  "mode": "markers",
                  "name": "",
                  "orientation": "v",
                  "showlegend": false,
                  "type": "scatter",
                  "x": [
                    9095.06825,
                    5272.1758,
                    29330.98315,
                    9301.89355,
                    33750.2918,
                    4536.259,
                    2117.33885,
                    14210.53595,
                    3732.6251,
                    10264.4421,
                    18259.216,
                    7256.7231,
                    3947.4131,
                    46151.1245,
                    48673.5588,
                    44202.6536,
                    9800.8882,
                    42969.8527,
                    8233.0975,
                    21774.32215,
                    5080.096,
                    7441.501,
                    1256.299,
                    2755.02095,
                    11085.5868,
                    10923.9332,
                    12644.589,
                    18804.7524,
                    9715.841,
                    1131.5066,
                    15828.82173,
                    11842.62375,
                    2020.5523,
                    5693.4305,
                    2904.088,
                    7448.40395,
                    2597.779,
                    7337.748,
                    23887.6627,
                    38709.176,
                    4687.797,
                    2643.2685,
                    11674.13,
                    12124.9924,
                    4889.9995,
                    12333.828,
                    3579.8287,
                    4391.652,
                    42124.5153,
                    4463.2051,
                    13887.204,
                    1719.4363,
                    28476.73499,
                    1708.92575,
                    10594.2257,
                    25333.33284,
                    3645.0894,
                    38746.3551,
                    11848.141,
                    10564.8845,
                    13880.949,
                    4753.6368,
                    27941.28758,
                    8017.06115,
                    23045.56616,
                    4133.64165,
                    17942.106,
                    25992.82104,
                    3594.17085,
                    1682.597,
                    6079.6715,
                    9411.005,
                    8283.6807,
                    6338.0756,
                    7152.6714,
                    4889.0368,
                    4846.92015,
                    11454.0215,
                    4349.462,
                    9101.798,
                    1391.5287,
                    28101.33305,
                    5152.134,
                    38511.6283,
                    44501.3982,
                    41097.16175,
                    4837.5823,
                    10601.63225,
                    8310.83915,
                    11264.541,
                    15230.32405,
                    27037.9141,
                    23401.30575,
                    5031.26955,
                    38282.7495,
                    6875.961,
                    19719.6947,
                    1880.07,
                    18765.87545,
                    6402.29135,
                    4527.18295,
                    1743.214,
                    5709.1644,
                    12363.547,
                    13129.60345,
                    1727.54,
                    7731.4271,
                    21195.818,
                    1702.4553,
                    23244.7902,
                    23082.95533,
                    2927.0647,
                    13019.16105,
                    37701.8768,
                    9778.3472,
                    1980.07,
                    30259.99556,
                    22478.6,
                    6313.759,
                    2789.0574,
                    5594.8455,
                    7261.741,
                    11396.9002,
                    1986.9334,
                    4719.73655,
                    7749.1564,
                    7345.7266,
                    9288.0267,
                    12244.531,
                    1837.2819,
                    3972.9247,
                    5934.3798,
                    5836.5204,
                    7935.29115,
                    5649.715,
                    12347.172,
                    12404.8791,
                    22144.032,
                    42983.4585,
                    37270.1512,
                    5267.81815,
                    9866.30485,
                    2322.6218,
                    33471.97189,
                    2137.6536,
                    23306.547,
                    5261.46945,
                    3761.292,
                    11436.73815,
                    4751.07,
                    46661.4424,
                    2690.1138,
                    1146.7966,
                    37607.5277,
                    6373.55735,
                    4518.82625,
                    13555.0049,
                    8547.6913,
                    34439.8559,
                    39125.33225,
                    13607.36875,
                    2710.82855,
                    14988.432,
                    2396.0959,
                    3591.48,
                    7162.0122,
                    48824.45,
                    43578.9394,
                    39556.4945,
                    2632.992,
                    9182.17,
                    6238.298,
                    5757.41345,
                    4239.89265,
                    2154.361,
                    21978.6769,
                    16297.846,
                    13831.1152,
                    32734.1863,
                    11830.6072,
                    29523.1656,
                    3167.45585,
                    8428.0693,
                    5012.471,
                    5209.57885,
                    2855.43755,
                    20277.80751,
                    3554.203,
                    8569.8618,
                    10594.50155,
                    3597.596,
                    7323.734819,
                    2731.9122,
                    38711,
                    12981.3457,
                    9283.562,
                    2709.1119,
                    12096.6512,
                    2198.18985,
                    8932.084,
                    3176.2877,
                    24393.6224,
                    4266.1658,
                    22493.65964,
                    17085.2676,
                    16577.7795,
                    8827.2099,
                    4296.2712,
                    7804.1605,
                    3208.787,
                    12957.118,
                    22192.43711,
                    9432.9253,
                    17043.3414,
                    6593.5083,
                    4137.5227,
                    4779.6023,
                    14001.2867,
                    12629.8967,
                    5245.2269,
                    2404.7338,
                    6948.7008,
                    6435.6237,
                    42560.4304,
                    2055.3249,
                    34672.1472,
                    1731.677,
                    1639.5631,
                    9377.9047,
                    10977.2063,
                    1534.3045,
                    9644.2525,
                    4529.477,
                    37829.7242,
                    9991.03765,
                    8125.7845,
                    3877.30425,
                    5979.731,
                    43896.3763,
                    1674.6323,
                    13204.28565,
                    44585.45587,
                    3021.80915,
                    3392.9768,
                    1632.03625,
                    2699.56835,
                    20177.67113,
                    4076.497,
                    12592.5345,
                    1621.3402,
                    1875.344,
                    7196.867,
                    3161.454,
                    12029.2867,
                    2719.27975,
                    18218.16139,
                    12146.971,
                    3292.52985,
                    8688.85885,
                    6113.23105,
                    8059.6791,
                    13415.0381,
                    18246.4955,
                    47055.5321,
                    12222.8983,
                    6067.12675,
                    63770.42801,
                    9872.701,
                    9193.8385,
                    8534.6718,
                    27117.99378,
                    8596.8278,
                    12475.3513,
                    13405.3903,
                    2150.469,
                    13747.87235,
                    6610.1097,
                    39047.285,
                    27375.90478,
                    9048.0273,
                    8988.15875,
                    14901.5167,
                    10096.97,
                    8835.26495,
                    38415.474,
                    2721.3208,
                    9877.6077,
                    47269.854,
                    4237.12655,
                    2534.39375,
                    2205.9808,
                    10965.446,
                    15006.57945,
                    10736.87075,
                    9788.8659,
                    10422.91665,
                    9304.7019,
                    3378.91,
                    2155.6815,
                    38126.2465,
                    35491.64,
                    6356.2707,
                    24059.68019,
                    16450.8947,
                    12925.886,
                    36950.2567,
                    2459.7201,
                    46889.2612,
                    5124.1887,
                    14133.03775,
                    6414.178,
                    1720.3537,
                    15817.9857,
                    13462.52,
                    2103.08,
                    12105.32,
                    20781.48892,
                    12235.8392,
                    41949.2441,
                    12643.3778,
                    21223.6758,
                    7954.517,
                    15170.069,
                    3659.346,
                    8232.6388,
                    8027.968,
                    13919.8229,
                    10791.96,
                    17878.90068,
                    10601.412,
                    13217.0945,
                    11944.59435,
                    14358.36437,
                    32548.3405,
                    5699.8375,
                    2352.96845,
                    4340.4409,
                    9391.346,
                    42211.1382,
                    8823.279,
                    14256.1928,
                    7133.9025,
                    5312.16985,
                    3906.127,
                    2203.47185,
                    28340.18885,
                    5484.4673,
                    1622.1885,
                    11299.343,
                    8026.6666,
                    11737.84884,
                    2913.569,
                    9861.025,
                    2473.3341,
                    39983.42595,
                    36307.7983,
                    44400.4064,
                    3172.018,
                    7742.1098,
                    6185.3208,
                    1880.487,
                    21771.3423,
                    6858.4796,
                    17179.522,
                    42760.5022,
                    5478.0368,
                    12638.195,
                    5989.52365,
                    9566.9909,
                    10370.91255,
                    19594.80965,
                    11576.13,
                    6360.9936,
                    4032.2407,
                    2585.269,
                    11658.37915,
                    21082.16,
                    10807.4863,
                    9724.53,
                    3201.24515,
                    3309.7926,
                    5969.723,
                    8269.044,
                    9414.92,
                    23967.38305,
                    47928.03,
                    11842.442,
                    7421.19455,
                    12950.0712,
                    11033.6617,
                    6082.405,
                    3989.841,
                    7537.1639,
                    3484.331,
                    8116.68,
                    17626.23951,
                    11837.16,
                    9541.69555,
                    4399.731,
                    2200.83085,
                    11363.2832,
                    1964.78,
                    13429.0354,
                    24603.04837,
                    27322.73386,
                    42303.69215,
                    42112.2356,
                    41676.0811,
                    4562.8421,
                    3490.5491,
                    12485.8009,
                    6748.5912,
                    45863.205,
                    2166.732,
                    6457.8434,
                    12094.478,
                    19515.5416,
                    4915.05985,
                    2523.1695,
                    11566.30055,
                    23241.47453,
                    4074.4537,
                    6600.20595,
                    1242.816,
                    19361.9988,
                    8603.8234,
                    5972.378,
                    3171.6149,
                    5375.038,
                    12629.1656,
                    19040.876,
                    8219.2039,
                    7348.142,
                    4347.02335,
                    6753.038,
                    2457.502,
                    5976.8311,
                    18806.14547,
                    11070.535,
                    10065.413,
                    24671.66334,
                    1824.2854
                  ],
                  "xaxis": "x",
                  "y": [
                    22.100881232472602,
                    -3772.2605509491395,
                    -12494.522440971152,
                    -56.131896138060256,
                    8476.690153260708,
                    -7945.5284393123475,
                    -3517.8932657199593,
                    -2795.1826546899447,
                    -1860.094906796914,
                    -352.95889653631275,
                    -6076.054889412888,
                    -2655.3077679942444,
                    -4083.22947754783,
                    -1891.970787469225,
                    -7455.975739802365,
                    -535.0464983808342,
                    -5695.504595462513,
                    745.8589359672187,
                    -1737.637053366252,
                    -9427.03108379016,
                    -1356.4951672526768,
                    -3352.6621771571536,
                    -5785.731433264301,
                    -6821.023169425345,
                    473.7016815897405,
                    -1830.9724349941662,
                    -2234.9208184106756,
                    10839.134951968583,
                    -11.583856429457228,
                    -5751.9324152855925,
                    6406.351123092751,
                    -1190.282563430741,
                    -6207.244634203408,
                    -529.4561691987556,
                    -4853.157544381331,
                    -6074.32064744823,
                    -3892.7985211821974,
                    -2687.0590797094355,
                    -9118.58931626541,
                    3756.224378112449,
                    -2006.7723716561613,
                    -4931.221577208045,
                    -2617.3161410236225,
                    825.7794655987163,
                    -5228.776179711407,
                    390.0014240927321,
                    -4368.9441529008245,
                    -2117.9953270768992,
                    2833.3717055143934,
                    -6091.060096796363,
                    -2170.6400763186484,
                    -5016.531904834799,
                    15363.370080056382,
                    -4437.482709215691,
                    -3180.5759165207437,
                    13502.178014522331,
                    -3621.7989273008097,
                    6825.165385362325,
                    -1842.3977186611064,
                    -2196.5747002360313,
                    -355.736162338073,
                    -7074.29726487775,
                    12431.63943859362,
                    -604.8697495752795,
                    11257.084607597608,
                    -3006.6638531413246,
                    -4181.518305864789,
                    15558.899529338505,
                    -2595.3555473989004,
                    -7813.358583762394,
                    -5225.384580806176,
                    -1789.180524947049,
                    -3585.455696180892,
                    -3751.8703834243934,
                    -5557.472144907099,
                    -4130.4437815984165,
                    -3617.4859790501287,
                    596.8632960751074,
                    -4344.663463100324,
                    -103.64248554695587,
                    -6370.910556659179,
                    -12388.526720883463,
                    -3305.2312135896755,
                    8280.784633387837,
                    -85.58987967261055,
                    2090.1217915402667,
                    -3777.8966794840817,
                    -2377.887065092984,
                    -1932.179586662569,
                    -2703.135064281005,
                    -1368.212550165219,
                    -10881.505983980074,
                    -8971.793449555938,
                    -2812.990099383569,
                    4295.494750457641,
                    -3483.6406931102856,
                    -8428.384009113663,
                    -5811.220780633306,
                    -5102.947282877489,
                    -1020.8505646845251,
                    -3362.9036754546987,
                    -5008.127074729638,
                    -7190.305763124421,
                    -2043.430741550752,
                    2044.8691464028452,
                    -6202.875793755009,
                    -2668.831249790387,
                    -9628.87301012787,
                    -3682.1652692113635,
                    -9178.709777703141,
                    15487.913124961275,
                    -9294.384234784298,
                    -413.8713505845808,
                    6439.865395676767,
                    -1462.5146006069008,
                    -5711.220780633306,
                    17771.099761384623,
                    -8575.539821176553,
                    -3069.061761242505,
                    -4089.5475332384617,
                    -3996.239543259714,
                    -3680.2345594473827,
                    -3039.4824604824225,
                    -6866.50759260335,
                    -2013.390580867488,
                    -2857.2122918273126,
                    -4380.7640762265055,
                    -1665.307974778245,
                    -2456.2997457852543,
                    -8463.444359410116,
                    -4282.588397457459,
                    -4093.727502436027,
                    -4623.996729292238,
                    -5044.22425739791,
                    -4568.3407062732185,
                    -3120.278427082225,
                    2425.383647699371,
                    -11166.156527342122,
                    47.588031087339914,
                    5595.739807845413,
                    -3024.2457133367125,
                    -2745.2083375070724,
                    -6694.36397940734,
                    19363.194609811926,
                    -4641.480560104983,
                    -9546.194707494244,
                    -2784.6120269111225,
                    -4407.252784111788,
                    -2044.5205353306264,
                    -4275.640825275121,
                    533.3109288397754,
                    -4336.91156024531,
                    -8202.71071346368,
                    5856.1936414071715,
                    -6064.035393290446,
                    -5455.464497654777,
                    -589.8300956444746,
                    -1947.8220308647287,
                    8375.92411856207,
                    4367.901971186409,
                    379.20695799333225,
                    -3465.399944147717,
                    2764.318144545461,
                    -3951.689439202611,
                    -4395.45977637887,
                    -4883.709269392278,
                    -5177.079910686181,
                    1312.5560875876254,
                    4105.258576736895,
                    -5070.115462003895,
                    519.0501419536104,
                    -3896.036179636184,
                    -7600.149281524273,
                    -3238.67650923728,
                    -4569.106437865275,
                    -9809.170999608508,
                    -6350.407890431228,
                    -4375.374154028494,
                    11668.918627965828,
                    1528.7410933083447,
                    -12622.553172517502,
                    -1773.8277259843321,
                    420.19265558489406,
                    -4698.109684422245,
                    -1377.428440668914,
                    -5401.679427186065,
                    12235.980820170356,
                    -4182.295430054735,
                    -7575.4947367725945,
                    -698.8624935810949,
                    -5426.118891350781,
                    626.5262935872279,
                    -3286.8299170746027,
                    5197.5889319415655,
                    -3944.6218209075905,
                    -3391.226473205037,
                    -3254.7612458735275,
                    590.9801080330762,
                    -3981.360120416571,
                    -971.5123306712685,
                    -3059.989015750376,
                    -11435.235353942357,
                    -7920.211231688355,
                    16046.342428033313,
                    -5381.160755909168,
                    -6947.177315621808,
                    -1299.068771156455,
                    -1406.3810419090496,
                    -6465.046513177091,
                    -2687.119007581791,
                    2376.53327451519,
                    11662.394850242255,
                    -7684.662591013845,
                    -7581.630835062475,
                    -1765.3783838513145,
                    -3648.7718714506536,
                    -3450.9422261644368,
                    1950.001212070647,
                    1446.7915385921951,
                    -4752.643994452399,
                    -6019.603576884172,
                    -6272.67710261821,
                    -7956.277413805261,
                    1148.6515033237956,
                    -5681.603325703547,
                    6126.0789718509,
                    -3604.122050521647,
                    -5440.113696754365,
                    -1971.2786326315381,
                    -4025.8919389173716,
                    -7158.133639049467,
                    1482.5139435406809,
                    -2455.456883234585,
                    5890.594489425905,
                    1637.484287004776,
                    -5125.944773694577,
                    -4071.469836911063,
                    -5097.742502149178,
                    617.1655403745171,
                    -6428.515747301331,
                    3767.518018824383,
                    12657.749394155067,
                    -5631.949228221608,
                    -4346.975065062752,
                    -4445.316623266711,
                    -5291.376242820108,
                    12717.48259481759,
                    -4788.710259026911,
                    -5450.0138248592575,
                    -3258.334804645788,
                    -5117.634077956318,
                    -3910.255986840557,
                    -3951.8686490931063,
                    1992.3605175976536,
                    -4609.733461554177,
                    10089.501758566486,
                    -445.45045143687275,
                    -5356.674632805544,
                    -270.49913736104827,
                    -2377.986725239489,
                    -1205.6428154446667,
                    3080.9411834643615,
                    -8120.934462062527,
                    -3568.5883619451924,
                    561.5727301690422,
                    -2756.7276578149276,
                    3072.6440762734273,
                    -2836.4140839365155,
                    1224.0003497592334,
                    -600.3974524461228,
                    17115.45037056585,
                    -2055.471246182071,
                    3082.951677127867,
                    -5013.575582053796,
                    -4062.2149148649805,
                    -5258.076212074711,
                    -6436.168609315188,
                    4490.501445517257,
                    20277.33082670061,
                    -4481.986790781857,
                    -1993.6153976921469,
                    -2759.208849228722,
                    724.7449423933394,
                    -3026.459882999905,
                    5025.496714624911,
                    -4149.941215273937,
                    -4100.585313733249,
                    -4175.068909522226,
                    -3487.508403292896,
                    -6396.764052754618,
                    -5030.026515231308,
                    -816.6326861784382,
                    -4686.8232320511615,
                    -1894.105299288287,
                    930.2741870522768,
                    344.03458741748,
                    -4184.912787535932,
                    -2442.309143774607,
                    -4749.8471116261535,
                    4618.8109976809865,
                    5112.567245208094,
                    -8036.4036559244805,
                    16980.003393245635,
                    -5230.835770482925,
                    248.35154074018465,
                    4545.788026386708,
                    -4730.200689945923,
                    -2913.966107664921,
                    -7099.914072972621,
                    5494.133898970829,
                    -1938.9070816000803,
                    -5141.83440894964,
                    -6674.8400881325415,
                    -1102.2073725051268,
                    -3676.116988452105,
                    -16.461496016976525,
                    7722.870875903422,
                    -2754.820454449784,
                    2988.399521619729,
                    -907.0632131979237,
                    -10209.765736650752,
                    -2519.1830270519076,
                    -2452.799139439994,
                    -4915.633611409035,
                    -1648.1278578110177,
                    -1969.9059542571404,
                    -186.30459736649937,
                    1248.0172877196655,
                    7431.266132938854,
                    -5219.723404287681,
                    1076.8852365864695,
                    -2411.0576572959762,
                    4885.395861120674,
                    8346.045269316459,
                    -5049.583476825428,
                    -3940.5207210546528,
                    -2915.8694762592795,
                    -5345.766005482985,
                    565.8148701056562,
                    -1382.7391404222035,
                    2009.1930481953586,
                    88.11170119515373,
                    -1904.6032726790745,
                    -3078.0214817323254,
                    -4675.132005610959,
                    18628.002230265294,
                    -3399.398029047903,
                    -5499.116864084296,
                    -1053.3130186729304,
                    -1859.5309281350865,
                    3670.2420228218834,
                    -2865.2991703258663,
                    -248.87678690502253,
                    -5933.020207352523,
                    6462.335298257334,
                    7034.132853161791,
                    -1840.5960578549202,
                    -5618.929001289558,
                    -1844.2277323851195,
                    -3844.4400645313735,
                    -5875.458816330283,
                    -8166.644733273955,
                    -1389.9273574799126,
                    -7737.102406581889,
                    1842.980140045358,
                    -3541.4437815984165,
                    -510.6162796255412,
                    -4738.762390909126,
                    584.0745747094406,
                    -1682.0044038028263,
                    -7082.189394012101,
                    -6326.127696442856,
                    -5949.222847252258,
                    -2968.5978535176496,
                    -2439.629319883343,
                    -166.67268939386304,
                    -9495.863724974439,
                    -2135.2741397936825,
                    -1849.5878074372758,
                    -7079.177213722129,
                    -3488.4388726514667,
                    -3121.3049618827135,
                    -624.6580167595839,
                    -1335.9716071011098,
                    -9134.835203671752,
                    -1776.397534255375,
                    -412.85793122217,
                    -2144.8433776544443,
                    -3531.436115194969,
                    -3654.956696173913,
                    -4520.191864149508,
                    -7546.545263407341,
                    -1835.5755832637078,
                    -3016.3255726327816,
                    -2978.0323273104623,
                    10502.134315233125,
                    785.036488636124,
                    -7073.616971808788,
                    -4565.073853912576,
                    -4319.472461444688,
                    -3467.691615222442,
                    -3676.2292399454473,
                    -156.12243249700987,
                    14754.808266303198,
                    14834.178435458274,
                    1678.2163673497926,
                    3164.170006578526,
                    -84.37832080642693,
                    -3845.3810644768073,
                    -4823.422397408225,
                    -3615.7436876641405,
                    -2015.1465716994326,
                    -4873.976576875371,
                    -6453.999023769777,
                    -2672.432192336484,
                    2298.0693439055503,
                    -9529.107311535154,
                    -2179.7284541830422,
                    -4609.530477026319,
                    -5074.217981303202,
                    16604.910856786933,
                    -4437.042518184269,
                    -4150.389878365357,
                    -4108.242839798404,
                    -6786.9696161313295,
                    -72.7448766565758,
                    -5057.144361709209,
                    -5549.036386269203,
                    -3980.919990510997,
                    1580.3587416618739,
                    -8195.174543173453,
                    -1933.2167551982475,
                    -4623.597098930513,
                    -4279.445322234939,
                    305.7177454831326,
                    -3650.914315026061,
                    -3520.698590645913,
                    7184.396509366095,
                    316.7015666762436,
                    832.4947951326521,
                    16991.955256852572,
                    -6131.575711338052
                  ],
                  "yaxis": "y"
                }
              ],
              "layout": {
                "legend": {
                  "tracegroupgap": 0
                },
                "margin": {
                  "t": 60
                },
                "template": {
                  "data": {
                    "bar": [
                      {
                        "error_x": {
                          "color": "#2a3f5f"
                        },
                        "error_y": {
                          "color": "#2a3f5f"
                        },
                        "marker": {
                          "line": {
                            "color": "#E5ECF6",
                            "width": 0.5
                          },
                          "pattern": {
                            "fillmode": "overlay",
                            "size": 10,
                            "solidity": 0.2
                          }
                        },
                        "type": "bar"
                      }
                    ],
                    "barpolar": [
                      {
                        "marker": {
                          "line": {
                            "color": "#E5ECF6",
                            "width": 0.5
                          },
                          "pattern": {
                            "fillmode": "overlay",
                            "size": 10,
                            "solidity": 0.2
                          }
                        },
                        "type": "barpolar"
                      }
                    ],
                    "carpet": [
                      {
                        "aaxis": {
                          "endlinecolor": "#2a3f5f",
                          "gridcolor": "white",
                          "linecolor": "white",
                          "minorgridcolor": "white",
                          "startlinecolor": "#2a3f5f"
                        },
                        "baxis": {
                          "endlinecolor": "#2a3f5f",
                          "gridcolor": "white",
                          "linecolor": "white",
                          "minorgridcolor": "white",
                          "startlinecolor": "#2a3f5f"
                        },
                        "type": "carpet"
                      }
                    ],
                    "choropleth": [
                      {
                        "colorbar": {
                          "outlinewidth": 0,
                          "ticks": ""
                        },
                        "type": "choropleth"
                      }
                    ],
                    "contour": [
                      {
                        "colorbar": {
                          "outlinewidth": 0,
                          "ticks": ""
                        },
                        "colorscale": [
                          [
                            0,
                            "#0d0887"
                          ],
                          [
                            0.1111111111111111,
                            "#46039f"
                          ],
                          [
                            0.2222222222222222,
                            "#7201a8"
                          ],
                          [
                            0.3333333333333333,
                            "#9c179e"
                          ],
                          [
                            0.4444444444444444,
                            "#bd3786"
                          ],
                          [
                            0.5555555555555556,
                            "#d8576b"
                          ],
                          [
                            0.6666666666666666,
                            "#ed7953"
                          ],
                          [
                            0.7777777777777778,
                            "#fb9f3a"
                          ],
                          [
                            0.8888888888888888,
                            "#fdca26"
                          ],
                          [
                            1,
                            "#f0f921"
                          ]
                        ],
                        "type": "contour"
                      }
                    ],
                    "contourcarpet": [
                      {
                        "colorbar": {
                          "outlinewidth": 0,
                          "ticks": ""
                        },
                        "type": "contourcarpet"
                      }
                    ],
                    "heatmap": [
                      {
                        "colorbar": {
                          "outlinewidth": 0,
                          "ticks": ""
                        },
                        "colorscale": [
                          [
                            0,
                            "#0d0887"
                          ],
                          [
                            0.1111111111111111,
                            "#46039f"
                          ],
                          [
                            0.2222222222222222,
                            "#7201a8"
                          ],
                          [
                            0.3333333333333333,
                            "#9c179e"
                          ],
                          [
                            0.4444444444444444,
                            "#bd3786"
                          ],
                          [
                            0.5555555555555556,
                            "#d8576b"
                          ],
                          [
                            0.6666666666666666,
                            "#ed7953"
                          ],
                          [
                            0.7777777777777778,
                            "#fb9f3a"
                          ],
                          [
                            0.8888888888888888,
                            "#fdca26"
                          ],
                          [
                            1,
                            "#f0f921"
                          ]
                        ],
                        "type": "heatmap"
                      }
                    ],
                    "heatmapgl": [
                      {
                        "colorbar": {
                          "outlinewidth": 0,
                          "ticks": ""
                        },
                        "colorscale": [
                          [
                            0,
                            "#0d0887"
                          ],
                          [
                            0.1111111111111111,
                            "#46039f"
                          ],
                          [
                            0.2222222222222222,
                            "#7201a8"
                          ],
                          [
                            0.3333333333333333,
                            "#9c179e"
                          ],
                          [
                            0.4444444444444444,
                            "#bd3786"
                          ],
                          [
                            0.5555555555555556,
                            "#d8576b"
                          ],
                          [
                            0.6666666666666666,
                            "#ed7953"
                          ],
                          [
                            0.7777777777777778,
                            "#fb9f3a"
                          ],
                          [
                            0.8888888888888888,
                            "#fdca26"
                          ],
                          [
                            1,
                            "#f0f921"
                          ]
                        ],
                        "type": "heatmapgl"
                      }
                    ],
                    "histogram": [
                      {
                        "marker": {
                          "pattern": {
                            "fillmode": "overlay",
                            "size": 10,
                            "solidity": 0.2
                          }
                        },
                        "type": "histogram"
                      }
                    ],
                    "histogram2d": [
                      {
                        "colorbar": {
                          "outlinewidth": 0,
                          "ticks": ""
                        },
                        "colorscale": [
                          [
                            0,
                            "#0d0887"
                          ],
                          [
                            0.1111111111111111,
                            "#46039f"
                          ],
                          [
                            0.2222222222222222,
                            "#7201a8"
                          ],
                          [
                            0.3333333333333333,
                            "#9c179e"
                          ],
                          [
                            0.4444444444444444,
                            "#bd3786"
                          ],
                          [
                            0.5555555555555556,
                            "#d8576b"
                          ],
                          [
                            0.6666666666666666,
                            "#ed7953"
                          ],
                          [
                            0.7777777777777778,
                            "#fb9f3a"
                          ],
                          [
                            0.8888888888888888,
                            "#fdca26"
                          ],
                          [
                            1,
                            "#f0f921"
                          ]
                        ],
                        "type": "histogram2d"
                      }
                    ],
                    "histogram2dcontour": [
                      {
                        "colorbar": {
                          "outlinewidth": 0,
                          "ticks": ""
                        },
                        "colorscale": [
                          [
                            0,
                            "#0d0887"
                          ],
                          [
                            0.1111111111111111,
                            "#46039f"
                          ],
                          [
                            0.2222222222222222,
                            "#7201a8"
                          ],
                          [
                            0.3333333333333333,
                            "#9c179e"
                          ],
                          [
                            0.4444444444444444,
                            "#bd3786"
                          ],
                          [
                            0.5555555555555556,
                            "#d8576b"
                          ],
                          [
                            0.6666666666666666,
                            "#ed7953"
                          ],
                          [
                            0.7777777777777778,
                            "#fb9f3a"
                          ],
                          [
                            0.8888888888888888,
                            "#fdca26"
                          ],
                          [
                            1,
                            "#f0f921"
                          ]
                        ],
                        "type": "histogram2dcontour"
                      }
                    ],
                    "mesh3d": [
                      {
                        "colorbar": {
                          "outlinewidth": 0,
                          "ticks": ""
                        },
                        "type": "mesh3d"
                      }
                    ],
                    "parcoords": [
                      {
                        "line": {
                          "colorbar": {
                            "outlinewidth": 0,
                            "ticks": ""
                          }
                        },
                        "type": "parcoords"
                      }
                    ],
                    "pie": [
                      {
                        "automargin": true,
                        "type": "pie"
                      }
                    ],
                    "scatter": [
                      {
                        "fillpattern": {
                          "fillmode": "overlay",
                          "size": 10,
                          "solidity": 0.2
                        },
                        "type": "scatter"
                      }
                    ],
                    "scatter3d": [
                      {
                        "line": {
                          "colorbar": {
                            "outlinewidth": 0,
                            "ticks": ""
                          }
                        },
                        "marker": {
                          "colorbar": {
                            "outlinewidth": 0,
                            "ticks": ""
                          }
                        },
                        "type": "scatter3d"
                      }
                    ],
                    "scattercarpet": [
                      {
                        "marker": {
                          "colorbar": {
                            "outlinewidth": 0,
                            "ticks": ""
                          }
                        },
                        "type": "scattercarpet"
                      }
                    ],
                    "scattergeo": [
                      {
                        "marker": {
                          "colorbar": {
                            "outlinewidth": 0,
                            "ticks": ""
                          }
                        },
                        "type": "scattergeo"
                      }
                    ],
                    "scattergl": [
                      {
                        "marker": {
                          "colorbar": {
                            "outlinewidth": 0,
                            "ticks": ""
                          }
                        },
                        "type": "scattergl"
                      }
                    ],
                    "scattermapbox": [
                      {
                        "marker": {
                          "colorbar": {
                            "outlinewidth": 0,
                            "ticks": ""
                          }
                        },
                        "type": "scattermapbox"
                      }
                    ],
                    "scatterpolar": [
                      {
                        "marker": {
                          "colorbar": {
                            "outlinewidth": 0,
                            "ticks": ""
                          }
                        },
                        "type": "scatterpolar"
                      }
                    ],
                    "scatterpolargl": [
                      {
                        "marker": {
                          "colorbar": {
                            "outlinewidth": 0,
                            "ticks": ""
                          }
                        },
                        "type": "scatterpolargl"
                      }
                    ],
                    "scatterternary": [
                      {
                        "marker": {
                          "colorbar": {
                            "outlinewidth": 0,
                            "ticks": ""
                          }
                        },
                        "type": "scatterternary"
                      }
                    ],
                    "surface": [
                      {
                        "colorbar": {
                          "outlinewidth": 0,
                          "ticks": ""
                        },
                        "colorscale": [
                          [
                            0,
                            "#0d0887"
                          ],
                          [
                            0.1111111111111111,
                            "#46039f"
                          ],
                          [
                            0.2222222222222222,
                            "#7201a8"
                          ],
                          [
                            0.3333333333333333,
                            "#9c179e"
                          ],
                          [
                            0.4444444444444444,
                            "#bd3786"
                          ],
                          [
                            0.5555555555555556,
                            "#d8576b"
                          ],
                          [
                            0.6666666666666666,
                            "#ed7953"
                          ],
                          [
                            0.7777777777777778,
                            "#fb9f3a"
                          ],
                          [
                            0.8888888888888888,
                            "#fdca26"
                          ],
                          [
                            1,
                            "#f0f921"
                          ]
                        ],
                        "type": "surface"
                      }
                    ],
                    "table": [
                      {
                        "cells": {
                          "fill": {
                            "color": "#EBF0F8"
                          },
                          "line": {
                            "color": "white"
                          }
                        },
                        "header": {
                          "fill": {
                            "color": "#C8D4E3"
                          },
                          "line": {
                            "color": "white"
                          }
                        },
                        "type": "table"
                      }
                    ]
                  },
                  "layout": {
                    "annotationdefaults": {
                      "arrowcolor": "#2a3f5f",
                      "arrowhead": 0,
                      "arrowwidth": 1
                    },
                    "autotypenumbers": "strict",
                    "coloraxis": {
                      "colorbar": {
                        "outlinewidth": 0,
                        "ticks": ""
                      }
                    },
                    "colorscale": {
                      "diverging": [
                        [
                          0,
                          "#8e0152"
                        ],
                        [
                          0.1,
                          "#c51b7d"
                        ],
                        [
                          0.2,
                          "#de77ae"
                        ],
                        [
                          0.3,
                          "#f1b6da"
                        ],
                        [
                          0.4,
                          "#fde0ef"
                        ],
                        [
                          0.5,
                          "#f7f7f7"
                        ],
                        [
                          0.6,
                          "#e6f5d0"
                        ],
                        [
                          0.7,
                          "#b8e186"
                        ],
                        [
                          0.8,
                          "#7fbc41"
                        ],
                        [
                          0.9,
                          "#4d9221"
                        ],
                        [
                          1,
                          "#276419"
                        ]
                      ],
                      "sequential": [
                        [
                          0,
                          "#0d0887"
                        ],
                        [
                          0.1111111111111111,
                          "#46039f"
                        ],
                        [
                          0.2222222222222222,
                          "#7201a8"
                        ],
                        [
                          0.3333333333333333,
                          "#9c179e"
                        ],
                        [
                          0.4444444444444444,
                          "#bd3786"
                        ],
                        [
                          0.5555555555555556,
                          "#d8576b"
                        ],
                        [
                          0.6666666666666666,
                          "#ed7953"
                        ],
                        [
                          0.7777777777777778,
                          "#fb9f3a"
                        ],
                        [
                          0.8888888888888888,
                          "#fdca26"
                        ],
                        [
                          1,
                          "#f0f921"
                        ]
                      ],
                      "sequentialminus": [
                        [
                          0,
                          "#0d0887"
                        ],
                        [
                          0.1111111111111111,
                          "#46039f"
                        ],
                        [
                          0.2222222222222222,
                          "#7201a8"
                        ],
                        [
                          0.3333333333333333,
                          "#9c179e"
                        ],
                        [
                          0.4444444444444444,
                          "#bd3786"
                        ],
                        [
                          0.5555555555555556,
                          "#d8576b"
                        ],
                        [
                          0.6666666666666666,
                          "#ed7953"
                        ],
                        [
                          0.7777777777777778,
                          "#fb9f3a"
                        ],
                        [
                          0.8888888888888888,
                          "#fdca26"
                        ],
                        [
                          1,
                          "#f0f921"
                        ]
                      ]
                    },
                    "colorway": [
                      "#636efa",
                      "#EF553B",
                      "#00cc96",
                      "#ab63fa",
                      "#FFA15A",
                      "#19d3f3",
                      "#FF6692",
                      "#B6E880",
                      "#FF97FF",
                      "#FECB52"
                    ],
                    "font": {
                      "color": "#2a3f5f"
                    },
                    "geo": {
                      "bgcolor": "white",
                      "lakecolor": "white",
                      "landcolor": "#E5ECF6",
                      "showlakes": true,
                      "showland": true,
                      "subunitcolor": "white"
                    },
                    "hoverlabel": {
                      "align": "left"
                    },
                    "hovermode": "closest",
                    "mapbox": {
                      "style": "light"
                    },
                    "paper_bgcolor": "white",
                    "plot_bgcolor": "#E5ECF6",
                    "polar": {
                      "angularaxis": {
                        "gridcolor": "white",
                        "linecolor": "white",
                        "ticks": ""
                      },
                      "bgcolor": "#E5ECF6",
                      "radialaxis": {
                        "gridcolor": "white",
                        "linecolor": "white",
                        "ticks": ""
                      }
                    },
                    "scene": {
                      "xaxis": {
                        "backgroundcolor": "#E5ECF6",
                        "gridcolor": "white",
                        "gridwidth": 2,
                        "linecolor": "white",
                        "showbackground": true,
                        "ticks": "",
                        "zerolinecolor": "white"
                      },
                      "yaxis": {
                        "backgroundcolor": "#E5ECF6",
                        "gridcolor": "white",
                        "gridwidth": 2,
                        "linecolor": "white",
                        "showbackground": true,
                        "ticks": "",
                        "zerolinecolor": "white"
                      },
                      "zaxis": {
                        "backgroundcolor": "#E5ECF6",
                        "gridcolor": "white",
                        "gridwidth": 2,
                        "linecolor": "white",
                        "showbackground": true,
                        "ticks": "",
                        "zerolinecolor": "white"
                      }
                    },
                    "shapedefaults": {
                      "line": {
                        "color": "#2a3f5f"
                      }
                    },
                    "ternary": {
                      "aaxis": {
                        "gridcolor": "white",
                        "linecolor": "white",
                        "ticks": ""
                      },
                      "baxis": {
                        "gridcolor": "white",
                        "linecolor": "white",
                        "ticks": ""
                      },
                      "bgcolor": "#E5ECF6",
                      "caxis": {
                        "gridcolor": "white",
                        "linecolor": "white",
                        "ticks": ""
                      }
                    },
                    "title": {
                      "x": 0.05
                    },
                    "xaxis": {
                      "automargin": true,
                      "gridcolor": "white",
                      "linecolor": "white",
                      "ticks": "",
                      "title": {
                        "standoff": 15
                      },
                      "zerolinecolor": "white",
                      "zerolinewidth": 2
                    },
                    "yaxis": {
                      "automargin": true,
                      "gridcolor": "white",
                      "linecolor": "white",
                      "ticks": "",
                      "title": {
                        "standoff": 15
                      },
                      "zerolinecolor": "white",
                      "zerolinewidth": 2
                    }
                  }
                },
                "xaxis": {
                  "anchor": "y",
                  "domain": [
                    0,
                    1
                  ],
                  "title": {
                    "text": "x"
                  }
                },
                "yaxis": {
                  "anchor": "x",
                  "domain": [
                    0,
                    1
                  ],
                  "title": {
                    "text": "y"
                  }
                }
              }
            }
          },
          "metadata": {},
          "output_type": "display_data"
        }
      ],
      "source": [
        "# Create a scatter plot of residuals against the true values for the test data\n",
        "px.scatter(x=y_test, y=residuals_test)  "
      ]
    },
    {
      "cell_type": "markdown",
      "id": "66a77b98",
      "metadata": {
        "id": "66a77b98"
      },
      "source": [
        "- Our model exhibits significant heteroscedasticity (i.e. the variance of the residuals is not homogeneous with respect to the target). Since this is a baseline model, we will not spend additional time attempting to improve this."
      ]
    },
    {
      "cell_type": "markdown",
      "id": "6d1ecb6f",
      "metadata": {
        "id": "6d1ecb6f"
      },
      "source": [
        "---"
      ]
    },
    {
      "cell_type": "markdown",
      "id": "8a9761b7",
      "metadata": {
        "id": "8a9761b7"
      },
      "source": [
        "## **Improve on the baseline linear model**"
      ]
    },
    {
      "cell_type": "markdown",
      "id": "decb1fa3",
      "metadata": {
        "id": "decb1fa3"
      },
      "source": [
        "### **Data preprocessing**"
      ]
    },
    {
      "cell_type": "markdown",
      "id": "10c4d83c",
      "metadata": {
        "id": "10c4d83c"
      },
      "source": [
        "- Let's create a new training and test set (since the training and test sets we created for the baseline linear model have been transformed). \n",
        "\n",
        "- **Note:** we use the same value for the `random_seed` parameter to ensure the observations in these training and test sets are the same as those in the training and test sets used for the baseline linear model:"
      ]
    },
    {
      "cell_type": "markdown",
      "id": "2935bfbc",
      "metadata": {
        "id": "2935bfbc"
      },
      "source": [
        "#### **Train/test split**"
      ]
    },
    {
      "cell_type": "code",
      "execution_count": null,
      "id": "692b743c",
      "metadata": {
        "id": "692b743c"
      },
      "outputs": [],
      "source": [
        "from sklearn.model_selection import train_test_split\n",
        "\n",
        "# Split data into training and testing sets\n",
        "X_train, X_test, y_train, y_test = train_test_split(X, y, test_size=0.33, random_state=42)\n"
      ]
    },
    {
      "cell_type": "markdown",
      "id": "9b59b510",
      "metadata": {
        "id": "9b59b510"
      },
      "source": [
        "#### **Encoding**"
      ]
    },
    {
      "cell_type": "markdown",
      "id": "1bc7acdc",
      "metadata": {
        "id": "1bc7acdc"
      },
      "source": [
        "- We still need to encode the categorical features, so let's apply One Hot Encoding again:"
      ]
    },
    {
      "cell_type": "code",
      "execution_count": null,
      "id": "21f051a4",
      "metadata": {
        "id": "21f051a4"
      },
      "outputs": [],
      "source": [
        "# Create a OneHotEncoder with category names\n",
        "ohe = OneHotEncoder(use_cat_names=True)\n",
        "\n",
        "# Apply OneHotEncoder to the training data\n",
        "X_train = ohe.fit_transform(X_train)\n",
        "\n",
        "# Apply the same encoder to the testing data\n",
        "X_test = ohe.transform(X_test)\n"
      ]
    },
    {
      "cell_type": "markdown",
      "id": "8b237983",
      "metadata": {
        "id": "8b237983"
      },
      "source": [
        "### **Using Sklearn's `Pipeline` to optimise the model training process**"
      ]
    },
    {
      "cell_type": "markdown",
      "id": "1d0868ff",
      "metadata": {
        "id": "1d0868ff"
      },
      "source": [
        "- The XGBoost algorithm has a number of parameters that can affect the predictive performance of the model. Rather than trying to optimise these parameters manually, we can leverage Sklearn's `Pipeline` class, along with Skopt's `BayesSearchCV` class, to optimise them automatically. \n",
        "\n",
        "- We'll also use Recursive Feature Elimination (RFE) in this process to optimise the features that are used by the final XGBoost model. RFE works by fitting a model to all of the features, then calculating the feature importance. The least important feature is removed, then another model is trained using this dataset. This process is repeated until the desired number of features to select is reached.\n",
        "\n",
        "- Firstly, let's create our RFE and XGBoost regressor instances. We'll also use an XGBoost regressor as the model in our RFE."
      ]
    },
    {
      "cell_type": "code",
      "execution_count": null,
      "id": "f20a182b",
      "metadata": {
        "id": "f20a182b"
      },
      "outputs": [],
      "source": [
        "# Create a Recursive Feature Elimination (RFE) object with XGBRegressor as the estimator\n",
        "rfe = RFE(estimator=XGBRegressor())\n",
        "\n",
        "# Create an XGBoost Regressor\n",
        "xgb = XGBRegressor()\n"
      ]
    },
    {
      "cell_type": "markdown",
      "id": "5d47012c",
      "metadata": {
        "id": "5d47012c"
      },
      "source": [
        "- Now we create our pipeline by specifying the list of sequential processes we want to run. The output of each step is passed to the next, with the final step being an estimator (i.e. model). In this case, we want to:\n",
        "    1. Apply feature selection (via RFE)\n",
        "    2. Train the XGBoost regressor\n",
        "\n",
        " \n",
        "- We do this by creating a list of tuples, where the first element of each tuple is a label for the step, and the second element is the class to run:"
      ]
    },
    {
      "cell_type": "code",
      "execution_count": null,
      "id": "ac772587",
      "metadata": {
        "id": "ac772587"
      },
      "outputs": [],
      "source": [
        "# Define a list of steps for a processing pipeline\n",
        "steps = [\n",
        "    ('rfe', rfe),  # Step 1: RFE (Recursive Feature Elimination)\n",
        "    ('xgb', xgb)  # Step 2: XGBoost Regressor\n",
        "]\n"
      ]
    },
    {
      "cell_type": "markdown",
      "id": "61d0fa9c",
      "metadata": {
        "id": "61d0fa9c"
      },
      "source": [
        "- Then we pass this to the `Pipeline` class:"
      ]
    },
    {
      "cell_type": "code",
      "execution_count": null,
      "id": "cf8771c7",
      "metadata": {
        "id": "cf8771c7"
      },
      "outputs": [],
      "source": [
        "# Create a pipeline with the defined steps\n",
        "pipe = Pipeline(steps)\n"
      ]
    },
    {
      "cell_type": "markdown",
      "id": "c17a89ca",
      "metadata": {
        "id": "c17a89ca"
      },
      "source": [
        "- When the `fit` method of the pipeline is called, it will pass the features and target to the RFE `fit_transform` method. The output of this will be passed to the `fit` method of the XGBoost regressor."
      ]
    },
    {
      "cell_type": "markdown",
      "id": "21fb79c0",
      "metadata": {
        "id": "21fb79c0"
      },
      "source": [
        "- Now that we have our pipeline defined, we can set up our `BayesSearchCV` class to optimise the parameters of the pipeline. Firstly, we need to define the parameters we want to optimise and the space over which the `BayesSearchCV` should search. Note that since we're using a pipeline, we need to define the parameters related to each step by adding a prefix, which is the step's label and two underscores (e.g. `xgb__` for the XGBoost step):"
      ]
    },
    {
      "cell_type": "code",
      "execution_count": null,
      "id": "c1bc1e07",
      "metadata": {
        "id": "c1bc1e07"
      },
      "outputs": [],
      "source": [
        "# Calculate the number of features in X_train\n",
        "num_features = X_train.shape[1]\n",
        "\n",
        "# Define search space for hyperparameters\n",
        "search_spaces = {\n",
        "    'rfe__n_features_to_select': Integer(1, num_features),  # Number of features selected by RFE\n",
        "    'xgb__n_estimators': Integer(1, 500),  # Number of trees in XGBoost\n",
        "    'xgb__max_depth': Integer(2, 8),  # Maximum depth of trees in XGBoost\n",
        "    'xgb__reg_lambda': Integer(1, 200),  # Regularization term (lambda) in XGBoost\n",
        "    'xgb__learning_rate': Real(0, 1),  # Learning rate in XGBoost\n",
        "    'xgb__gamma': Real(0, 2000)  # Gamma parameter in XGBoost\n",
        "}\n"
      ]
    },
    {
      "cell_type": "markdown",
      "id": "046f7eeb",
      "metadata": {
        "id": "046f7eeb"
      },
      "source": [
        "- Once our search space for each parameter is defined, we pass this, along with our pipeline, to the `BayesSearchCV` class. This works by:\n",
        "    1. Creating a cross validation dataset of $n$ folds, where each fold has the same number of observations. For example, for 3 folds, the original dataset is randomly split into 3 subsets.\n",
        "\n",
        "    2. The following steps are then applied across all folds:\n",
        "        1. Create a sub-training set comprising of $n$-1 folds and a sub-validation set comprising of the remaining fold. \n",
        "        2. Train the pipeline using a given set of parameters on the sub-training set.\n",
        "        3. Use this trained pipeline to make predictions on the sub-validation set and calculate the scoring metric (i.e. the RMSE in this case).\n",
        "\n",
        "    3. Calculate the mean of the scoring metric across all sub-validation sets.\n",
        "\n",
        "    4. The algorithm then uses a bayesian approach to select the next set of parameters which will maximise the mean scoring metric across all sub-validation sets.\n",
        "    \n",
        "    5. Steps 2-4 are repeated until a threshold is reached (see the `n_iter` parameter in the `BayesSearchCV` class)."
      ]
    },
    {
      "cell_type": "markdown",
      "id": "H3jjuLj2ykNq",
      "metadata": {
        "id": "H3jjuLj2ykNq"
      },
      "source": [
        "**BayesSearchCV**\n",
        "\n",
        "- This method use stepwise Bayesian Optimization to investigate the most promising problem-space hyperparameters.\n",
        "In large problem spaces, Bayesian Optimization determines the minimum to an objective function. Under the hood, it employs Gaussian Process regression on the objective function to do this. In our example, the objective function is to find the optimal model output given the model parameters we specify.\n",
        "The Bayesian Optimization approach has the advantage of providing a significantly greater range of possible values because it automatically explores the most promising regions and discards the less promising ones over time.\n",
        "\n",
        "- A simple grid-search would take a lot of time to exhaust all possible values.\n",
        "Because we move much more efficiently, we can create a much larger playing field.\n",
        "\n",
        "- Bayesian Optimization keeps track of previous evaluation results, which they use to build a probabilistic model mapping hyperparameters to the probability of a score on the objective function. It is basically finding out the most promising hyperparameters by building a probability model of the objective function.\n",
        "\n",
        "- P = (score | hyperparameters)\n",
        "\n",
        "- This probability function works as a \"surrogate\" for objective functions. Hyperparameters are tested on this and those who stand out are then tested on the trtue objective function which would a function that minimizes error. The results then updates the surrogate function again and in this way, bayesian optimization selects parameters in an informed manner."
      ]
    },
    {
      "cell_type": "code",
      "execution_count": null,
      "id": "8379c16c",
      "metadata": {
        "id": "8379c16c"
      },
      "outputs": [],
      "source": [
        "# Create a BayesSearchCV object for hyperparameter optimization\n",
        "xgb_bs_cv = BayesSearchCV(\n",
        "    estimator=pipe,  # Pipeline with RFE and XGBoost\n",
        "    search_spaces=search_spaces,  # Search spaces for hyperparameters\n",
        "    scoring='neg_root_mean_squared_error',  # Scoring metric (negative RMSE)\n",
        "    n_iter=75,  # Number of optimization iterations\n",
        "    cv=3,  # Number of cross-validation folds\n",
        "    n_jobs=-1,  # Utilize all available CPU cores\n",
        "    verbose=1,  # Display optimization progress\n",
        "    random_state=0  # Ensure reproducibility\n",
        ")\n"
      ]
    },
    {
      "cell_type": "markdown",
      "id": "7270e829",
      "metadata": {
        "id": "7270e829"
      },
      "source": [
        "- Now we can initiate the parameter optimisation process using our training set:"
      ]
    },
    {
      "cell_type": "code",
      "execution_count": null,
      "id": "4a705407",
      "metadata": {
        "id": "4a705407",
        "outputId": "e2b8d2f2-31c0-41d4-d226-b5f41fc91648"
      },
      "outputs": [
        {
          "name": "stdout",
          "output_type": "stream",
          "text": [
            "Fitting 3 folds for each of 1 candidates, totalling 3 fits\n",
            "Fitting 3 folds for each of 1 candidates, totalling 3 fits\n",
            "Fitting 3 folds for each of 1 candidates, totalling 3 fits\n",
            "Fitting 3 folds for each of 1 candidates, totalling 3 fits\n",
            "Fitting 3 folds for each of 1 candidates, totalling 3 fits\n",
            "Fitting 3 folds for each of 1 candidates, totalling 3 fits\n",
            "Fitting 3 folds for each of 1 candidates, totalling 3 fits\n",
            "Fitting 3 folds for each of 1 candidates, totalling 3 fits\n",
            "Fitting 3 folds for each of 1 candidates, totalling 3 fits\n",
            "Fitting 3 folds for each of 1 candidates, totalling 3 fits\n",
            "Fitting 3 folds for each of 1 candidates, totalling 3 fits\n",
            "Fitting 3 folds for each of 1 candidates, totalling 3 fits\n",
            "Fitting 3 folds for each of 1 candidates, totalling 3 fits\n",
            "Fitting 3 folds for each of 1 candidates, totalling 3 fits\n",
            "Fitting 3 folds for each of 1 candidates, totalling 3 fits\n",
            "Fitting 3 folds for each of 1 candidates, totalling 3 fits\n",
            "Fitting 3 folds for each of 1 candidates, totalling 3 fits\n",
            "Fitting 3 folds for each of 1 candidates, totalling 3 fits\n",
            "Fitting 3 folds for each of 1 candidates, totalling 3 fits\n",
            "Fitting 3 folds for each of 1 candidates, totalling 3 fits\n",
            "Fitting 3 folds for each of 1 candidates, totalling 3 fits\n",
            "Fitting 3 folds for each of 1 candidates, totalling 3 fits\n",
            "Fitting 3 folds for each of 1 candidates, totalling 3 fits\n",
            "Fitting 3 folds for each of 1 candidates, totalling 3 fits\n",
            "Fitting 3 folds for each of 1 candidates, totalling 3 fits\n",
            "Fitting 3 folds for each of 1 candidates, totalling 3 fits\n",
            "Fitting 3 folds for each of 1 candidates, totalling 3 fits\n",
            "Fitting 3 folds for each of 1 candidates, totalling 3 fits\n",
            "Fitting 3 folds for each of 1 candidates, totalling 3 fits\n",
            "Fitting 3 folds for each of 1 candidates, totalling 3 fits\n",
            "Fitting 3 folds for each of 1 candidates, totalling 3 fits\n",
            "Fitting 3 folds for each of 1 candidates, totalling 3 fits\n",
            "Fitting 3 folds for each of 1 candidates, totalling 3 fits\n",
            "Fitting 3 folds for each of 1 candidates, totalling 3 fits\n",
            "Fitting 3 folds for each of 1 candidates, totalling 3 fits\n",
            "Fitting 3 folds for each of 1 candidates, totalling 3 fits\n",
            "Fitting 3 folds for each of 1 candidates, totalling 3 fits\n",
            "Fitting 3 folds for each of 1 candidates, totalling 3 fits\n",
            "Fitting 3 folds for each of 1 candidates, totalling 3 fits\n",
            "Fitting 3 folds for each of 1 candidates, totalling 3 fits\n",
            "Fitting 3 folds for each of 1 candidates, totalling 3 fits\n",
            "Fitting 3 folds for each of 1 candidates, totalling 3 fits\n",
            "Fitting 3 folds for each of 1 candidates, totalling 3 fits\n",
            "Fitting 3 folds for each of 1 candidates, totalling 3 fits\n",
            "Fitting 3 folds for each of 1 candidates, totalling 3 fits\n",
            "Fitting 3 folds for each of 1 candidates, totalling 3 fits\n",
            "Fitting 3 folds for each of 1 candidates, totalling 3 fits\n",
            "Fitting 3 folds for each of 1 candidates, totalling 3 fits\n",
            "Fitting 3 folds for each of 1 candidates, totalling 3 fits\n",
            "Fitting 3 folds for each of 1 candidates, totalling 3 fits\n",
            "Fitting 3 folds for each of 1 candidates, totalling 3 fits\n",
            "Fitting 3 folds for each of 1 candidates, totalling 3 fits\n",
            "Fitting 3 folds for each of 1 candidates, totalling 3 fits\n",
            "Fitting 3 folds for each of 1 candidates, totalling 3 fits\n",
            "Fitting 3 folds for each of 1 candidates, totalling 3 fits\n",
            "Fitting 3 folds for each of 1 candidates, totalling 3 fits\n",
            "Fitting 3 folds for each of 1 candidates, totalling 3 fits\n",
            "Fitting 3 folds for each of 1 candidates, totalling 3 fits\n",
            "Fitting 3 folds for each of 1 candidates, totalling 3 fits\n",
            "Fitting 3 folds for each of 1 candidates, totalling 3 fits\n",
            "Fitting 3 folds for each of 1 candidates, totalling 3 fits\n",
            "Fitting 3 folds for each of 1 candidates, totalling 3 fits\n",
            "Fitting 3 folds for each of 1 candidates, totalling 3 fits\n",
            "Fitting 3 folds for each of 1 candidates, totalling 3 fits\n",
            "Fitting 3 folds for each of 1 candidates, totalling 3 fits\n",
            "Fitting 3 folds for each of 1 candidates, totalling 3 fits\n",
            "Fitting 3 folds for each of 1 candidates, totalling 3 fits\n",
            "Fitting 3 folds for each of 1 candidates, totalling 3 fits\n",
            "Fitting 3 folds for each of 1 candidates, totalling 3 fits\n",
            "Fitting 3 folds for each of 1 candidates, totalling 3 fits\n",
            "Fitting 3 folds for each of 1 candidates, totalling 3 fits\n",
            "Fitting 3 folds for each of 1 candidates, totalling 3 fits\n",
            "Fitting 3 folds for each of 1 candidates, totalling 3 fits\n",
            "Fitting 3 folds for each of 1 candidates, totalling 3 fits\n",
            "Fitting 3 folds for each of 1 candidates, totalling 3 fits\n"
          ]
        },
        {
          "data": {
            "text/html": [
              "<style>#sk-container-id-2 {color: black;background-color: white;}#sk-container-id-2 pre{padding: 0;}#sk-container-id-2 div.sk-toggleable {background-color: white;}#sk-container-id-2 label.sk-toggleable__label {cursor: pointer;display: block;width: 100%;margin-bottom: 0;padding: 0.3em;box-sizing: border-box;text-align: center;}#sk-container-id-2 label.sk-toggleable__label-arrow:before {content: \"▸\";float: left;margin-right: 0.25em;color: #696969;}#sk-container-id-2 label.sk-toggleable__label-arrow:hover:before {color: black;}#sk-container-id-2 div.sk-estimator:hover label.sk-toggleable__label-arrow:before {color: black;}#sk-container-id-2 div.sk-toggleable__content {max-height: 0;max-width: 0;overflow: hidden;text-align: left;background-color: #f0f8ff;}#sk-container-id-2 div.sk-toggleable__content pre {margin: 0.2em;color: black;border-radius: 0.25em;background-color: #f0f8ff;}#sk-container-id-2 input.sk-toggleable__control:checked~div.sk-toggleable__content {max-height: 200px;max-width: 100%;overflow: auto;}#sk-container-id-2 input.sk-toggleable__control:checked~label.sk-toggleable__label-arrow:before {content: \"▾\";}#sk-container-id-2 div.sk-estimator input.sk-toggleable__control:checked~label.sk-toggleable__label {background-color: #d4ebff;}#sk-container-id-2 div.sk-label input.sk-toggleable__control:checked~label.sk-toggleable__label {background-color: #d4ebff;}#sk-container-id-2 input.sk-hidden--visually {border: 0;clip: rect(1px 1px 1px 1px);clip: rect(1px, 1px, 1px, 1px);height: 1px;margin: -1px;overflow: hidden;padding: 0;position: absolute;width: 1px;}#sk-container-id-2 div.sk-estimator {font-family: monospace;background-color: #f0f8ff;border: 1px dotted black;border-radius: 0.25em;box-sizing: border-box;margin-bottom: 0.5em;}#sk-container-id-2 div.sk-estimator:hover {background-color: #d4ebff;}#sk-container-id-2 div.sk-parallel-item::after {content: \"\";width: 100%;border-bottom: 1px solid gray;flex-grow: 1;}#sk-container-id-2 div.sk-label:hover label.sk-toggleable__label {background-color: #d4ebff;}#sk-container-id-2 div.sk-serial::before {content: \"\";position: absolute;border-left: 1px solid gray;box-sizing: border-box;top: 0;bottom: 0;left: 50%;z-index: 0;}#sk-container-id-2 div.sk-serial {display: flex;flex-direction: column;align-items: center;background-color: white;padding-right: 0.2em;padding-left: 0.2em;position: relative;}#sk-container-id-2 div.sk-item {position: relative;z-index: 1;}#sk-container-id-2 div.sk-parallel {display: flex;align-items: stretch;justify-content: center;background-color: white;position: relative;}#sk-container-id-2 div.sk-item::before, #sk-container-id-2 div.sk-parallel-item::before {content: \"\";position: absolute;border-left: 1px solid gray;box-sizing: border-box;top: 0;bottom: 0;left: 50%;z-index: -1;}#sk-container-id-2 div.sk-parallel-item {display: flex;flex-direction: column;z-index: 1;position: relative;background-color: white;}#sk-container-id-2 div.sk-parallel-item:first-child::after {align-self: flex-end;width: 50%;}#sk-container-id-2 div.sk-parallel-item:last-child::after {align-self: flex-start;width: 50%;}#sk-container-id-2 div.sk-parallel-item:only-child::after {width: 0;}#sk-container-id-2 div.sk-dashed-wrapped {border: 1px dashed gray;margin: 0 0.4em 0.5em 0.4em;box-sizing: border-box;padding-bottom: 0.4em;background-color: white;}#sk-container-id-2 div.sk-label label {font-family: monospace;font-weight: bold;display: inline-block;line-height: 1.2em;}#sk-container-id-2 div.sk-label-container {text-align: center;}#sk-container-id-2 div.sk-container {/* jupyter's `normalize.less` sets `[hidden] { display: none; }` but bootstrap.min.css set `[hidden] { display: none !important; }` so we also need the `!important` here to be able to override the default hidden behavior on the sphinx rendered scikit-learn.org. See: https://github.com/scikit-learn/scikit-learn/issues/21755 */display: inline-block !important;position: relative;}#sk-container-id-2 div.sk-text-repr-fallback {display: none;}</style><div id=\"sk-container-id-2\" class=\"sk-top-container\"><div class=\"sk-text-repr-fallback\"><pre>BayesSearchCV(cv=3,\n",
              "              estimator=Pipeline(steps=[(&#x27;rfe&#x27;,\n",
              "                                         RFE(estimator=XGBRegressor(base_score=None,\n",
              "                                                                    booster=None,\n",
              "                                                                    callbacks=None,\n",
              "                                                                    colsample_bylevel=None,\n",
              "                                                                    colsample_bynode=None,\n",
              "                                                                    colsample_bytree=None,\n",
              "                                                                    early_stopping_rounds=None,\n",
              "                                                                    enable_categorical=False,\n",
              "                                                                    eval_metric=None,\n",
              "                                                                    feature_types=None,\n",
              "                                                                    gamma=None,\n",
              "                                                                    gpu_id=None,\n",
              "                                                                    grow_policy=None,\n",
              "                                                                    importance_type=None,\n",
              "                                                                    interaction...\n",
              "                             &#x27;xgb__gamma&#x27;: Real(low=0, high=2000, prior=&#x27;uniform&#x27;, transform=&#x27;normalize&#x27;),\n",
              "                             &#x27;xgb__learning_rate&#x27;: Real(low=0, high=1, prior=&#x27;uniform&#x27;, transform=&#x27;normalize&#x27;),\n",
              "                             &#x27;xgb__max_depth&#x27;: Integer(low=2, high=8, prior=&#x27;uniform&#x27;, transform=&#x27;normalize&#x27;),\n",
              "                             &#x27;xgb__n_estimators&#x27;: Integer(low=1, high=500, prior=&#x27;uniform&#x27;, transform=&#x27;normalize&#x27;),\n",
              "                             &#x27;xgb__reg_lambda&#x27;: Integer(low=1, high=200, prior=&#x27;uniform&#x27;, transform=&#x27;normalize&#x27;)},\n",
              "              verbose=1)</pre><b>In a Jupyter environment, please rerun this cell to show the HTML representation or trust the notebook. <br />On GitHub, the HTML representation is unable to render, please try loading this page with nbviewer.org.</b></div><div class=\"sk-container\" hidden><div class=\"sk-item sk-dashed-wrapped\"><div class=\"sk-label-container\"><div class=\"sk-label sk-toggleable\"><input class=\"sk-toggleable__control sk-hidden--visually\" id=\"sk-estimator-id-2\" type=\"checkbox\" ><label for=\"sk-estimator-id-2\" class=\"sk-toggleable__label sk-toggleable__label-arrow\">BayesSearchCV</label><div class=\"sk-toggleable__content\"><pre>BayesSearchCV(cv=3,\n",
              "              estimator=Pipeline(steps=[(&#x27;rfe&#x27;,\n",
              "                                         RFE(estimator=XGBRegressor(base_score=None,\n",
              "                                                                    booster=None,\n",
              "                                                                    callbacks=None,\n",
              "                                                                    colsample_bylevel=None,\n",
              "                                                                    colsample_bynode=None,\n",
              "                                                                    colsample_bytree=None,\n",
              "                                                                    early_stopping_rounds=None,\n",
              "                                                                    enable_categorical=False,\n",
              "                                                                    eval_metric=None,\n",
              "                                                                    feature_types=None,\n",
              "                                                                    gamma=None,\n",
              "                                                                    gpu_id=None,\n",
              "                                                                    grow_policy=None,\n",
              "                                                                    importance_type=None,\n",
              "                                                                    interaction...\n",
              "                             &#x27;xgb__gamma&#x27;: Real(low=0, high=2000, prior=&#x27;uniform&#x27;, transform=&#x27;normalize&#x27;),\n",
              "                             &#x27;xgb__learning_rate&#x27;: Real(low=0, high=1, prior=&#x27;uniform&#x27;, transform=&#x27;normalize&#x27;),\n",
              "                             &#x27;xgb__max_depth&#x27;: Integer(low=2, high=8, prior=&#x27;uniform&#x27;, transform=&#x27;normalize&#x27;),\n",
              "                             &#x27;xgb__n_estimators&#x27;: Integer(low=1, high=500, prior=&#x27;uniform&#x27;, transform=&#x27;normalize&#x27;),\n",
              "                             &#x27;xgb__reg_lambda&#x27;: Integer(low=1, high=200, prior=&#x27;uniform&#x27;, transform=&#x27;normalize&#x27;)},\n",
              "              verbose=1)</pre></div></div></div><div class=\"sk-parallel\"><div class=\"sk-parallel-item\"><div class=\"sk-item\"><div class=\"sk-label-container\"><div class=\"sk-label sk-toggleable\"><input class=\"sk-toggleable__control sk-hidden--visually\" id=\"sk-estimator-id-3\" type=\"checkbox\" ><label for=\"sk-estimator-id-3\" class=\"sk-toggleable__label sk-toggleable__label-arrow\">estimator: Pipeline</label><div class=\"sk-toggleable__content\"><pre>Pipeline(steps=[(&#x27;rfe&#x27;,\n",
              "                 RFE(estimator=XGBRegressor(base_score=None, booster=None,\n",
              "                                            callbacks=None,\n",
              "                                            colsample_bylevel=None,\n",
              "                                            colsample_bynode=None,\n",
              "                                            colsample_bytree=None,\n",
              "                                            early_stopping_rounds=None,\n",
              "                                            enable_categorical=False,\n",
              "                                            eval_metric=None,\n",
              "                                            feature_types=None, gamma=None,\n",
              "                                            gpu_id=None, grow_policy=None,\n",
              "                                            importance_type=None,\n",
              "                                            interaction_constraints=None,\n",
              "                                            learning_ra...\n",
              "                              feature_types=None, gamma=None, gpu_id=None,\n",
              "                              grow_policy=None, importance_type=None,\n",
              "                              interaction_constraints=None, learning_rate=None,\n",
              "                              max_bin=None, max_cat_threshold=None,\n",
              "                              max_cat_to_onehot=None, max_delta_step=None,\n",
              "                              max_depth=None, max_leaves=None,\n",
              "                              min_child_weight=None, missing=nan,\n",
              "                              monotone_constraints=None, n_estimators=100,\n",
              "                              n_jobs=None, num_parallel_tree=None,\n",
              "                              predictor=None, random_state=None, ...))])</pre></div></div></div><div class=\"sk-serial\"><div class=\"sk-item\"><div class=\"sk-serial\"><div class=\"sk-item sk-dashed-wrapped\"><div class=\"sk-label-container\"><div class=\"sk-label sk-toggleable\"><input class=\"sk-toggleable__control sk-hidden--visually\" id=\"sk-estimator-id-4\" type=\"checkbox\" ><label for=\"sk-estimator-id-4\" class=\"sk-toggleable__label sk-toggleable__label-arrow\">rfe: RFE</label><div class=\"sk-toggleable__content\"><pre>RFE(estimator=XGBRegressor(base_score=None, booster=None, callbacks=None,\n",
              "                           colsample_bylevel=None, colsample_bynode=None,\n",
              "                           colsample_bytree=None, early_stopping_rounds=None,\n",
              "                           enable_categorical=False, eval_metric=None,\n",
              "                           feature_types=None, gamma=None, gpu_id=None,\n",
              "                           grow_policy=None, importance_type=None,\n",
              "                           interaction_constraints=None, learning_rate=None,\n",
              "                           max_bin=None, max_cat_threshold=None,\n",
              "                           max_cat_to_onehot=None, max_delta_step=None,\n",
              "                           max_depth=None, max_leaves=None,\n",
              "                           min_child_weight=None, missing=nan,\n",
              "                           monotone_constraints=None, n_estimators=100,\n",
              "                           n_jobs=None, num_parallel_tree=None, predictor=None,\n",
              "                           random_state=None, ...))</pre></div></div></div><div class=\"sk-parallel\"><div class=\"sk-parallel-item\"><div class=\"sk-item\"><div class=\"sk-label-container\"><div class=\"sk-label sk-toggleable\"><input class=\"sk-toggleable__control sk-hidden--visually\" id=\"sk-estimator-id-5\" type=\"checkbox\" ><label for=\"sk-estimator-id-5\" class=\"sk-toggleable__label sk-toggleable__label-arrow\">estimator: XGBRegressor</label><div class=\"sk-toggleable__content\"><pre>XGBRegressor(base_score=None, booster=None, callbacks=None,\n",
              "             colsample_bylevel=None, colsample_bynode=None,\n",
              "             colsample_bytree=None, early_stopping_rounds=None,\n",
              "             enable_categorical=False, eval_metric=None, feature_types=None,\n",
              "             gamma=None, gpu_id=None, grow_policy=None, importance_type=None,\n",
              "             interaction_constraints=None, learning_rate=None, max_bin=None,\n",
              "             max_cat_threshold=None, max_cat_to_onehot=None,\n",
              "             max_delta_step=None, max_depth=None, max_leaves=None,\n",
              "             min_child_weight=None, missing=nan, monotone_constraints=None,\n",
              "             n_estimators=100, n_jobs=None, num_parallel_tree=None,\n",
              "             predictor=None, random_state=None, ...)</pre></div></div></div><div class=\"sk-serial\"><div class=\"sk-item\"><div class=\"sk-estimator sk-toggleable\"><input class=\"sk-toggleable__control sk-hidden--visually\" id=\"sk-estimator-id-6\" type=\"checkbox\" ><label for=\"sk-estimator-id-6\" class=\"sk-toggleable__label sk-toggleable__label-arrow\">XGBRegressor</label><div class=\"sk-toggleable__content\"><pre>XGBRegressor(base_score=None, booster=None, callbacks=None,\n",
              "             colsample_bylevel=None, colsample_bynode=None,\n",
              "             colsample_bytree=None, early_stopping_rounds=None,\n",
              "             enable_categorical=False, eval_metric=None, feature_types=None,\n",
              "             gamma=None, gpu_id=None, grow_policy=None, importance_type=None,\n",
              "             interaction_constraints=None, learning_rate=None, max_bin=None,\n",
              "             max_cat_threshold=None, max_cat_to_onehot=None,\n",
              "             max_delta_step=None, max_depth=None, max_leaves=None,\n",
              "             min_child_weight=None, missing=nan, monotone_constraints=None,\n",
              "             n_estimators=100, n_jobs=None, num_parallel_tree=None,\n",
              "             predictor=None, random_state=None, ...)</pre></div></div></div></div></div></div></div></div><div class=\"sk-item\"><div class=\"sk-estimator sk-toggleable\"><input class=\"sk-toggleable__control sk-hidden--visually\" id=\"sk-estimator-id-7\" type=\"checkbox\" ><label for=\"sk-estimator-id-7\" class=\"sk-toggleable__label sk-toggleable__label-arrow\">XGBRegressor</label><div class=\"sk-toggleable__content\"><pre>XGBRegressor(base_score=None, booster=None, callbacks=None,\n",
              "             colsample_bylevel=None, colsample_bynode=None,\n",
              "             colsample_bytree=None, early_stopping_rounds=None,\n",
              "             enable_categorical=False, eval_metric=None, feature_types=None,\n",
              "             gamma=None, gpu_id=None, grow_policy=None, importance_type=None,\n",
              "             interaction_constraints=None, learning_rate=None, max_bin=None,\n",
              "             max_cat_threshold=None, max_cat_to_onehot=None,\n",
              "             max_delta_step=None, max_depth=None, max_leaves=None,\n",
              "             min_child_weight=None, missing=nan, monotone_constraints=None,\n",
              "             n_estimators=100, n_jobs=None, num_parallel_tree=None,\n",
              "             predictor=None, random_state=None, ...)</pre></div></div></div></div></div></div></div></div></div></div></div></div>"
            ],
            "text/plain": [
              "BayesSearchCV(cv=3,\n",
              "              estimator=Pipeline(steps=[('rfe',\n",
              "                                         RFE(estimator=XGBRegressor(base_score=None,\n",
              "                                                                    booster=None,\n",
              "                                                                    callbacks=None,\n",
              "                                                                    colsample_bylevel=None,\n",
              "                                                                    colsample_bynode=None,\n",
              "                                                                    colsample_bytree=None,\n",
              "                                                                    early_stopping_rounds=None,\n",
              "                                                                    enable_categorical=False,\n",
              "                                                                    eval_metric=None,\n",
              "                                                                    feature_types=None,\n",
              "                                                                    gamma=None,\n",
              "                                                                    gpu_id=None,\n",
              "                                                                    grow_policy=None,\n",
              "                                                                    importance_type=None,\n",
              "                                                                    interaction...\n",
              "                             'xgb__gamma': Real(low=0, high=2000, prior='uniform', transform='normalize'),\n",
              "                             'xgb__learning_rate': Real(low=0, high=1, prior='uniform', transform='normalize'),\n",
              "                             'xgb__max_depth': Integer(low=2, high=8, prior='uniform', transform='normalize'),\n",
              "                             'xgb__n_estimators': Integer(low=1, high=500, prior='uniform', transform='normalize'),\n",
              "                             'xgb__reg_lambda': Integer(low=1, high=200, prior='uniform', transform='normalize')},\n",
              "              verbose=1)"
            ]
          },
          "execution_count": 54,
          "metadata": {},
          "output_type": "execute_result"
        }
      ],
      "source": [
        "# Fit the BayesSearchCV to the training data\n",
        "xgb_bs_cv.fit(X_train, y_train)\n"
      ]
    },
    {
      "cell_type": "markdown",
      "id": "8051675f",
      "metadata": {
        "id": "8051675f"
      },
      "source": [
        "### **Model evaluation**"
      ]
    },
    {
      "cell_type": "markdown",
      "id": "b1b0414a",
      "metadata": {
        "id": "b1b0414a"
      },
      "source": [
        "- Let's first look at how each parameter set performed across each fold. Each record in the dataset corresponds to a parameter set that was tested. We rank by `rank_test_score` to ensure the best performing parameter set is shown at the top:"
      ]
    },
    {
      "cell_type": "code",
      "execution_count": null,
      "id": "75f8c9e3",
      "metadata": {
        "id": "75f8c9e3"
      },
      "outputs": [],
      "source": [
        "# Create a DataFrame from the cross-validation results and sort it by the rank of the test score\n",
        "cv_results = pd.DataFrame(xgb_bs_cv.cv_results_).sort_values('rank_test_score')\n"
      ]
    },
    {
      "cell_type": "code",
      "execution_count": null,
      "id": "177b09eb",
      "metadata": {
        "id": "177b09eb",
        "outputId": "1adb32a7-0db7-45a4-c547-247cc44c86ee"
      },
      "outputs": [
        {
          "data": {
            "text/html": [
              "<div>\n",
              "<style scoped>\n",
              "    .dataframe tbody tr th:only-of-type {\n",
              "        vertical-align: middle;\n",
              "    }\n",
              "\n",
              "    .dataframe tbody tr th {\n",
              "        vertical-align: top;\n",
              "    }\n",
              "\n",
              "    .dataframe thead th {\n",
              "        text-align: right;\n",
              "    }\n",
              "</style>\n",
              "<table border=\"1\" class=\"dataframe\">\n",
              "  <thead>\n",
              "    <tr style=\"text-align: right;\">\n",
              "      <th></th>\n",
              "      <th>mean_fit_time</th>\n",
              "      <th>std_fit_time</th>\n",
              "      <th>mean_score_time</th>\n",
              "      <th>std_score_time</th>\n",
              "      <th>param_rfe__n_features_to_select</th>\n",
              "      <th>param_xgb__gamma</th>\n",
              "      <th>param_xgb__learning_rate</th>\n",
              "      <th>param_xgb__max_depth</th>\n",
              "      <th>param_xgb__n_estimators</th>\n",
              "      <th>param_xgb__reg_lambda</th>\n",
              "      <th>params</th>\n",
              "      <th>split0_test_score</th>\n",
              "      <th>split1_test_score</th>\n",
              "      <th>split2_test_score</th>\n",
              "      <th>mean_test_score</th>\n",
              "      <th>std_test_score</th>\n",
              "      <th>rank_test_score</th>\n",
              "    </tr>\n",
              "  </thead>\n",
              "  <tbody>\n",
              "    <tr>\n",
              "      <th>74</th>\n",
              "      <td>0.210413</td>\n",
              "      <td>0.007992</td>\n",
              "      <td>0.003452</td>\n",
              "      <td>0.000428</td>\n",
              "      <td>9</td>\n",
              "      <td>81.030708</td>\n",
              "      <td>0.300229</td>\n",
              "      <td>2</td>\n",
              "      <td>28</td>\n",
              "      <td>1</td>\n",
              "      <td>{'rfe__n_features_to_select': 9, 'xgb__gamma':...</td>\n",
              "      <td>-4002.016332</td>\n",
              "      <td>-4887.256613</td>\n",
              "      <td>-4752.861776</td>\n",
              "      <td>-4547.378240</td>\n",
              "      <td>389.512688</td>\n",
              "      <td>1</td>\n",
              "    </tr>\n",
              "    <tr>\n",
              "      <th>70</th>\n",
              "      <td>0.198634</td>\n",
              "      <td>0.021934</td>\n",
              "      <td>0.002215</td>\n",
              "      <td>0.000316</td>\n",
              "      <td>9</td>\n",
              "      <td>768.940056</td>\n",
              "      <td>0.309929</td>\n",
              "      <td>2</td>\n",
              "      <td>28</td>\n",
              "      <td>7</td>\n",
              "      <td>{'rfe__n_features_to_select': 9, 'xgb__gamma':...</td>\n",
              "      <td>-4051.695356</td>\n",
              "      <td>-4882.385226</td>\n",
              "      <td>-4789.933237</td>\n",
              "      <td>-4574.671273</td>\n",
              "      <td>371.720953</td>\n",
              "      <td>2</td>\n",
              "    </tr>\n",
              "    <tr>\n",
              "      <th>73</th>\n",
              "      <td>0.216079</td>\n",
              "      <td>0.010115</td>\n",
              "      <td>0.003029</td>\n",
              "      <td>0.000815</td>\n",
              "      <td>9</td>\n",
              "      <td>126.308767</td>\n",
              "      <td>0.280953</td>\n",
              "      <td>2</td>\n",
              "      <td>28</td>\n",
              "      <td>17</td>\n",
              "      <td>{'rfe__n_features_to_select': 9, 'xgb__gamma':...</td>\n",
              "      <td>-4032.121367</td>\n",
              "      <td>-4892.800005</td>\n",
              "      <td>-4815.258773</td>\n",
              "      <td>-4580.060048</td>\n",
              "      <td>388.742211</td>\n",
              "      <td>3</td>\n",
              "    </tr>\n",
              "    <tr>\n",
              "      <th>44</th>\n",
              "      <td>0.180053</td>\n",
              "      <td>0.017219</td>\n",
              "      <td>0.004374</td>\n",
              "      <td>0.001330</td>\n",
              "      <td>10</td>\n",
              "      <td>716.433044</td>\n",
              "      <td>0.130805</td>\n",
              "      <td>3</td>\n",
              "      <td>157</td>\n",
              "      <td>173</td>\n",
              "      <td>{'rfe__n_features_to_select': 10, 'xgb__gamma'...</td>\n",
              "      <td>-4094.673399</td>\n",
              "      <td>-4855.374625</td>\n",
              "      <td>-4824.489405</td>\n",
              "      <td>-4591.512476</td>\n",
              "      <td>351.544474</td>\n",
              "      <td>4</td>\n",
              "    </tr>\n",
              "    <tr>\n",
              "      <th>69</th>\n",
              "      <td>0.196313</td>\n",
              "      <td>0.008375</td>\n",
              "      <td>0.003671</td>\n",
              "      <td>0.002012</td>\n",
              "      <td>9</td>\n",
              "      <td>0.0</td>\n",
              "      <td>0.293332</td>\n",
              "      <td>2</td>\n",
              "      <td>26</td>\n",
              "      <td>14</td>\n",
              "      <td>{'rfe__n_features_to_select': 9, 'xgb__gamma':...</td>\n",
              "      <td>-4081.095245</td>\n",
              "      <td>-4873.125324</td>\n",
              "      <td>-4823.719190</td>\n",
              "      <td>-4592.646586</td>\n",
              "      <td>362.283336</td>\n",
              "      <td>5</td>\n",
              "    </tr>\n",
              "    <tr>\n",
              "      <th>...</th>\n",
              "      <td>...</td>\n",
              "      <td>...</td>\n",
              "      <td>...</td>\n",
              "      <td>...</td>\n",
              "      <td>...</td>\n",
              "      <td>...</td>\n",
              "      <td>...</td>\n",
              "      <td>...</td>\n",
              "      <td>...</td>\n",
              "      <td>...</td>\n",
              "      <td>...</td>\n",
              "      <td>...</td>\n",
              "      <td>...</td>\n",
              "      <td>...</td>\n",
              "      <td>...</td>\n",
              "      <td>...</td>\n",
              "      <td>...</td>\n",
              "    </tr>\n",
              "    <tr>\n",
              "      <th>14</th>\n",
              "      <td>0.547277</td>\n",
              "      <td>0.009183</td>\n",
              "      <td>0.002193</td>\n",
              "      <td>0.000246</td>\n",
              "      <td>1</td>\n",
              "      <td>312.876301</td>\n",
              "      <td>0.896333</td>\n",
              "      <td>6</td>\n",
              "      <td>167</td>\n",
              "      <td>1</td>\n",
              "      <td>{'rfe__n_features_to_select': 1, 'xgb__gamma':...</td>\n",
              "      <td>-7471.995189</td>\n",
              "      <td>-7831.681382</td>\n",
              "      <td>-7536.859234</td>\n",
              "      <td>-7613.511935</td>\n",
              "      <td>156.525327</td>\n",
              "      <td>71</td>\n",
              "    </tr>\n",
              "    <tr>\n",
              "      <th>52</th>\n",
              "      <td>0.565069</td>\n",
              "      <td>0.006403</td>\n",
              "      <td>0.006119</td>\n",
              "      <td>0.001845</td>\n",
              "      <td>1</td>\n",
              "      <td>0.0</td>\n",
              "      <td>0.116112</td>\n",
              "      <td>2</td>\n",
              "      <td>50</td>\n",
              "      <td>197</td>\n",
              "      <td>{'rfe__n_features_to_select': 1, 'xgb__gamma':...</td>\n",
              "      <td>-7813.962203</td>\n",
              "      <td>-7678.661159</td>\n",
              "      <td>-7800.483816</td>\n",
              "      <td>-7764.369059</td>\n",
              "      <td>60.853923</td>\n",
              "      <td>72</td>\n",
              "    </tr>\n",
              "    <tr>\n",
              "      <th>12</th>\n",
              "      <td>0.308633</td>\n",
              "      <td>0.009048</td>\n",
              "      <td>0.002503</td>\n",
              "      <td>0.000407</td>\n",
              "      <td>7</td>\n",
              "      <td>518.15103</td>\n",
              "      <td>0.724904</td>\n",
              "      <td>2</td>\n",
              "      <td>1</td>\n",
              "      <td>50</td>\n",
              "      <td>{'rfe__n_features_to_select': 7, 'xgb__gamma':...</td>\n",
              "      <td>-11053.574485</td>\n",
              "      <td>-9677.749284</td>\n",
              "      <td>-10559.356993</td>\n",
              "      <td>-10430.226921</td>\n",
              "      <td>569.051654</td>\n",
              "      <td>73</td>\n",
              "    </tr>\n",
              "    <tr>\n",
              "      <th>19</th>\n",
              "      <td>0.360109</td>\n",
              "      <td>0.003769</td>\n",
              "      <td>0.002882</td>\n",
              "      <td>0.000234</td>\n",
              "      <td>6</td>\n",
              "      <td>1015.590087</td>\n",
              "      <td>0.647677</td>\n",
              "      <td>2</td>\n",
              "      <td>1</td>\n",
              "      <td>54</td>\n",
              "      <td>{'rfe__n_features_to_select': 6, 'xgb__gamma':...</td>\n",
              "      <td>-11955.230131</td>\n",
              "      <td>-10462.304749</td>\n",
              "      <td>-11375.061083</td>\n",
              "      <td>-11264.198654</td>\n",
              "      <td>614.504900</td>\n",
              "      <td>74</td>\n",
              "    </tr>\n",
              "    <tr>\n",
              "      <th>10</th>\n",
              "      <td>0.071094</td>\n",
              "      <td>0.005889</td>\n",
              "      <td>0.003045</td>\n",
              "      <td>0.001521</td>\n",
              "      <td>11</td>\n",
              "      <td>711.798963</td>\n",
              "      <td>0.308168</td>\n",
              "      <td>2</td>\n",
              "      <td>1</td>\n",
              "      <td>187</td>\n",
              "      <td>{'rfe__n_features_to_select': 11, 'xgb__gamma'...</td>\n",
              "      <td>-16874.786608</td>\n",
              "      <td>-14897.826640</td>\n",
              "      <td>-15726.175854</td>\n",
              "      <td>-15832.929701</td>\n",
              "      <td>810.612923</td>\n",
              "      <td>75</td>\n",
              "    </tr>\n",
              "  </tbody>\n",
              "</table>\n",
              "<p>75 rows × 17 columns</p>\n",
              "</div>"
            ],
            "text/plain": [
              "    mean_fit_time  std_fit_time  mean_score_time  std_score_time  \\\n",
              "74       0.210413      0.007992         0.003452        0.000428   \n",
              "70       0.198634      0.021934         0.002215        0.000316   \n",
              "73       0.216079      0.010115         0.003029        0.000815   \n",
              "44       0.180053      0.017219         0.004374        0.001330   \n",
              "69       0.196313      0.008375         0.003671        0.002012   \n",
              "..            ...           ...              ...             ...   \n",
              "14       0.547277      0.009183         0.002193        0.000246   \n",
              "52       0.565069      0.006403         0.006119        0.001845   \n",
              "12       0.308633      0.009048         0.002503        0.000407   \n",
              "19       0.360109      0.003769         0.002882        0.000234   \n",
              "10       0.071094      0.005889         0.003045        0.001521   \n",
              "\n",
              "   param_rfe__n_features_to_select param_xgb__gamma param_xgb__learning_rate  \\\n",
              "74                               9        81.030708                 0.300229   \n",
              "70                               9       768.940056                 0.309929   \n",
              "73                               9       126.308767                 0.280953   \n",
              "44                              10       716.433044                 0.130805   \n",
              "69                               9              0.0                 0.293332   \n",
              "..                             ...              ...                      ...   \n",
              "14                               1       312.876301                 0.896333   \n",
              "52                               1              0.0                 0.116112   \n",
              "12                               7        518.15103                 0.724904   \n",
              "19                               6      1015.590087                 0.647677   \n",
              "10                              11       711.798963                 0.308168   \n",
              "\n",
              "   param_xgb__max_depth param_xgb__n_estimators param_xgb__reg_lambda  \\\n",
              "74                    2                      28                     1   \n",
              "70                    2                      28                     7   \n",
              "73                    2                      28                    17   \n",
              "44                    3                     157                   173   \n",
              "69                    2                      26                    14   \n",
              "..                  ...                     ...                   ...   \n",
              "14                    6                     167                     1   \n",
              "52                    2                      50                   197   \n",
              "12                    2                       1                    50   \n",
              "19                    2                       1                    54   \n",
              "10                    2                       1                   187   \n",
              "\n",
              "                                               params  split0_test_score  \\\n",
              "74  {'rfe__n_features_to_select': 9, 'xgb__gamma':...       -4002.016332   \n",
              "70  {'rfe__n_features_to_select': 9, 'xgb__gamma':...       -4051.695356   \n",
              "73  {'rfe__n_features_to_select': 9, 'xgb__gamma':...       -4032.121367   \n",
              "44  {'rfe__n_features_to_select': 10, 'xgb__gamma'...       -4094.673399   \n",
              "69  {'rfe__n_features_to_select': 9, 'xgb__gamma':...       -4081.095245   \n",
              "..                                                ...                ...   \n",
              "14  {'rfe__n_features_to_select': 1, 'xgb__gamma':...       -7471.995189   \n",
              "52  {'rfe__n_features_to_select': 1, 'xgb__gamma':...       -7813.962203   \n",
              "12  {'rfe__n_features_to_select': 7, 'xgb__gamma':...      -11053.574485   \n",
              "19  {'rfe__n_features_to_select': 6, 'xgb__gamma':...      -11955.230131   \n",
              "10  {'rfe__n_features_to_select': 11, 'xgb__gamma'...      -16874.786608   \n",
              "\n",
              "    split1_test_score  split2_test_score  mean_test_score  std_test_score  \\\n",
              "74       -4887.256613       -4752.861776     -4547.378240      389.512688   \n",
              "70       -4882.385226       -4789.933237     -4574.671273      371.720953   \n",
              "73       -4892.800005       -4815.258773     -4580.060048      388.742211   \n",
              "44       -4855.374625       -4824.489405     -4591.512476      351.544474   \n",
              "69       -4873.125324       -4823.719190     -4592.646586      362.283336   \n",
              "..                ...                ...              ...             ...   \n",
              "14       -7831.681382       -7536.859234     -7613.511935      156.525327   \n",
              "52       -7678.661159       -7800.483816     -7764.369059       60.853923   \n",
              "12       -9677.749284      -10559.356993    -10430.226921      569.051654   \n",
              "19      -10462.304749      -11375.061083    -11264.198654      614.504900   \n",
              "10      -14897.826640      -15726.175854    -15832.929701      810.612923   \n",
              "\n",
              "    rank_test_score  \n",
              "74                1  \n",
              "70                2  \n",
              "73                3  \n",
              "44                4  \n",
              "69                5  \n",
              "..              ...  \n",
              "14               71  \n",
              "52               72  \n",
              "12               73  \n",
              "19               74  \n",
              "10               75  \n",
              "\n",
              "[75 rows x 17 columns]"
            ]
          },
          "execution_count": 56,
          "metadata": {},
          "output_type": "execute_result"
        }
      ],
      "source": [
        "cv_results"
      ]
    },
    {
      "cell_type": "markdown",
      "id": "ea038ebb",
      "metadata": {
        "id": "ea038ebb"
      },
      "source": [
        "- Now, let's generate predictions on both our training and test sets using the model trained with our best performing parameters:"
      ]
    },
    {
      "cell_type": "code",
      "execution_count": null,
      "id": "5fb6a181",
      "metadata": {
        "id": "5fb6a181"
      },
      "outputs": [],
      "source": [
        "# Make predictions on the training data using the XGBoost model from BayesSearchCV\n",
        "y_pred_train_xgb = xgb_bs_cv.predict(X_train)\n",
        "\n",
        "# Make predictions on the testing data using the XGBoost model from BayesSearchCV\n",
        "y_pred_test_xgb = xgb_bs_cv.predict(X_test)\n"
      ]
    },
    {
      "cell_type": "markdown",
      "id": "a9ca16ae",
      "metadata": {
        "id": "a9ca16ae"
      },
      "source": [
        "- With our predictions, we can evaluate our model:"
      ]
    },
    {
      "cell_type": "code",
      "execution_count": null,
      "id": "df24d519",
      "metadata": {
        "id": "df24d519"
      },
      "outputs": [],
      "source": [
        "# Calculate the performance metrics for the training data predictions using a custom function\n",
        "xgb_perf_train = calc_model_performance(y_train, y_pred_train_xgb)\n"
      ]
    },
    {
      "cell_type": "code",
      "execution_count": null,
      "id": "d881dcdd",
      "metadata": {
        "id": "d881dcdd",
        "outputId": "88af37c6-ca2a-4a81-b6f6-3429e78c7db8"
      },
      "outputs": [
        {
          "data": {
            "text/plain": [
              "{'Root Mean Squared Error': 4186.661638235022,\n",
              " 'Mean Squared Error': 17528135.673068758,\n",
              " 'Mean Absolute Error': 2326.2427185848564,\n",
              " 'Mean Absolute Percentage Error': 0.2666692801056923,\n",
              " 'R Squared': 0.8803586720883821}"
            ]
          },
          "execution_count": 59,
          "metadata": {},
          "output_type": "execute_result"
        }
      ],
      "source": [
        "xgb_perf_train"
      ]
    },
    {
      "cell_type": "code",
      "execution_count": null,
      "id": "c8c89d00",
      "metadata": {
        "id": "c8c89d00"
      },
      "outputs": [],
      "source": [
        "# Calculate the performance metrics for the testing data predictions using a custom function\n",
        "xgb_perf_test = calc_model_performance(y_test, y_pred_test_xgb)\n"
      ]
    },
    {
      "cell_type": "code",
      "execution_count": null,
      "id": "a6d8f897",
      "metadata": {
        "id": "a6d8f897",
        "outputId": "5821d2d0-5ad8-43e6-a2d6-a6ef6f37e72e"
      },
      "outputs": [
        {
          "data": {
            "text/plain": [
              "{'Root Mean Squared Error': 4466.904446257581,\n",
              " 'Mean Squared Error': 19953235.331995748,\n",
              " 'Mean Absolute Error': 2483.459321456837,\n",
              " 'Mean Absolute Percentage Error': 0.28813330823252775,\n",
              " 'R Squared': 0.8638419449153072}"
            ]
          },
          "execution_count": 61,
          "metadata": {},
          "output_type": "execute_result"
        }
      ],
      "source": [
        "xgb_perf_test"
      ]
    },
    {
      "cell_type": "markdown",
      "id": "1b995f56",
      "metadata": {
        "id": "1b995f56"
      },
      "source": [
        "## **Comparison to the baseline model**"
      ]
    },
    {
      "cell_type": "markdown",
      "id": "fb642016",
      "metadata": {
        "id": "fb642016"
      },
      "source": [
        "#### Compare evaluation metrics"
      ]
    },
    {
      "cell_type": "code",
      "execution_count": null,
      "id": "172392bd",
      "metadata": {
        "id": "172392bd"
      },
      "outputs": [],
      "source": [
        "# Compare model performance for training data\n",
        "perf_comp_train = compare_model_performance(base_perf_train, xgb_perf_train)\n",
        "\n",
        "# Compare model performance for test data\n",
        "perf_comp_test = compare_model_performance(base_perf_test, xgb_perf_test)\n"
      ]
    },
    {
      "cell_type": "code",
      "execution_count": null,
      "id": "630aeb8a",
      "metadata": {
        "id": "630aeb8a",
        "outputId": "0b00f167-62cb-4aac-e4c7-508f2011d029"
      },
      "outputs": [
        {
          "data": {
            "text/html": [
              "<div>\n",
              "<style scoped>\n",
              "    .dataframe tbody tr th:only-of-type {\n",
              "        vertical-align: middle;\n",
              "    }\n",
              "\n",
              "    .dataframe tbody tr th {\n",
              "        vertical-align: top;\n",
              "    }\n",
              "\n",
              "    .dataframe thead th {\n",
              "        text-align: right;\n",
              "    }\n",
              "</style>\n",
              "<table border=\"1\" class=\"dataframe\">\n",
              "  <thead>\n",
              "    <tr style=\"text-align: right;\">\n",
              "      <th></th>\n",
              "      <th>base</th>\n",
              "      <th>new</th>\n",
              "      <th>abs_improvement</th>\n",
              "      <th>perc_improvement</th>\n",
              "    </tr>\n",
              "  </thead>\n",
              "  <tbody>\n",
              "    <tr>\n",
              "      <th>Root Mean Squared Error</th>\n",
              "      <td>5964.03</td>\n",
              "      <td>4186.66</td>\n",
              "      <td>-1777.37</td>\n",
              "      <td>-29.80</td>\n",
              "    </tr>\n",
              "    <tr>\n",
              "      <th>Mean Squared Error</th>\n",
              "      <td>35569654.79</td>\n",
              "      <td>17528135.67</td>\n",
              "      <td>-18041519.12</td>\n",
              "      <td>-50.72</td>\n",
              "    </tr>\n",
              "    <tr>\n",
              "      <th>Mean Absolute Error</th>\n",
              "      <td>4583.19</td>\n",
              "      <td>2326.24</td>\n",
              "      <td>-2256.95</td>\n",
              "      <td>-49.24</td>\n",
              "    </tr>\n",
              "    <tr>\n",
              "      <th>Mean Absolute Percentage Error</th>\n",
              "      <td>0.75</td>\n",
              "      <td>0.27</td>\n",
              "      <td>-0.48</td>\n",
              "      <td>-64.00</td>\n",
              "    </tr>\n",
              "    <tr>\n",
              "      <th>R Squared</th>\n",
              "      <td>0.76</td>\n",
              "      <td>0.88</td>\n",
              "      <td>0.12</td>\n",
              "      <td>15.79</td>\n",
              "    </tr>\n",
              "  </tbody>\n",
              "</table>\n",
              "</div>"
            ],
            "text/plain": [
              "                                       base          new  abs_improvement  \\\n",
              "Root Mean Squared Error             5964.03      4186.66         -1777.37   \n",
              "Mean Squared Error              35569654.79  17528135.67     -18041519.12   \n",
              "Mean Absolute Error                 4583.19      2326.24         -2256.95   \n",
              "Mean Absolute Percentage Error         0.75         0.27            -0.48   \n",
              "R Squared                              0.76         0.88             0.12   \n",
              "\n",
              "                                perc_improvement  \n",
              "Root Mean Squared Error                   -29.80  \n",
              "Mean Squared Error                        -50.72  \n",
              "Mean Absolute Error                       -49.24  \n",
              "Mean Absolute Percentage Error            -64.00  \n",
              "R Squared                                  15.79  "
            ]
          },
          "execution_count": 63,
          "metadata": {},
          "output_type": "execute_result"
        }
      ],
      "source": [
        "perf_comp_train"
      ]
    },
    {
      "cell_type": "code",
      "execution_count": null,
      "id": "5f3314a3",
      "metadata": {
        "id": "5f3314a3",
        "outputId": "d6b2cad6-7ea8-401d-e73d-a3087894a449"
      },
      "outputs": [
        {
          "data": {
            "text/html": [
              "<div>\n",
              "<style scoped>\n",
              "    .dataframe tbody tr th:only-of-type {\n",
              "        vertical-align: middle;\n",
              "    }\n",
              "\n",
              "    .dataframe tbody tr th {\n",
              "        vertical-align: top;\n",
              "    }\n",
              "\n",
              "    .dataframe thead th {\n",
              "        text-align: right;\n",
              "    }\n",
              "</style>\n",
              "<table border=\"1\" class=\"dataframe\">\n",
              "  <thead>\n",
              "    <tr style=\"text-align: right;\">\n",
              "      <th></th>\n",
              "      <th>base</th>\n",
              "      <th>new</th>\n",
              "      <th>abs_improvement</th>\n",
              "      <th>perc_improvement</th>\n",
              "    </tr>\n",
              "  </thead>\n",
              "  <tbody>\n",
              "    <tr>\n",
              "      <th>Root Mean Squared Error</th>\n",
              "      <td>5752.48</td>\n",
              "      <td>4466.90</td>\n",
              "      <td>-1285.58</td>\n",
              "      <td>-22.35</td>\n",
              "    </tr>\n",
              "    <tr>\n",
              "      <th>Mean Squared Error</th>\n",
              "      <td>33090996.22</td>\n",
              "      <td>19953235.33</td>\n",
              "      <td>-13137760.89</td>\n",
              "      <td>-39.70</td>\n",
              "    </tr>\n",
              "    <tr>\n",
              "      <th>Mean Absolute Error</th>\n",
              "      <td>4534.42</td>\n",
              "      <td>2483.46</td>\n",
              "      <td>-2050.96</td>\n",
              "      <td>-45.23</td>\n",
              "    </tr>\n",
              "    <tr>\n",
              "      <th>Mean Absolute Percentage Error</th>\n",
              "      <td>0.76</td>\n",
              "      <td>0.29</td>\n",
              "      <td>-0.47</td>\n",
              "      <td>-61.84</td>\n",
              "    </tr>\n",
              "    <tr>\n",
              "      <th>R Squared</th>\n",
              "      <td>0.77</td>\n",
              "      <td>0.86</td>\n",
              "      <td>0.09</td>\n",
              "      <td>11.69</td>\n",
              "    </tr>\n",
              "  </tbody>\n",
              "</table>\n",
              "</div>"
            ],
            "text/plain": [
              "                                       base          new  abs_improvement  \\\n",
              "Root Mean Squared Error             5752.48      4466.90         -1285.58   \n",
              "Mean Squared Error              33090996.22  19953235.33     -13137760.89   \n",
              "Mean Absolute Error                 4534.42      2483.46         -2050.96   \n",
              "Mean Absolute Percentage Error         0.76         0.29            -0.47   \n",
              "R Squared                              0.77         0.86             0.09   \n",
              "\n",
              "                                perc_improvement  \n",
              "Root Mean Squared Error                   -22.35  \n",
              "Mean Squared Error                        -39.70  \n",
              "Mean Absolute Error                       -45.23  \n",
              "Mean Absolute Percentage Error            -61.84  \n",
              "R Squared                                  11.69  "
            ]
          },
          "execution_count": 64,
          "metadata": {},
          "output_type": "execute_result"
        }
      ],
      "source": [
        "perf_comp_test"
      ]
    },
    {
      "cell_type": "markdown",
      "id": "79c4d209",
      "metadata": {
        "id": "79c4d209"
      },
      "source": [
        "- **We can observe a significant decrease the errors and an increase in the $R^2$ value for the XGBoost model.**\n",
        "\n",
        "- **Most importantly, the RMSE (our model evaluation metric that we defined at the beginning of the exercise) has decreased by ~22% on the test set!**"
      ]
    },
    {
      "cell_type": "markdown",
      "id": "7cfd7ab9",
      "metadata": {
        "id": "7cfd7ab9"
      },
      "source": [
        "---"
      ]
    },
    {
      "cell_type": "markdown",
      "id": "780e628e",
      "metadata": {
        "id": "780e628e"
      },
      "source": [
        "## **Presenting the results to non-technical stakeholders**"
      ]
    },
    {
      "cell_type": "markdown",
      "id": "6f785167",
      "metadata": {
        "id": "6f785167"
      },
      "source": [
        "- We often need to communicate the performance of a model to non-technical stakeholders. This means metrics like RMSE aren't very useful as they're not intuitive. \n",
        "\n",
        "- Instead, let's show what percentage of our model's predictions are within a certain range of the actual `charges` value. \n",
        "\n",
        "- For example, the percentage of our model's predictions (on the test set) that are within $2000 of the actual `charges` value is:"
      ]
    },
    {
      "cell_type": "code",
      "execution_count": null,
      "id": "81a0bb66",
      "metadata": {
        "id": "81a0bb66",
        "outputId": "c99ceed6-c23a-47d7-c07a-b9b1262cef08"
      },
      "outputs": [
        {
          "data": {
            "text/plain": [
              "65.61085972850678"
            ]
          },
          "execution_count": 65,
          "metadata": {},
          "output_type": "execute_result"
        }
      ],
      "source": [
        "# Calculate predictions within a residual range for the test data\n",
        "calc_preds_in_residual_range(\n",
        "    y_true=y_test,  \n",
        "    y_pred=y_pred_test_xgb,  # Predicted values from the XGBoost model for the test data\n",
        "    range_=2000  # The specified residual range for which predictions are calculated\n",
        ")\n"
      ]
    },
    {
      "cell_type": "markdown",
      "id": "b611e65b",
      "metadata": {
        "id": "b611e65b"
      },
      "source": [
        "- We can also show what percentage of our model's predictions are within a certain *percentage* of the actual `charges` value.\n",
        "\n",
        "- For example, the percentage our model's predictions (on the test set) that are within 20% of the actual `charges` value is:"
      ]
    },
    {
      "cell_type": "code",
      "execution_count": null,
      "id": "5f9873a9",
      "metadata": {
        "id": "5f9873a9",
        "outputId": "bf78b35f-be03-4953-8498-1d23065aa2b5"
      },
      "outputs": [
        {
          "data": {
            "text/plain": [
              "53.39366515837104"
            ]
          },
          "execution_count": 66,
          "metadata": {},
          "output_type": "execute_result"
        }
      ],
      "source": [
        "# Calculate predictions within a percentage range\n",
        "calc_preds_in_residual_perc_range(y_true=y_test, y_pred=y_pred_test_xgb, perc_range=20)\n"
      ]
    },
    {
      "cell_type": "markdown",
      "id": "jdo5kae1OQB8",
      "metadata": {
        "id": "jdo5kae1OQB8"
      },
      "source": [
        "## **Conclusion**\n",
        " \n",
        "- We understood the importance of machine learning in insurance pricing forecast.\n",
        " \n",
        "- We learned about XGBoost algorithm in detail and understood how to implement it with sklearn's pipeline object and bayesian optimization.\n",
        " \n",
        "- We also learned how to communicate the performance of a model to non-technical stakeholders."
      ]
    },
    {
      "cell_type": "markdown",
      "id": "e1f0b590",
      "metadata": {},
      "source": [
        "---"
      ]
    },
    {
      "cell_type": "code",
      "execution_count": null,
      "id": "74cf63ba",
      "metadata": {},
      "outputs": [],
      "source": []
    }
  ],
  "metadata": {
    "colab": {
      "provenance": []
    },
    "kernelspec": {
      "display_name": "envj",
      "language": "python",
      "name": "python3"
    },
    "language_info": {
      "codemirror_mode": {
        "name": "ipython",
        "version": 3
      },
      "file_extension": ".py",
      "mimetype": "text/x-python",
      "name": "python",
      "nbconvert_exporter": "python",
      "pygments_lexer": "ipython3",
      "version": "3.8.10 (tags/v3.8.10:3d8993a, May  3 2021, 11:48:03) [MSC v.1928 64 bit (AMD64)]"
    },
    "toc": {
      "base_numbering": 1,
      "nav_menu": {},
      "number_sections": true,
      "sideBar": true,
      "skip_h1_title": false,
      "title_cell": "Table of Contents",
      "title_sidebar": "Contents",
      "toc_cell": false,
      "toc_position": {},
      "toc_section_display": true,
      "toc_window_display": false
    },
    "varInspector": {
      "cols": {
        "lenName": 16,
        "lenType": 16,
        "lenVar": 40
      },
      "kernels_config": {
        "python": {
          "delete_cmd_postfix": "",
          "delete_cmd_prefix": "del ",
          "library": "var_list.py",
          "varRefreshCmd": "print(var_dic_list())"
        },
        "r": {
          "delete_cmd_postfix": ") ",
          "delete_cmd_prefix": "rm(",
          "library": "var_list.r",
          "varRefreshCmd": "cat(var_dic_list()) "
        }
      },
      "types_to_exclude": [
        "module",
        "function",
        "builtin_function_or_method",
        "instance",
        "_Feature"
      ],
      "window_display": false
    },
    "vscode": {
      "interpreter": {
        "hash": "a892490c30cdbd20c14ae4cd945e37f912dbff397ecaedb4de3e6d397dae74f6"
      }
    }
  },
  "nbformat": 4,
  "nbformat_minor": 5
}
